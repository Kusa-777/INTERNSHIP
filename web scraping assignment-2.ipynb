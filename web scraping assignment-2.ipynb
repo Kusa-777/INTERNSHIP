{
 "cells": [
  {
   "cell_type": "code",
   "execution_count": 15,
   "id": "4d79357f",
   "metadata": {},
   "outputs": [
    {
     "name": "stdout",
     "output_type": "stream",
     "text": [
      "Requirement already satisfied: selenium in c:\\programdata\\anaconda3\\lib\\site-packages (4.1.5)\n",
      "Requirement already satisfied: trio-websocket~=0.9 in c:\\programdata\\anaconda3\\lib\\site-packages (from selenium) (0.9.2)\n",
      "Requirement already satisfied: urllib3[secure,socks]~=1.26 in c:\\programdata\\anaconda3\\lib\\site-packages (from selenium) (1.26.7)\n",
      "Requirement already satisfied: trio~=0.17 in c:\\programdata\\anaconda3\\lib\\site-packages (from selenium) (0.20.0)\n",
      "Requirement already satisfied: async-generator>=1.9 in c:\\programdata\\anaconda3\\lib\\site-packages (from trio~=0.17->selenium) (1.10)\n",
      "Requirement already satisfied: cffi>=1.14 in c:\\programdata\\anaconda3\\lib\\site-packages (from trio~=0.17->selenium) (1.14.6)\n",
      "Requirement already satisfied: sniffio in c:\\programdata\\anaconda3\\lib\\site-packages (from trio~=0.17->selenium) (1.2.0)\n",
      "Requirement already satisfied: attrs>=19.2.0 in c:\\programdata\\anaconda3\\lib\\site-packages (from trio~=0.17->selenium) (21.2.0)\n",
      "Requirement already satisfied: idna in c:\\programdata\\anaconda3\\lib\\site-packages (from trio~=0.17->selenium) (3.2)\n",
      "Requirement already satisfied: sortedcontainers in c:\\programdata\\anaconda3\\lib\\site-packages (from trio~=0.17->selenium) (2.4.0)\n",
      "Requirement already satisfied: outcome in c:\\programdata\\anaconda3\\lib\\site-packages (from trio~=0.17->selenium) (1.1.0)\n",
      "Requirement already satisfied: pycparser in c:\\programdata\\anaconda3\\lib\\site-packages (from cffi>=1.14->trio~=0.17->selenium) (2.20)\n",
      "Requirement already satisfied: wsproto>=0.14 in c:\\programdata\\anaconda3\\lib\\site-packages (from trio-websocket~=0.9->selenium) (1.1.0)\n",
      "Requirement already satisfied: pyOpenSSL>=0.14 in c:\\programdata\\anaconda3\\lib\\site-packages (from urllib3[secure,socks]~=1.26->selenium) (21.0.0)\n",
      "Requirement already satisfied: cryptography>=1.3.4 in c:\\programdata\\anaconda3\\lib\\site-packages (from urllib3[secure,socks]~=1.26->selenium) (3.4.8)\n",
      "Requirement already satisfied: certifi in c:\\programdata\\anaconda3\\lib\\site-packages (from urllib3[secure,socks]~=1.26->selenium) (2021.10.8)\n",
      "Requirement already satisfied: PySocks!=1.5.7,<2.0,>=1.5.6 in c:\\programdata\\anaconda3\\lib\\site-packages (from urllib3[secure,socks]~=1.26->selenium) (1.7.1)\n",
      "Requirement already satisfied: six>=1.5.2 in c:\\programdata\\anaconda3\\lib\\site-packages (from pyOpenSSL>=0.14->urllib3[secure,socks]~=1.26->selenium) (1.16.0)\n",
      "Requirement already satisfied: h11<1,>=0.9.0 in c:\\programdata\\anaconda3\\lib\\site-packages (from wsproto>=0.14->trio-websocket~=0.9->selenium) (0.13.0)\n"
     ]
    }
   ],
   "source": [
    "! pip install selenium"
   ]
  },
  {
   "cell_type": "markdown",
   "id": "46f52c1b",
   "metadata": {},
   "source": [
    "\n",
    "# question-1"
   ]
  },
  {
   "cell_type": "code",
   "execution_count": 28,
   "id": "523e7fec",
   "metadata": {},
   "outputs": [],
   "source": [
    "import selenium\n",
    "import pandas as pd\n",
    "from selenium import webdriver\n",
    "import warnings\n",
    "warnings.filterwarnings(\"ignore\")\n",
    "import time"
   ]
  },
  {
   "cell_type": "code",
   "execution_count": 29,
   "id": "27c5209d",
   "metadata": {},
   "outputs": [],
   "source": [
    "driver = webdriver.Chrome(r\"C:\\web driver\\chromedriver.exe\")"
   ]
  },
  {
   "cell_type": "code",
   "execution_count": 30,
   "id": "daa2c50c",
   "metadata": {},
   "outputs": [],
   "source": [
    "driver=webdriver.Chrome(\"chromedriver.exe\")\n",
    "time.sleep(2)\n"
   ]
  },
  {
   "cell_type": "code",
   "execution_count": 27,
   "id": "6071295e",
   "metadata": {},
   "outputs": [],
   "source": [
    "driver.close()"
   ]
  },
  {
   "cell_type": "code",
   "execution_count": 31,
   "id": "32001a05",
   "metadata": {},
   "outputs": [],
   "source": [
    "driver.get('https://www.naukri.com/')"
   ]
  },
  {
   "cell_type": "code",
   "execution_count": 32,
   "id": "1a187c37",
   "metadata": {},
   "outputs": [],
   "source": [
    "search_field_designation=driver.find_element_by_class_name(\"suggestor-input\") #job search bar\n",
    "search_field_designation.send_keys(\"Data Analyst\")\n",
    "search_field_loaction=driver.find_element_by_xpath('/html/body/div/div[2]/div[3]/div/div/div[3]/div/div/div/input') #Location Search bar\n",
    "search_field_loaction.send_keys(\"Bangalore\")"
   ]
  },
  {
   "cell_type": "code",
   "execution_count": 34,
   "id": "aec3769e",
   "metadata": {},
   "outputs": [],
   "source": [
    "url=\"https://www.naukri.com/data-analyst-jobs-in-bangalore?k=data%20analyst&l=bangalore\"\n",
    "\n",
    "driver.get(url)\n",
    "job_titles=[]\n",
    "company_names=[]\n",
    "locations_list=[]\n",
    "experience_list=[]"
   ]
  },
  {
   "cell_type": "code",
   "execution_count": 35,
   "id": "9f73f13e",
   "metadata": {},
   "outputs": [
    {
     "data": {
      "text/plain": [
       "[<selenium.webdriver.remote.webelement.WebElement (session=\"b67461dd5d8195ff089a157dfc5f4cfc\", element=\"150dab7c-b04a-44e2-a454-6b6b8f03c939\")>,\n",
       " <selenium.webdriver.remote.webelement.WebElement (session=\"b67461dd5d8195ff089a157dfc5f4cfc\", element=\"d55d9d0e-d1ee-46d2-a1fd-b56237d4c975\")>,\n",
       " <selenium.webdriver.remote.webelement.WebElement (session=\"b67461dd5d8195ff089a157dfc5f4cfc\", element=\"c09009bb-26de-4a5d-a59b-36ff78a6c5b0\")>,\n",
       " <selenium.webdriver.remote.webelement.WebElement (session=\"b67461dd5d8195ff089a157dfc5f4cfc\", element=\"16b9dc84-f019-49a0-8ebd-5db14357592f\")>,\n",
       " <selenium.webdriver.remote.webelement.WebElement (session=\"b67461dd5d8195ff089a157dfc5f4cfc\", element=\"73b603b6-7168-4ea0-8b03-84331c58063b\")>,\n",
       " <selenium.webdriver.remote.webelement.WebElement (session=\"b67461dd5d8195ff089a157dfc5f4cfc\", element=\"319d6c92-d945-4358-932c-6dac771914d1\")>,\n",
       " <selenium.webdriver.remote.webelement.WebElement (session=\"b67461dd5d8195ff089a157dfc5f4cfc\", element=\"dfc586de-293a-404f-9c2a-995900e443bf\")>,\n",
       " <selenium.webdriver.remote.webelement.WebElement (session=\"b67461dd5d8195ff089a157dfc5f4cfc\", element=\"3a7b679b-e5d2-4d9f-9075-93e6b5aa830d\")>,\n",
       " <selenium.webdriver.remote.webelement.WebElement (session=\"b67461dd5d8195ff089a157dfc5f4cfc\", element=\"0fcebe68-80cb-4e07-94f9-a1ed497e32ac\")>,\n",
       " <selenium.webdriver.remote.webelement.WebElement (session=\"b67461dd5d8195ff089a157dfc5f4cfc\", element=\"22f64247-ec65-4e87-9fac-a57139c50403\")>]"
      ]
     },
     "execution_count": 35,
     "metadata": {},
     "output_type": "execute_result"
    }
   ],
   "source": [
    "titles_tags=driver.find_elements_by_xpath(\"//a[@class='title fw500 ellipsis']\")\n",
    "titles_tags[0:10]"
   ]
  },
  {
   "cell_type": "code",
   "execution_count": 36,
   "id": "abc6a51b",
   "metadata": {},
   "outputs": [
    {
     "data": {
      "text/plain": [
       "['Data Analyst / Business Analyst',\n",
       " 'Data Analyst / Business Analyst',\n",
       " 'data analyst/ data analytics / Business analyst- SQL/Python/SAS',\n",
       " 'Business analyst + data Analysis',\n",
       " 'Data Analyst',\n",
       " 'Associate Professional Data Analyst',\n",
       " 'Business and Data Analyst',\n",
       " 'Senior Data Analyst',\n",
       " 'Senior Data Analyst',\n",
       " 'Data Analyst']"
      ]
     },
     "execution_count": 36,
     "metadata": {},
     "output_type": "execute_result"
    }
   ],
   "source": [
    "for i in titles_tags:\n",
    "    title=i.text\n",
    "    job_titles.append(title)\n",
    "job_titles[0:10]"
   ]
  },
  {
   "cell_type": "code",
   "execution_count": 37,
   "id": "06e8c1dd",
   "metadata": {},
   "outputs": [
    {
     "data": {
      "text/plain": [
       "[<selenium.webdriver.remote.webelement.WebElement (session=\"b67461dd5d8195ff089a157dfc5f4cfc\", element=\"e265a86c-2706-4028-b079-fa2bf8ecb518\")>,\n",
       " <selenium.webdriver.remote.webelement.WebElement (session=\"b67461dd5d8195ff089a157dfc5f4cfc\", element=\"f49fcb3a-be55-4df2-90d2-bc9776f59f55\")>,\n",
       " <selenium.webdriver.remote.webelement.WebElement (session=\"b67461dd5d8195ff089a157dfc5f4cfc\", element=\"46a138a9-7c5f-46ce-94d1-33c4702cbd22\")>,\n",
       " <selenium.webdriver.remote.webelement.WebElement (session=\"b67461dd5d8195ff089a157dfc5f4cfc\", element=\"de40ab39-4d47-4a67-b532-605bb74db013\")>,\n",
       " <selenium.webdriver.remote.webelement.WebElement (session=\"b67461dd5d8195ff089a157dfc5f4cfc\", element=\"30a99485-70ca-441a-8256-eda946be9b08\")>,\n",
       " <selenium.webdriver.remote.webelement.WebElement (session=\"b67461dd5d8195ff089a157dfc5f4cfc\", element=\"4b77229e-9055-42e3-bbc8-fc571316c8ac\")>,\n",
       " <selenium.webdriver.remote.webelement.WebElement (session=\"b67461dd5d8195ff089a157dfc5f4cfc\", element=\"72183935-0f27-431a-896f-a6ea83bebe04\")>,\n",
       " <selenium.webdriver.remote.webelement.WebElement (session=\"b67461dd5d8195ff089a157dfc5f4cfc\", element=\"c960dcc7-7e64-4fa4-b2e4-036d24ee066f\")>,\n",
       " <selenium.webdriver.remote.webelement.WebElement (session=\"b67461dd5d8195ff089a157dfc5f4cfc\", element=\"c2c79cb7-9e59-4a78-af46-6196261f5cf1\")>,\n",
       " <selenium.webdriver.remote.webelement.WebElement (session=\"b67461dd5d8195ff089a157dfc5f4cfc\", element=\"84d7b66d-305f-41f9-b403-013342b1922c\")>]"
      ]
     },
     "execution_count": 37,
     "metadata": {},
     "output_type": "execute_result"
    }
   ],
   "source": [
    "companies_tags=driver.find_elements_by_xpath(\"//a[@class='subTitle ellipsis fleft']\")\n",
    "companies_tags[0:10]"
   ]
  },
  {
   "cell_type": "code",
   "execution_count": 38,
   "id": "07ea8fb1",
   "metadata": {},
   "outputs": [
    {
     "data": {
      "text/plain": [
       "['METRO Cash & Carry',\n",
       " 'METRO Cash & Carry',\n",
       " 'Leading US MNC into Analytics',\n",
       " 'Anlage Infotech (I) Pvt. Ltd.',\n",
       " 'upGrad',\n",
       " 'DXC Technology',\n",
       " 'CAREERDOST ENTERPRISE',\n",
       " 'Flipkart',\n",
       " 'Thomson Reuters',\n",
       " 'referral']"
      ]
     },
     "execution_count": 38,
     "metadata": {},
     "output_type": "execute_result"
    }
   ],
   "source": [
    "for i in companies_tags:\n",
    "    company_name=i.text\n",
    "    company_names.append(company_name)\n",
    "company_names[0:10]"
   ]
  },
  {
   "cell_type": "code",
   "execution_count": 39,
   "id": "2ca3b2fe",
   "metadata": {},
   "outputs": [
    {
     "data": {
      "text/plain": [
       "[<selenium.webdriver.remote.webelement.WebElement (session=\"b67461dd5d8195ff089a157dfc5f4cfc\", element=\"a64bcbdd-e3cb-4c5f-ac40-2381b231da5a\")>,\n",
       " <selenium.webdriver.remote.webelement.WebElement (session=\"b67461dd5d8195ff089a157dfc5f4cfc\", element=\"41860931-ff47-4a41-b8fc-a907849c218c\")>,\n",
       " <selenium.webdriver.remote.webelement.WebElement (session=\"b67461dd5d8195ff089a157dfc5f4cfc\", element=\"d46394a1-3dc0-49f2-a729-437325149648\")>,\n",
       " <selenium.webdriver.remote.webelement.WebElement (session=\"b67461dd5d8195ff089a157dfc5f4cfc\", element=\"8ae0f766-b78d-4d53-b54a-940fe1828ce4\")>,\n",
       " <selenium.webdriver.remote.webelement.WebElement (session=\"b67461dd5d8195ff089a157dfc5f4cfc\", element=\"bdce861b-dee9-4111-9481-834d87de5d1f\")>,\n",
       " <selenium.webdriver.remote.webelement.WebElement (session=\"b67461dd5d8195ff089a157dfc5f4cfc\", element=\"c2c50a65-9e87-4de2-ab62-786f4b70adce\")>,\n",
       " <selenium.webdriver.remote.webelement.WebElement (session=\"b67461dd5d8195ff089a157dfc5f4cfc\", element=\"cea0d2b8-1d7a-4640-a6bb-f730f17216f2\")>,\n",
       " <selenium.webdriver.remote.webelement.WebElement (session=\"b67461dd5d8195ff089a157dfc5f4cfc\", element=\"4fb751ad-7d39-4f79-877e-18ad96b23a40\")>,\n",
       " <selenium.webdriver.remote.webelement.WebElement (session=\"b67461dd5d8195ff089a157dfc5f4cfc\", element=\"f412e054-9397-4dac-8cf6-59ddb3799502\")>,\n",
       " <selenium.webdriver.remote.webelement.WebElement (session=\"b67461dd5d8195ff089a157dfc5f4cfc\", element=\"44d2ede5-f503-471f-b605-6acf3e256fdb\")>]"
      ]
     },
     "execution_count": 39,
     "metadata": {},
     "output_type": "execute_result"
    }
   ],
   "source": [
    "experience_tags=driver.find_elements_by_xpath(\"//li[@class='fleft grey-text br2 placeHolderLi experience']/span[1]\")\n",
    "experience_tags[0:10]"
   ]
  },
  {
   "cell_type": "code",
   "execution_count": 40,
   "id": "a0b64acd",
   "metadata": {},
   "outputs": [
    {
     "data": {
      "text/plain": [
       "['3-8 Yrs',\n",
       " '3-8 Yrs',\n",
       " '2-7 Yrs',\n",
       " '5-10 Yrs',\n",
       " '1-3 Yrs',\n",
       " '3-6 Yrs',\n",
       " '0-5 Yrs',\n",
       " '3-7 Yrs',\n",
       " '2-4 Yrs',\n",
       " '2-5 Yrs']"
      ]
     },
     "execution_count": 40,
     "metadata": {},
     "output_type": "execute_result"
    }
   ],
   "source": [
    "for i in experience_tags:\n",
    "    experience=i.text\n",
    "    experience_list.append(experience)\n",
    "experience_list[0:10]"
   ]
  },
  {
   "cell_type": "code",
   "execution_count": 41,
   "id": "193afa43",
   "metadata": {},
   "outputs": [
    {
     "data": {
      "text/plain": [
       "[<selenium.webdriver.remote.webelement.WebElement (session=\"b67461dd5d8195ff089a157dfc5f4cfc\", element=\"aad9d115-0442-447a-b8b2-0fc7d8efb839\")>,\n",
       " <selenium.webdriver.remote.webelement.WebElement (session=\"b67461dd5d8195ff089a157dfc5f4cfc\", element=\"15da5c1f-a43f-4b5b-8833-d39f282239a9\")>,\n",
       " <selenium.webdriver.remote.webelement.WebElement (session=\"b67461dd5d8195ff089a157dfc5f4cfc\", element=\"70c3eb99-bad5-48fc-9005-eac114398f38\")>,\n",
       " <selenium.webdriver.remote.webelement.WebElement (session=\"b67461dd5d8195ff089a157dfc5f4cfc\", element=\"dcd07287-84a5-45e2-9dbd-05188eaee6d7\")>,\n",
       " <selenium.webdriver.remote.webelement.WebElement (session=\"b67461dd5d8195ff089a157dfc5f4cfc\", element=\"9fb67307-8992-40c2-b06a-d55f3ab82312\")>,\n",
       " <selenium.webdriver.remote.webelement.WebElement (session=\"b67461dd5d8195ff089a157dfc5f4cfc\", element=\"36ac6dc9-33a0-4af3-bf32-01d02e6c1fb1\")>,\n",
       " <selenium.webdriver.remote.webelement.WebElement (session=\"b67461dd5d8195ff089a157dfc5f4cfc\", element=\"75c19cd6-68b2-414a-be99-549713cf8656\")>,\n",
       " <selenium.webdriver.remote.webelement.WebElement (session=\"b67461dd5d8195ff089a157dfc5f4cfc\", element=\"7b788dfe-84c6-4b57-88fb-84af022b93d6\")>,\n",
       " <selenium.webdriver.remote.webelement.WebElement (session=\"b67461dd5d8195ff089a157dfc5f4cfc\", element=\"18183458-c67a-44ff-af91-338f7aa9ea46\")>,\n",
       " <selenium.webdriver.remote.webelement.WebElement (session=\"b67461dd5d8195ff089a157dfc5f4cfc\", element=\"5009dcd5-f407-4e33-b9d8-43abea5b1760\")>]"
      ]
     },
     "execution_count": 41,
     "metadata": {},
     "output_type": "execute_result"
    }
   ],
   "source": [
    "location_tags=driver.find_elements_by_xpath(\"//li[@class='fleft grey-text br2 placeHolderLi location']/span[1]\")\n",
    "location_tags[0:10]"
   ]
  },
  {
   "cell_type": "code",
   "execution_count": 42,
   "id": "6fef3462",
   "metadata": {},
   "outputs": [
    {
     "data": {
      "text/plain": [
       "['Bangalore/Bengaluru',\n",
       " 'Bangalore/Bengaluru',\n",
       " 'Gurgaon/Gurugram, Bangalore/Bengaluru, Delhi / NCR',\n",
       " 'Hyderabad/Secunderabad, Bangalore/Bengaluru',\n",
       " 'Bangalore/Bengaluru',\n",
       " 'Bangalore/Bengaluru',\n",
       " 'Bangalore/Bengaluru',\n",
       " 'Bangalore/Bengaluru',\n",
       " 'Bangalore/Bengaluru',\n",
       " 'Bangalore/Bengaluru']"
      ]
     },
     "execution_count": 42,
     "metadata": {},
     "output_type": "execute_result"
    }
   ],
   "source": [
    "for i in location_tags :\n",
    "    location=i.text\n",
    "    locations_list.append(location)\n",
    "locations_list[0:10]"
   ]
  },
  {
   "cell_type": "code",
   "execution_count": 43,
   "id": "af94f01f",
   "metadata": {},
   "outputs": [],
   "source": [
    "jobs=pd.DataFrame({})\n",
    "jobs['title']=job_titles[:10]\n",
    "jobs['company']=company_names[:10]\n",
    "jobs['experience_required']=experience_list[:10]\n",
    "jobs['location']=locations_list[:10]"
   ]
  },
  {
   "cell_type": "code",
   "execution_count": 44,
   "id": "6ab71f75",
   "metadata": {},
   "outputs": [
    {
     "data": {
      "text/html": [
       "<div>\n",
       "<style scoped>\n",
       "    .dataframe tbody tr th:only-of-type {\n",
       "        vertical-align: middle;\n",
       "    }\n",
       "\n",
       "    .dataframe tbody tr th {\n",
       "        vertical-align: top;\n",
       "    }\n",
       "\n",
       "    .dataframe thead th {\n",
       "        text-align: right;\n",
       "    }\n",
       "</style>\n",
       "<table border=\"1\" class=\"dataframe\">\n",
       "  <thead>\n",
       "    <tr style=\"text-align: right;\">\n",
       "      <th></th>\n",
       "      <th>title</th>\n",
       "      <th>company</th>\n",
       "      <th>experience_required</th>\n",
       "      <th>location</th>\n",
       "    </tr>\n",
       "  </thead>\n",
       "  <tbody>\n",
       "    <tr>\n",
       "      <th>0</th>\n",
       "      <td>Data Analyst / Business Analyst</td>\n",
       "      <td>METRO Cash &amp; Carry</td>\n",
       "      <td>3-8 Yrs</td>\n",
       "      <td>Bangalore/Bengaluru</td>\n",
       "    </tr>\n",
       "    <tr>\n",
       "      <th>1</th>\n",
       "      <td>Data Analyst / Business Analyst</td>\n",
       "      <td>METRO Cash &amp; Carry</td>\n",
       "      <td>3-8 Yrs</td>\n",
       "      <td>Bangalore/Bengaluru</td>\n",
       "    </tr>\n",
       "    <tr>\n",
       "      <th>2</th>\n",
       "      <td>data analyst/ data analytics / Business analys...</td>\n",
       "      <td>Leading US MNC into Analytics</td>\n",
       "      <td>2-7 Yrs</td>\n",
       "      <td>Gurgaon/Gurugram, Bangalore/Bengaluru, Delhi /...</td>\n",
       "    </tr>\n",
       "    <tr>\n",
       "      <th>3</th>\n",
       "      <td>Business analyst + data Analysis</td>\n",
       "      <td>Anlage Infotech (I) Pvt. Ltd.</td>\n",
       "      <td>5-10 Yrs</td>\n",
       "      <td>Hyderabad/Secunderabad, Bangalore/Bengaluru</td>\n",
       "    </tr>\n",
       "    <tr>\n",
       "      <th>4</th>\n",
       "      <td>Data Analyst</td>\n",
       "      <td>upGrad</td>\n",
       "      <td>1-3 Yrs</td>\n",
       "      <td>Bangalore/Bengaluru</td>\n",
       "    </tr>\n",
       "    <tr>\n",
       "      <th>5</th>\n",
       "      <td>Associate Professional Data Analyst</td>\n",
       "      <td>DXC Technology</td>\n",
       "      <td>3-6 Yrs</td>\n",
       "      <td>Bangalore/Bengaluru</td>\n",
       "    </tr>\n",
       "    <tr>\n",
       "      <th>6</th>\n",
       "      <td>Business and Data Analyst</td>\n",
       "      <td>CAREERDOST ENTERPRISE</td>\n",
       "      <td>0-5 Yrs</td>\n",
       "      <td>Bangalore/Bengaluru</td>\n",
       "    </tr>\n",
       "    <tr>\n",
       "      <th>7</th>\n",
       "      <td>Senior Data Analyst</td>\n",
       "      <td>Flipkart</td>\n",
       "      <td>3-7 Yrs</td>\n",
       "      <td>Bangalore/Bengaluru</td>\n",
       "    </tr>\n",
       "    <tr>\n",
       "      <th>8</th>\n",
       "      <td>Senior Data Analyst</td>\n",
       "      <td>Thomson Reuters</td>\n",
       "      <td>2-4 Yrs</td>\n",
       "      <td>Bangalore/Bengaluru</td>\n",
       "    </tr>\n",
       "    <tr>\n",
       "      <th>9</th>\n",
       "      <td>Data Analyst</td>\n",
       "      <td>referral</td>\n",
       "      <td>2-5 Yrs</td>\n",
       "      <td>Bangalore/Bengaluru</td>\n",
       "    </tr>\n",
       "  </tbody>\n",
       "</table>\n",
       "</div>"
      ],
      "text/plain": [
       "                                               title  \\\n",
       "0                    Data Analyst / Business Analyst   \n",
       "1                    Data Analyst / Business Analyst   \n",
       "2  data analyst/ data analytics / Business analys...   \n",
       "3                   Business analyst + data Analysis   \n",
       "4                                       Data Analyst   \n",
       "5                Associate Professional Data Analyst   \n",
       "6                          Business and Data Analyst   \n",
       "7                                Senior Data Analyst   \n",
       "8                                Senior Data Analyst   \n",
       "9                                       Data Analyst   \n",
       "\n",
       "                         company experience_required  \\\n",
       "0             METRO Cash & Carry             3-8 Yrs   \n",
       "1             METRO Cash & Carry             3-8 Yrs   \n",
       "2  Leading US MNC into Analytics             2-7 Yrs   \n",
       "3  Anlage Infotech (I) Pvt. Ltd.            5-10 Yrs   \n",
       "4                         upGrad             1-3 Yrs   \n",
       "5                 DXC Technology             3-6 Yrs   \n",
       "6          CAREERDOST ENTERPRISE             0-5 Yrs   \n",
       "7                       Flipkart             3-7 Yrs   \n",
       "8                Thomson Reuters             2-4 Yrs   \n",
       "9                       referral             2-5 Yrs   \n",
       "\n",
       "                                            location  \n",
       "0                                Bangalore/Bengaluru  \n",
       "1                                Bangalore/Bengaluru  \n",
       "2  Gurgaon/Gurugram, Bangalore/Bengaluru, Delhi /...  \n",
       "3        Hyderabad/Secunderabad, Bangalore/Bengaluru  \n",
       "4                                Bangalore/Bengaluru  \n",
       "5                                Bangalore/Bengaluru  \n",
       "6                                Bangalore/Bengaluru  \n",
       "7                                Bangalore/Bengaluru  \n",
       "8                                Bangalore/Bengaluru  \n",
       "9                                Bangalore/Bengaluru  "
      ]
     },
     "execution_count": 44,
     "metadata": {},
     "output_type": "execute_result"
    }
   ],
   "source": [
    "jobs"
   ]
  },
  {
   "cell_type": "markdown",
   "id": "89303f14",
   "metadata": {},
   "source": [
    "# question-2"
   ]
  },
  {
   "cell_type": "code",
   "execution_count": 45,
   "id": "c6a6e1ae",
   "metadata": {},
   "outputs": [],
   "source": [
    "import selenium\n",
    "import pandas as pd\n",
    "from selenium import webdriver\n",
    "import warnings\n",
    "warnings.filterwarnings(\"ignore\")\n",
    "import time"
   ]
  },
  {
   "cell_type": "code",
   "execution_count": 46,
   "id": "280db843",
   "metadata": {},
   "outputs": [],
   "source": [
    "driver = webdriver.Chrome(r\"C:\\web driver\\chromedriver.exe\")"
   ]
  },
  {
   "cell_type": "code",
   "execution_count": 47,
   "id": "febda15d",
   "metadata": {},
   "outputs": [],
   "source": [
    "driver=webdriver.Chrome(\"chromedriver.exe\")\n",
    "time.sleep(2)"
   ]
  },
  {
   "cell_type": "code",
   "execution_count": 48,
   "id": "f0457c45",
   "metadata": {},
   "outputs": [],
   "source": [
    "driver.get('https://www.naukri.com/')"
   ]
  },
  {
   "cell_type": "code",
   "execution_count": 49,
   "id": "3d0d4f20",
   "metadata": {},
   "outputs": [],
   "source": [
    "search_field_designation=driver.find_element_by_class_name(\"suggestor-input\") #job search bar\n",
    "search_field_designation.send_keys(\"Data Scientist\")\n",
    "search_field_loaction=driver.find_element_by_xpath('/html/body/div/div[2]/div[3]/div/div/div[3]/div/div/div/input') #Location Search bar\n",
    "search_field_loaction.send_keys(\"Bangalore\")"
   ]
  },
  {
   "cell_type": "code",
   "execution_count": 50,
   "id": "06df25f1",
   "metadata": {},
   "outputs": [],
   "source": [
    "search_button=driver.find_element_by_xpath(\"/html/body/div/div[2]/div[3]/div/div/div[6]\")\n",
    "search_button.click()"
   ]
  },
  {
   "cell_type": "code",
   "execution_count": 51,
   "id": "bd965d07",
   "metadata": {},
   "outputs": [],
   "source": [
    "url=\"https://www.naukri.com/data-scientist-jobs-in-bangalore?k=data%20scientist&l=bangalore\""
   ]
  },
  {
   "cell_type": "code",
   "execution_count": 52,
   "id": "587e9a07",
   "metadata": {},
   "outputs": [],
   "source": [
    "driver.get(url)"
   ]
  },
  {
   "cell_type": "code",
   "execution_count": 53,
   "id": "990b9e1f",
   "metadata": {},
   "outputs": [
    {
     "data": {
      "text/plain": [
       "[<selenium.webdriver.remote.webelement.WebElement (session=\"f0e8507e7f3b9bbe50365fb2a438259e\", element=\"da40ae20-34d3-47c1-aa9d-9b79fb9d22e9\")>,\n",
       " <selenium.webdriver.remote.webelement.WebElement (session=\"f0e8507e7f3b9bbe50365fb2a438259e\", element=\"3b4e0a62-6632-4d5f-9c41-74c932f4a9b9\")>,\n",
       " <selenium.webdriver.remote.webelement.WebElement (session=\"f0e8507e7f3b9bbe50365fb2a438259e\", element=\"7d25d880-9b48-403b-ab5e-34e3252dc694\")>,\n",
       " <selenium.webdriver.remote.webelement.WebElement (session=\"f0e8507e7f3b9bbe50365fb2a438259e\", element=\"1f01c3ec-6e87-46c5-b556-4cb1f6717048\")>,\n",
       " <selenium.webdriver.remote.webelement.WebElement (session=\"f0e8507e7f3b9bbe50365fb2a438259e\", element=\"2eadcdf9-1b8a-4efb-b60e-ed44668b92b4\")>,\n",
       " <selenium.webdriver.remote.webelement.WebElement (session=\"f0e8507e7f3b9bbe50365fb2a438259e\", element=\"0883217d-3528-496c-8679-e6718f8fbae7\")>,\n",
       " <selenium.webdriver.remote.webelement.WebElement (session=\"f0e8507e7f3b9bbe50365fb2a438259e\", element=\"d27d00c9-ae1c-4d10-b986-1cf376898153\")>,\n",
       " <selenium.webdriver.remote.webelement.WebElement (session=\"f0e8507e7f3b9bbe50365fb2a438259e\", element=\"f6756454-cdd9-4eab-b3de-4012d9f4bbeb\")>,\n",
       " <selenium.webdriver.remote.webelement.WebElement (session=\"f0e8507e7f3b9bbe50365fb2a438259e\", element=\"b19f340b-d303-413c-bc10-ddfdd49611ea\")>,\n",
       " <selenium.webdriver.remote.webelement.WebElement (session=\"f0e8507e7f3b9bbe50365fb2a438259e\", element=\"a4d9fdb8-5593-4627-b6f9-eb7f1f56bd15\")>]"
      ]
     },
     "execution_count": 53,
     "metadata": {},
     "output_type": "execute_result"
    }
   ],
   "source": [
    "job_titles=[]\n",
    "company_names=[]\n",
    "locations_list=[]\n",
    "titles_tags=driver.find_elements_by_xpath(\"//a[@class='title fw500 ellipsis']\")\n",
    "titles_tags[0:10]"
   ]
  },
  {
   "cell_type": "code",
   "execution_count": 54,
   "id": "6512aa5a",
   "metadata": {},
   "outputs": [
    {
     "data": {
      "text/plain": [
       "['Senior Data Scientist',\n",
       " 'Sr. Analyst - Applied Data Scientist',\n",
       " 'Applied Data Scientist / ML Senior Engineer (Python / SQL)',\n",
       " 'Data Scientist',\n",
       " 'Expert Data Scientist',\n",
       " 'Principal Data Scientist',\n",
       " 'Analyst - Applied Data Scientist',\n",
       " 'Research Data Scientist',\n",
       " 'Senior Data Scientist Grade12',\n",
       " 'Senior Data Scientist Grade12']"
      ]
     },
     "execution_count": 54,
     "metadata": {},
     "output_type": "execute_result"
    }
   ],
   "source": [
    "for i in titles_tags:\n",
    "    title=i.text\n",
    "    job_titles.append(title)\n",
    "job_titles[0:10]"
   ]
  },
  {
   "cell_type": "code",
   "execution_count": 55,
   "id": "79db0d1d",
   "metadata": {},
   "outputs": [
    {
     "data": {
      "text/plain": [
       "[<selenium.webdriver.remote.webelement.WebElement (session=\"f0e8507e7f3b9bbe50365fb2a438259e\", element=\"258d2b0a-220e-4d09-8939-272f7685a9f3\")>,\n",
       " <selenium.webdriver.remote.webelement.WebElement (session=\"f0e8507e7f3b9bbe50365fb2a438259e\", element=\"97f01a40-e816-4bfd-8fc2-839a7af01712\")>,\n",
       " <selenium.webdriver.remote.webelement.WebElement (session=\"f0e8507e7f3b9bbe50365fb2a438259e\", element=\"7d9d7608-8be7-4913-bd21-71942636e1fb\")>,\n",
       " <selenium.webdriver.remote.webelement.WebElement (session=\"f0e8507e7f3b9bbe50365fb2a438259e\", element=\"e8eb9277-b310-4514-8907-a26c87212d10\")>,\n",
       " <selenium.webdriver.remote.webelement.WebElement (session=\"f0e8507e7f3b9bbe50365fb2a438259e\", element=\"57e2ad99-306e-4e04-bc8d-2a6e7f4e67b4\")>,\n",
       " <selenium.webdriver.remote.webelement.WebElement (session=\"f0e8507e7f3b9bbe50365fb2a438259e\", element=\"e7730d6a-c961-4449-9253-4ff6b41b4262\")>,\n",
       " <selenium.webdriver.remote.webelement.WebElement (session=\"f0e8507e7f3b9bbe50365fb2a438259e\", element=\"21aa1907-8351-4e45-a5e6-cf5adbb04df7\")>,\n",
       " <selenium.webdriver.remote.webelement.WebElement (session=\"f0e8507e7f3b9bbe50365fb2a438259e\", element=\"d484b187-8ee2-42a7-98c6-7bae09112e30\")>,\n",
       " <selenium.webdriver.remote.webelement.WebElement (session=\"f0e8507e7f3b9bbe50365fb2a438259e\", element=\"c34f736d-45ac-4514-a266-ac3cc7809d8b\")>,\n",
       " <selenium.webdriver.remote.webelement.WebElement (session=\"f0e8507e7f3b9bbe50365fb2a438259e\", element=\"bc1430ea-bed1-47dd-b684-c33c1ee8ef88\")>]"
      ]
     },
     "execution_count": 55,
     "metadata": {},
     "output_type": "execute_result"
    }
   ],
   "source": [
    "companies_tags=driver.find_elements_by_xpath(\"//a[@class='subTitle ellipsis fleft']\")\n",
    "companies_tags[0:10]"
   ]
  },
  {
   "cell_type": "code",
   "execution_count": 56,
   "id": "ae994e99",
   "metadata": {},
   "outputs": [
    {
     "data": {
      "text/plain": [
       "['UPL',\n",
       " 'Tesco',\n",
       " 'SAP India Pvt.Ltd',\n",
       " 'UPL',\n",
       " 'UPL',\n",
       " 'UPL',\n",
       " 'Tesco',\n",
       " 'Mavenir',\n",
       " 'Flipkart',\n",
       " 'Flipkart']"
      ]
     },
     "execution_count": 56,
     "metadata": {},
     "output_type": "execute_result"
    }
   ],
   "source": [
    "for i in companies_tags:\n",
    "    company_name=i.text\n",
    "    company_names.append(company_name)\n",
    "company_names[0:10]"
   ]
  },
  {
   "cell_type": "code",
   "execution_count": 57,
   "id": "0bb8c7c7",
   "metadata": {},
   "outputs": [
    {
     "data": {
      "text/plain": [
       "[<selenium.webdriver.remote.webelement.WebElement (session=\"f0e8507e7f3b9bbe50365fb2a438259e\", element=\"0111e726-4f46-4b0f-940d-3a5e6e3bbb6a\")>,\n",
       " <selenium.webdriver.remote.webelement.WebElement (session=\"f0e8507e7f3b9bbe50365fb2a438259e\", element=\"b3d3fa7f-de8a-46e8-a08d-4e5caa87b8cb\")>,\n",
       " <selenium.webdriver.remote.webelement.WebElement (session=\"f0e8507e7f3b9bbe50365fb2a438259e\", element=\"f8b65f43-f31b-4205-85ef-1d755a6d010f\")>,\n",
       " <selenium.webdriver.remote.webelement.WebElement (session=\"f0e8507e7f3b9bbe50365fb2a438259e\", element=\"4db7da3f-fb30-4739-a305-991884fccb62\")>,\n",
       " <selenium.webdriver.remote.webelement.WebElement (session=\"f0e8507e7f3b9bbe50365fb2a438259e\", element=\"18c541da-f14d-4934-97d9-1ae56e1ab61c\")>,\n",
       " <selenium.webdriver.remote.webelement.WebElement (session=\"f0e8507e7f3b9bbe50365fb2a438259e\", element=\"a5a4fb70-bdea-41b7-b748-ec81dd1d1d7c\")>,\n",
       " <selenium.webdriver.remote.webelement.WebElement (session=\"f0e8507e7f3b9bbe50365fb2a438259e\", element=\"75a9b99d-64ee-4ddd-ad7e-9f94e4f870dc\")>,\n",
       " <selenium.webdriver.remote.webelement.WebElement (session=\"f0e8507e7f3b9bbe50365fb2a438259e\", element=\"79bb7d14-7846-4418-9883-03b22f150a7a\")>,\n",
       " <selenium.webdriver.remote.webelement.WebElement (session=\"f0e8507e7f3b9bbe50365fb2a438259e\", element=\"98ff68ae-94bd-4dcb-a1f7-9a6382d5dea6\")>,\n",
       " <selenium.webdriver.remote.webelement.WebElement (session=\"f0e8507e7f3b9bbe50365fb2a438259e\", element=\"1a5f1267-36a1-4c02-9d63-103c0124a1e4\")>]"
      ]
     },
     "execution_count": 57,
     "metadata": {},
     "output_type": "execute_result"
    }
   ],
   "source": [
    "location_tags=driver.find_elements_by_xpath(\"//li[@class='fleft grey-text br2 placeHolderLi location']/span[1]\")\n",
    "location_tags[0:10]"
   ]
  },
  {
   "cell_type": "code",
   "execution_count": 58,
   "id": "32a6fb2b",
   "metadata": {},
   "outputs": [
    {
     "data": {
      "text/plain": [
       "['Bangalore/Bengaluru, Mumbai (All Areas)',\n",
       " 'Bangalore/Bengaluru',\n",
       " 'Bangalore/Bengaluru',\n",
       " 'Bangalore/Bengaluru, Mumbai (All Areas)',\n",
       " 'Bangalore/Bengaluru, Mumbai (All Areas)',\n",
       " 'Bangalore/Bengaluru, Mumbai (All Areas)',\n",
       " 'Bangalore/Bengaluru',\n",
       " 'Bangalore/Bengaluru',\n",
       " 'Bangalore/Bengaluru',\n",
       " 'Bangalore/Bengaluru']"
      ]
     },
     "execution_count": 58,
     "metadata": {},
     "output_type": "execute_result"
    }
   ],
   "source": [
    "for i in location_tags :\n",
    "    location=i.text\n",
    "    locations_list.append(location)\n",
    "locations_list[0:10]"
   ]
  },
  {
   "cell_type": "code",
   "execution_count": 59,
   "id": "88485f70",
   "metadata": {},
   "outputs": [
    {
     "name": "stdout",
     "output_type": "stream",
     "text": [
      "20 20 20\n"
     ]
    }
   ],
   "source": [
    "print(len(job_titles),len(company_names),len(locations_list))\n",
    "\n",
    "#Import pandas as pd\n",
    "jobs=pd.DataFrame({})\n",
    "jobs['title']=job_titles[:10]\n",
    "jobs['company']=company_names[:10]\n",
    "jobs['location']=locations_list[:10]"
   ]
  },
  {
   "cell_type": "code",
   "execution_count": 60,
   "id": "542b4021",
   "metadata": {},
   "outputs": [
    {
     "data": {
      "text/html": [
       "<div>\n",
       "<style scoped>\n",
       "    .dataframe tbody tr th:only-of-type {\n",
       "        vertical-align: middle;\n",
       "    }\n",
       "\n",
       "    .dataframe tbody tr th {\n",
       "        vertical-align: top;\n",
       "    }\n",
       "\n",
       "    .dataframe thead th {\n",
       "        text-align: right;\n",
       "    }\n",
       "</style>\n",
       "<table border=\"1\" class=\"dataframe\">\n",
       "  <thead>\n",
       "    <tr style=\"text-align: right;\">\n",
       "      <th></th>\n",
       "      <th>title</th>\n",
       "      <th>company</th>\n",
       "      <th>location</th>\n",
       "    </tr>\n",
       "  </thead>\n",
       "  <tbody>\n",
       "    <tr>\n",
       "      <th>0</th>\n",
       "      <td>Senior Data Scientist</td>\n",
       "      <td>UPL</td>\n",
       "      <td>Bangalore/Bengaluru, Mumbai (All Areas)</td>\n",
       "    </tr>\n",
       "    <tr>\n",
       "      <th>1</th>\n",
       "      <td>Sr. Analyst - Applied Data Scientist</td>\n",
       "      <td>Tesco</td>\n",
       "      <td>Bangalore/Bengaluru</td>\n",
       "    </tr>\n",
       "    <tr>\n",
       "      <th>2</th>\n",
       "      <td>Applied Data Scientist / ML Senior Engineer (P...</td>\n",
       "      <td>SAP India Pvt.Ltd</td>\n",
       "      <td>Bangalore/Bengaluru</td>\n",
       "    </tr>\n",
       "    <tr>\n",
       "      <th>3</th>\n",
       "      <td>Data Scientist</td>\n",
       "      <td>UPL</td>\n",
       "      <td>Bangalore/Bengaluru, Mumbai (All Areas)</td>\n",
       "    </tr>\n",
       "    <tr>\n",
       "      <th>4</th>\n",
       "      <td>Expert Data Scientist</td>\n",
       "      <td>UPL</td>\n",
       "      <td>Bangalore/Bengaluru, Mumbai (All Areas)</td>\n",
       "    </tr>\n",
       "    <tr>\n",
       "      <th>5</th>\n",
       "      <td>Principal Data Scientist</td>\n",
       "      <td>UPL</td>\n",
       "      <td>Bangalore/Bengaluru, Mumbai (All Areas)</td>\n",
       "    </tr>\n",
       "    <tr>\n",
       "      <th>6</th>\n",
       "      <td>Analyst - Applied Data Scientist</td>\n",
       "      <td>Tesco</td>\n",
       "      <td>Bangalore/Bengaluru</td>\n",
       "    </tr>\n",
       "    <tr>\n",
       "      <th>7</th>\n",
       "      <td>Research Data Scientist</td>\n",
       "      <td>Mavenir</td>\n",
       "      <td>Bangalore/Bengaluru</td>\n",
       "    </tr>\n",
       "    <tr>\n",
       "      <th>8</th>\n",
       "      <td>Senior Data Scientist Grade12</td>\n",
       "      <td>Flipkart</td>\n",
       "      <td>Bangalore/Bengaluru</td>\n",
       "    </tr>\n",
       "    <tr>\n",
       "      <th>9</th>\n",
       "      <td>Senior Data Scientist Grade12</td>\n",
       "      <td>Flipkart</td>\n",
       "      <td>Bangalore/Bengaluru</td>\n",
       "    </tr>\n",
       "  </tbody>\n",
       "</table>\n",
       "</div>"
      ],
      "text/plain": [
       "                                               title            company  \\\n",
       "0                              Senior Data Scientist                UPL   \n",
       "1               Sr. Analyst - Applied Data Scientist              Tesco   \n",
       "2  Applied Data Scientist / ML Senior Engineer (P...  SAP India Pvt.Ltd   \n",
       "3                                     Data Scientist                UPL   \n",
       "4                              Expert Data Scientist                UPL   \n",
       "5                           Principal Data Scientist                UPL   \n",
       "6                   Analyst - Applied Data Scientist              Tesco   \n",
       "7                            Research Data Scientist            Mavenir   \n",
       "8                      Senior Data Scientist Grade12           Flipkart   \n",
       "9                      Senior Data Scientist Grade12           Flipkart   \n",
       "\n",
       "                                  location  \n",
       "0  Bangalore/Bengaluru, Mumbai (All Areas)  \n",
       "1                      Bangalore/Bengaluru  \n",
       "2                      Bangalore/Bengaluru  \n",
       "3  Bangalore/Bengaluru, Mumbai (All Areas)  \n",
       "4  Bangalore/Bengaluru, Mumbai (All Areas)  \n",
       "5  Bangalore/Bengaluru, Mumbai (All Areas)  \n",
       "6                      Bangalore/Bengaluru  \n",
       "7                      Bangalore/Bengaluru  \n",
       "8                      Bangalore/Bengaluru  \n",
       "9                      Bangalore/Bengaluru  "
      ]
     },
     "execution_count": 60,
     "metadata": {},
     "output_type": "execute_result"
    }
   ],
   "source": [
    "jobs"
   ]
  },
  {
   "cell_type": "markdown",
   "id": "fbe057a9",
   "metadata": {},
   "source": [
    "# question-3"
   ]
  },
  {
   "cell_type": "code",
   "execution_count": 61,
   "id": "d68a074b",
   "metadata": {},
   "outputs": [],
   "source": [
    "import selenium\n",
    "import pandas as pd\n",
    "from selenium import webdriver\n",
    "import warnings\n",
    "warnings.filterwarnings(\"ignore\")\n",
    "import time"
   ]
  },
  {
   "cell_type": "code",
   "execution_count": 63,
   "id": "2e78a4cb",
   "metadata": {},
   "outputs": [],
   "source": [
    "\n",
    "driver = webdriver.Chrome(r\"C:\\web driver\\chromedriver.exe\")"
   ]
  },
  {
   "cell_type": "code",
   "execution_count": 64,
   "id": "831250fe",
   "metadata": {},
   "outputs": [],
   "source": [
    "driver=webdriver.Chrome(\"chromedriver.exe\")\n",
    "time.sleep(2)\n",
    "driver.get('https://www.naukri.com')\n",
    "# Finding element for job search bar\n",
    "search_field_designation=driver.find_element_by_class_name(\"suggestor-input\") #job search bar\n",
    "search_field_designation.send_keys(\"Data Scientist\")\n",
    "search_button=driver.find_element_by_xpath(\"/html/body/div/div[2]/div[3]/div/div/div[6]\")\n",
    "search_button.click()\n",
    "# Specifying the url of the webpage to be scraped\n",
    "url=\"https://www.naukri.com/data-scientist-jobs?k=data%20scientist\"\n",
    "# Lets open the webpage through our web driver\n",
    "driver.get(url)\n",
    "job_titles=[]\n",
    "company_names=[]\n",
    "locations_list=[]\n",
    "experience_list=[]\n",
    "salary_list=[]"
   ]
  },
  {
   "cell_type": "code",
   "execution_count": 68,
   "id": "fb53c538",
   "metadata": {},
   "outputs": [
    {
     "data": {
      "text/plain": [
       "['Senior Data Scientist',\n",
       " 'Applied Data Scientist / ML Senior Engineer (Python / SQL)',\n",
       " 'Data Scientist',\n",
       " 'Freshers For Junior Data Scientist',\n",
       " 'Sr. Analyst - Applied Data Scientist',\n",
       " 'Manager, Senior Clinical Data Scientist, Clinical Data Sciences',\n",
       " 'Digital-Senior Process Manager- Data Scientist SPM',\n",
       " 'Manager, Lead Data Scientist (R CoE)',\n",
       " 'Data Scientist',\n",
       " 'Expert Data Scientist']"
      ]
     },
     "execution_count": 68,
     "metadata": {},
     "output_type": "execute_result"
    }
   ],
   "source": [
    "for i in titles_tags:\n",
    "    title=i.text\n",
    "    job_titles.append(title)\n",
    "job_titles[0:10]"
   ]
  },
  {
   "cell_type": "code",
   "execution_count": 65,
   "id": "dfc11768",
   "metadata": {},
   "outputs": [
    {
     "data": {
      "text/plain": [
       "[<selenium.webdriver.remote.webelement.WebElement (session=\"461e4066a71bdb2fb24d6f2ab70e74c2\", element=\"4e2cc046-d1ed-4c3f-91a4-1ece2ef2cbf6\")>,\n",
       " <selenium.webdriver.remote.webelement.WebElement (session=\"461e4066a71bdb2fb24d6f2ab70e74c2\", element=\"278f86c8-271b-4830-9ec2-5c40585a9977\")>,\n",
       " <selenium.webdriver.remote.webelement.WebElement (session=\"461e4066a71bdb2fb24d6f2ab70e74c2\", element=\"253e5ed3-ab0a-437f-ade0-c3451009d9b3\")>,\n",
       " <selenium.webdriver.remote.webelement.WebElement (session=\"461e4066a71bdb2fb24d6f2ab70e74c2\", element=\"43af9309-5960-47c2-97d7-a51e75b18f9a\")>,\n",
       " <selenium.webdriver.remote.webelement.WebElement (session=\"461e4066a71bdb2fb24d6f2ab70e74c2\", element=\"31a5d10f-7a73-4525-a3a3-ba11b6e67f90\")>,\n",
       " <selenium.webdriver.remote.webelement.WebElement (session=\"461e4066a71bdb2fb24d6f2ab70e74c2\", element=\"58dfd8d3-e3fa-4570-bb03-6443fd514f09\")>,\n",
       " <selenium.webdriver.remote.webelement.WebElement (session=\"461e4066a71bdb2fb24d6f2ab70e74c2\", element=\"1c371e47-bf54-4ccb-9a53-26a10638d97a\")>,\n",
       " <selenium.webdriver.remote.webelement.WebElement (session=\"461e4066a71bdb2fb24d6f2ab70e74c2\", element=\"a1d898c1-a130-48eb-b1bf-fd8afe081f6d\")>,\n",
       " <selenium.webdriver.remote.webelement.WebElement (session=\"461e4066a71bdb2fb24d6f2ab70e74c2\", element=\"e66d5755-d9e0-4e39-a140-c9156cefce5c\")>,\n",
       " <selenium.webdriver.remote.webelement.WebElement (session=\"461e4066a71bdb2fb24d6f2ab70e74c2\", element=\"7742c4f0-939e-43cf-8777-b58f7c765604\")>]"
      ]
     },
     "execution_count": 65,
     "metadata": {},
     "output_type": "execute_result"
    }
   ],
   "source": [
    "titles_tags=driver.find_elements_by_xpath(\"//a[@class='title fw500 ellipsis']\")\n",
    "titles_tags[0:10]"
   ]
  },
  {
   "cell_type": "code",
   "execution_count": 69,
   "id": "4d2b5ca7",
   "metadata": {},
   "outputs": [
    {
     "data": {
      "text/plain": [
       "[<selenium.webdriver.remote.webelement.WebElement (session=\"461e4066a71bdb2fb24d6f2ab70e74c2\", element=\"0dbd136f-6448-48ae-9ec5-7f5784d4c66e\")>,\n",
       " <selenium.webdriver.remote.webelement.WebElement (session=\"461e4066a71bdb2fb24d6f2ab70e74c2\", element=\"32338121-c3a4-43b7-99b2-5336af94f82b\")>,\n",
       " <selenium.webdriver.remote.webelement.WebElement (session=\"461e4066a71bdb2fb24d6f2ab70e74c2\", element=\"80afce6c-e7a5-4cc0-b661-31640ba00bc1\")>,\n",
       " <selenium.webdriver.remote.webelement.WebElement (session=\"461e4066a71bdb2fb24d6f2ab70e74c2\", element=\"f06020cb-48d9-4fe3-9fb2-ccce9be10735\")>,\n",
       " <selenium.webdriver.remote.webelement.WebElement (session=\"461e4066a71bdb2fb24d6f2ab70e74c2\", element=\"82485b64-8eed-40eb-9f4f-2d9b2ba63f97\")>,\n",
       " <selenium.webdriver.remote.webelement.WebElement (session=\"461e4066a71bdb2fb24d6f2ab70e74c2\", element=\"803f3af8-34a9-46ec-874a-77540c1326ae\")>,\n",
       " <selenium.webdriver.remote.webelement.WebElement (session=\"461e4066a71bdb2fb24d6f2ab70e74c2\", element=\"8fbfa230-7cb0-4dbb-830e-b4bb6426c99b\")>,\n",
       " <selenium.webdriver.remote.webelement.WebElement (session=\"461e4066a71bdb2fb24d6f2ab70e74c2\", element=\"e9b021e2-b486-4e82-9360-12aac9a9b352\")>,\n",
       " <selenium.webdriver.remote.webelement.WebElement (session=\"461e4066a71bdb2fb24d6f2ab70e74c2\", element=\"a2bad136-1848-442d-bc40-5ebda390870e\")>,\n",
       " <selenium.webdriver.remote.webelement.WebElement (session=\"461e4066a71bdb2fb24d6f2ab70e74c2\", element=\"5cc17378-0c51-4c90-b919-7ec3a7fa8b4f\")>]"
      ]
     },
     "execution_count": 69,
     "metadata": {},
     "output_type": "execute_result"
    }
   ],
   "source": [
    "companies_tags=driver.find_elements_by_xpath(\"//a[@class='subTitle ellipsis fleft']\")\n",
    "companies_tags[0:10]"
   ]
  },
  {
   "cell_type": "code",
   "execution_count": 70,
   "id": "2f4c2cf3",
   "metadata": {},
   "outputs": [
    {
     "data": {
      "text/plain": [
       "['UPL',\n",
       " 'SAP India Pvt.Ltd',\n",
       " 'Genpact',\n",
       " 'Aaum Research and Analytics Private Limited',\n",
       " 'Tesco',\n",
       " 'Pfizer',\n",
       " 'eClerx',\n",
       " 'Pfizer',\n",
       " 'UPL',\n",
       " 'UPL']"
      ]
     },
     "execution_count": 70,
     "metadata": {},
     "output_type": "execute_result"
    }
   ],
   "source": [
    "for i in companies_tags:\n",
    "    company_name=i.text\n",
    "    company_names.append(company_name)\n",
    "company_names[0:10]"
   ]
  },
  {
   "cell_type": "code",
   "execution_count": 71,
   "id": "12366673",
   "metadata": {},
   "outputs": [
    {
     "data": {
      "text/plain": [
       "[<selenium.webdriver.remote.webelement.WebElement (session=\"461e4066a71bdb2fb24d6f2ab70e74c2\", element=\"8531b06a-5662-430f-ab8e-f00f5662b7cb\")>,\n",
       " <selenium.webdriver.remote.webelement.WebElement (session=\"461e4066a71bdb2fb24d6f2ab70e74c2\", element=\"8b379f57-9936-481e-87e6-49d21c4d6d73\")>,\n",
       " <selenium.webdriver.remote.webelement.WebElement (session=\"461e4066a71bdb2fb24d6f2ab70e74c2\", element=\"b73aaa8c-88b7-4aa7-8245-ac857e67f44c\")>,\n",
       " <selenium.webdriver.remote.webelement.WebElement (session=\"461e4066a71bdb2fb24d6f2ab70e74c2\", element=\"c23ff1c7-57a3-4c06-b0c5-426e801afe08\")>,\n",
       " <selenium.webdriver.remote.webelement.WebElement (session=\"461e4066a71bdb2fb24d6f2ab70e74c2\", element=\"91a2aee3-5e22-43c5-8516-0eb47332cc2a\")>,\n",
       " <selenium.webdriver.remote.webelement.WebElement (session=\"461e4066a71bdb2fb24d6f2ab70e74c2\", element=\"503d20bd-9b01-4601-9ce8-c25854b1acb3\")>,\n",
       " <selenium.webdriver.remote.webelement.WebElement (session=\"461e4066a71bdb2fb24d6f2ab70e74c2\", element=\"f735f5d9-2dd5-4da3-b3a7-dc262229e8e2\")>,\n",
       " <selenium.webdriver.remote.webelement.WebElement (session=\"461e4066a71bdb2fb24d6f2ab70e74c2\", element=\"4663593f-aeee-4fa5-ab44-7700feeca6dd\")>,\n",
       " <selenium.webdriver.remote.webelement.WebElement (session=\"461e4066a71bdb2fb24d6f2ab70e74c2\", element=\"b07de56f-4bad-437b-beba-64b95f153d5a\")>,\n",
       " <selenium.webdriver.remote.webelement.WebElement (session=\"461e4066a71bdb2fb24d6f2ab70e74c2\", element=\"90a9b1c8-8709-40d3-9443-cecd13a3b5f8\")>]"
      ]
     },
     "execution_count": 71,
     "metadata": {},
     "output_type": "execute_result"
    }
   ],
   "source": [
    "experience_tags=driver.find_elements_by_xpath(\"//li[@class='fleft grey-text br2 placeHolderLi experience']/span[1]\")\n",
    "experience_tags[0:10]"
   ]
  },
  {
   "cell_type": "code",
   "execution_count": 72,
   "id": "40ec3b8c",
   "metadata": {},
   "outputs": [
    {
     "data": {
      "text/plain": [
       "['3-6 Yrs',\n",
       " '5-10 Yrs',\n",
       " '5-8 Yrs',\n",
       " '0-1 Yrs',\n",
       " '3-5 Yrs',\n",
       " '4-8 Yrs',\n",
       " '8-13 Yrs',\n",
       " '6-8 Yrs',\n",
       " '1-4 Yrs',\n",
       " '6-9 Yrs']"
      ]
     },
     "execution_count": 72,
     "metadata": {},
     "output_type": "execute_result"
    }
   ],
   "source": [
    "for i in experience_tags:\n",
    "    experience=i.text\n",
    "    experience_list.append(experience)\n",
    "experience_list[0:10]\n"
   ]
  },
  {
   "cell_type": "code",
   "execution_count": 73,
   "id": "a2eed964",
   "metadata": {},
   "outputs": [
    {
     "data": {
      "text/plain": [
       "[<selenium.webdriver.remote.webelement.WebElement (session=\"461e4066a71bdb2fb24d6f2ab70e74c2\", element=\"23570158-a38c-43d0-bded-52f8302d9ca1\")>,\n",
       " <selenium.webdriver.remote.webelement.WebElement (session=\"461e4066a71bdb2fb24d6f2ab70e74c2\", element=\"a778e67f-1c86-4a76-9765-6463eb78ecf7\")>,\n",
       " <selenium.webdriver.remote.webelement.WebElement (session=\"461e4066a71bdb2fb24d6f2ab70e74c2\", element=\"36107ae4-894c-4286-8724-89aa91510979\")>,\n",
       " <selenium.webdriver.remote.webelement.WebElement (session=\"461e4066a71bdb2fb24d6f2ab70e74c2\", element=\"2832f827-0e63-4fc6-8749-59216ef00692\")>,\n",
       " <selenium.webdriver.remote.webelement.WebElement (session=\"461e4066a71bdb2fb24d6f2ab70e74c2\", element=\"1a88d943-ed32-4e50-b3a6-9bc4ebe96671\")>,\n",
       " <selenium.webdriver.remote.webelement.WebElement (session=\"461e4066a71bdb2fb24d6f2ab70e74c2\", element=\"5b431f57-4dbe-432d-8301-0a699a3a1c38\")>,\n",
       " <selenium.webdriver.remote.webelement.WebElement (session=\"461e4066a71bdb2fb24d6f2ab70e74c2\", element=\"609de285-2797-4b76-b432-33b975182055\")>,\n",
       " <selenium.webdriver.remote.webelement.WebElement (session=\"461e4066a71bdb2fb24d6f2ab70e74c2\", element=\"9e048df6-9320-474d-821c-6e17608202fe\")>,\n",
       " <selenium.webdriver.remote.webelement.WebElement (session=\"461e4066a71bdb2fb24d6f2ab70e74c2\", element=\"e211dea3-5391-498b-97f6-c35d30da25fb\")>,\n",
       " <selenium.webdriver.remote.webelement.WebElement (session=\"461e4066a71bdb2fb24d6f2ab70e74c2\", element=\"217b17b8-fdc0-4507-b557-97627f5d412a\")>]"
      ]
     },
     "execution_count": 73,
     "metadata": {},
     "output_type": "execute_result"
    }
   ],
   "source": [
    "location_tags=driver.find_elements_by_xpath(\"//li[@class='fleft grey-text br2 placeHolderLi location']/span[1]\")\n",
    "location_tags[0:10]"
   ]
  },
  {
   "cell_type": "code",
   "execution_count": 74,
   "id": "ebd95042",
   "metadata": {},
   "outputs": [
    {
     "data": {
      "text/plain": [
       "['Bangalore/Bengaluru, Mumbai (All Areas)',\n",
       " 'Bangalore/Bengaluru',\n",
       " 'Hyderabad/Secunderabad, Bangalore/Bengaluru, Delhi / NCR',\n",
       " 'Chennai',\n",
       " 'Bangalore/Bengaluru',\n",
       " 'Chennai',\n",
       " 'Pune',\n",
       " 'Mumbai',\n",
       " 'Bangalore/Bengaluru, Mumbai (All Areas)',\n",
       " 'Bangalore/Bengaluru, Mumbai (All Areas)']"
      ]
     },
     "execution_count": 74,
     "metadata": {},
     "output_type": "execute_result"
    }
   ],
   "source": [
    "for i in location_tags :\n",
    "    location=i.text\n",
    "    locations_list.append(location)\n",
    "locations_list[0:10]"
   ]
  },
  {
   "cell_type": "code",
   "execution_count": 75,
   "id": "a8d60cec",
   "metadata": {},
   "outputs": [
    {
     "data": {
      "text/plain": [
       "[<selenium.webdriver.remote.webelement.WebElement (session=\"461e4066a71bdb2fb24d6f2ab70e74c2\", element=\"2ed015a5-f2f4-4cfc-9679-8d0d215dd100\")>,\n",
       " <selenium.webdriver.remote.webelement.WebElement (session=\"461e4066a71bdb2fb24d6f2ab70e74c2\", element=\"8e79e6e4-7adb-459f-829d-1f265ccc0584\")>,\n",
       " <selenium.webdriver.remote.webelement.WebElement (session=\"461e4066a71bdb2fb24d6f2ab70e74c2\", element=\"0f8099e9-6965-45d1-9bde-11cd52d67fea\")>,\n",
       " <selenium.webdriver.remote.webelement.WebElement (session=\"461e4066a71bdb2fb24d6f2ab70e74c2\", element=\"b8772d80-7cb5-4c56-99da-fedc1cebd4d1\")>,\n",
       " <selenium.webdriver.remote.webelement.WebElement (session=\"461e4066a71bdb2fb24d6f2ab70e74c2\", element=\"c031e619-562d-41aa-b196-dd8491906870\")>,\n",
       " <selenium.webdriver.remote.webelement.WebElement (session=\"461e4066a71bdb2fb24d6f2ab70e74c2\", element=\"aed08daa-ff95-4996-94e2-a14a4862b648\")>,\n",
       " <selenium.webdriver.remote.webelement.WebElement (session=\"461e4066a71bdb2fb24d6f2ab70e74c2\", element=\"f460b4c8-adc8-4d58-b3a6-8c7c39f6b15d\")>,\n",
       " <selenium.webdriver.remote.webelement.WebElement (session=\"461e4066a71bdb2fb24d6f2ab70e74c2\", element=\"f6dd7d73-dcfb-4105-8b9d-6575df146b9e\")>,\n",
       " <selenium.webdriver.remote.webelement.WebElement (session=\"461e4066a71bdb2fb24d6f2ab70e74c2\", element=\"0a38c689-5f38-4490-9aa6-a19c31cae2b7\")>,\n",
       " <selenium.webdriver.remote.webelement.WebElement (session=\"461e4066a71bdb2fb24d6f2ab70e74c2\", element=\"bbf3e45f-d895-4679-8635-16c9080abb1c\")>]"
      ]
     },
     "execution_count": 75,
     "metadata": {},
     "output_type": "execute_result"
    }
   ],
   "source": [
    "salary_tags=driver.find_elements_by_xpath(\"//li[@class='fleft grey-text br2 placeHolderLi salary']/span[1]\")\n",
    "salary_tags[0:10]"
   ]
  },
  {
   "cell_type": "code",
   "execution_count": 76,
   "id": "a3104c8a",
   "metadata": {},
   "outputs": [
    {
     "data": {
      "text/plain": [
       "['Not disclosed',\n",
       " 'Not disclosed',\n",
       " 'Not disclosed',\n",
       " 'Not disclosed',\n",
       " 'Not disclosed',\n",
       " 'Not disclosed',\n",
       " 'Not disclosed',\n",
       " 'Not disclosed',\n",
       " 'Not disclosed',\n",
       " '20,00,000 - 30,00,000 PA.']"
      ]
     },
     "execution_count": 76,
     "metadata": {},
     "output_type": "execute_result"
    }
   ],
   "source": [
    "for i in salary_tags :\n",
    "    salary=i.text\n",
    "    salary_list.append(salary)\n",
    "salary_list[0:10]"
   ]
  },
  {
   "cell_type": "code",
   "execution_count": 77,
   "id": "f58aade8",
   "metadata": {},
   "outputs": [
    {
     "data": {
      "text/html": [
       "<div>\n",
       "<style scoped>\n",
       "    .dataframe tbody tr th:only-of-type {\n",
       "        vertical-align: middle;\n",
       "    }\n",
       "\n",
       "    .dataframe tbody tr th {\n",
       "        vertical-align: top;\n",
       "    }\n",
       "\n",
       "    .dataframe thead th {\n",
       "        text-align: right;\n",
       "    }\n",
       "</style>\n",
       "<table border=\"1\" class=\"dataframe\">\n",
       "  <thead>\n",
       "    <tr style=\"text-align: right;\">\n",
       "      <th></th>\n",
       "      <th>Title</th>\n",
       "      <th>Company</th>\n",
       "      <th>Experience_required</th>\n",
       "      <th>Location</th>\n",
       "      <th>Salary</th>\n",
       "    </tr>\n",
       "  </thead>\n",
       "  <tbody>\n",
       "    <tr>\n",
       "      <th>0</th>\n",
       "      <td>Senior Data Scientist</td>\n",
       "      <td>UPL</td>\n",
       "      <td>3-6 Yrs</td>\n",
       "      <td>Bangalore/Bengaluru, Mumbai (All Areas)</td>\n",
       "      <td>Not disclosed</td>\n",
       "    </tr>\n",
       "    <tr>\n",
       "      <th>1</th>\n",
       "      <td>Applied Data Scientist / ML Senior Engineer (P...</td>\n",
       "      <td>SAP India Pvt.Ltd</td>\n",
       "      <td>5-10 Yrs</td>\n",
       "      <td>Bangalore/Bengaluru</td>\n",
       "      <td>Not disclosed</td>\n",
       "    </tr>\n",
       "    <tr>\n",
       "      <th>2</th>\n",
       "      <td>Data Scientist</td>\n",
       "      <td>Genpact</td>\n",
       "      <td>5-8 Yrs</td>\n",
       "      <td>Hyderabad/Secunderabad, Bangalore/Bengaluru, D...</td>\n",
       "      <td>Not disclosed</td>\n",
       "    </tr>\n",
       "    <tr>\n",
       "      <th>3</th>\n",
       "      <td>Freshers For Junior Data Scientist</td>\n",
       "      <td>Aaum Research and Analytics Private Limited</td>\n",
       "      <td>0-1 Yrs</td>\n",
       "      <td>Chennai</td>\n",
       "      <td>Not disclosed</td>\n",
       "    </tr>\n",
       "    <tr>\n",
       "      <th>4</th>\n",
       "      <td>Sr. Analyst - Applied Data Scientist</td>\n",
       "      <td>Tesco</td>\n",
       "      <td>3-5 Yrs</td>\n",
       "      <td>Bangalore/Bengaluru</td>\n",
       "      <td>Not disclosed</td>\n",
       "    </tr>\n",
       "    <tr>\n",
       "      <th>5</th>\n",
       "      <td>Manager, Senior Clinical Data Scientist, Clini...</td>\n",
       "      <td>Pfizer</td>\n",
       "      <td>4-8 Yrs</td>\n",
       "      <td>Chennai</td>\n",
       "      <td>Not disclosed</td>\n",
       "    </tr>\n",
       "    <tr>\n",
       "      <th>6</th>\n",
       "      <td>Digital-Senior Process Manager- Data Scientist...</td>\n",
       "      <td>eClerx</td>\n",
       "      <td>8-13 Yrs</td>\n",
       "      <td>Pune</td>\n",
       "      <td>Not disclosed</td>\n",
       "    </tr>\n",
       "    <tr>\n",
       "      <th>7</th>\n",
       "      <td>Manager, Lead Data Scientist (R CoE)</td>\n",
       "      <td>Pfizer</td>\n",
       "      <td>6-8 Yrs</td>\n",
       "      <td>Mumbai</td>\n",
       "      <td>Not disclosed</td>\n",
       "    </tr>\n",
       "    <tr>\n",
       "      <th>8</th>\n",
       "      <td>Data Scientist</td>\n",
       "      <td>UPL</td>\n",
       "      <td>1-4 Yrs</td>\n",
       "      <td>Bangalore/Bengaluru, Mumbai (All Areas)</td>\n",
       "      <td>Not disclosed</td>\n",
       "    </tr>\n",
       "    <tr>\n",
       "      <th>9</th>\n",
       "      <td>Expert Data Scientist</td>\n",
       "      <td>UPL</td>\n",
       "      <td>6-9 Yrs</td>\n",
       "      <td>Bangalore/Bengaluru, Mumbai (All Areas)</td>\n",
       "      <td>20,00,000 - 30,00,000 PA.</td>\n",
       "    </tr>\n",
       "  </tbody>\n",
       "</table>\n",
       "</div>"
      ],
      "text/plain": [
       "                                               Title  \\\n",
       "0                              Senior Data Scientist   \n",
       "1  Applied Data Scientist / ML Senior Engineer (P...   \n",
       "2                                     Data Scientist   \n",
       "3                 Freshers For Junior Data Scientist   \n",
       "4               Sr. Analyst - Applied Data Scientist   \n",
       "5  Manager, Senior Clinical Data Scientist, Clini...   \n",
       "6  Digital-Senior Process Manager- Data Scientist...   \n",
       "7               Manager, Lead Data Scientist (R CoE)   \n",
       "8                                     Data Scientist   \n",
       "9                              Expert Data Scientist   \n",
       "\n",
       "                                       Company Experience_required  \\\n",
       "0                                          UPL             3-6 Yrs   \n",
       "1                            SAP India Pvt.Ltd            5-10 Yrs   \n",
       "2                                      Genpact             5-8 Yrs   \n",
       "3  Aaum Research and Analytics Private Limited             0-1 Yrs   \n",
       "4                                        Tesco             3-5 Yrs   \n",
       "5                                       Pfizer             4-8 Yrs   \n",
       "6                                       eClerx            8-13 Yrs   \n",
       "7                                       Pfizer             6-8 Yrs   \n",
       "8                                          UPL             1-4 Yrs   \n",
       "9                                          UPL             6-9 Yrs   \n",
       "\n",
       "                                            Location  \\\n",
       "0            Bangalore/Bengaluru, Mumbai (All Areas)   \n",
       "1                                Bangalore/Bengaluru   \n",
       "2  Hyderabad/Secunderabad, Bangalore/Bengaluru, D...   \n",
       "3                                            Chennai   \n",
       "4                                Bangalore/Bengaluru   \n",
       "5                                            Chennai   \n",
       "6                                               Pune   \n",
       "7                                             Mumbai   \n",
       "8            Bangalore/Bengaluru, Mumbai (All Areas)   \n",
       "9            Bangalore/Bengaluru, Mumbai (All Areas)   \n",
       "\n",
       "                      Salary  \n",
       "0              Not disclosed  \n",
       "1              Not disclosed  \n",
       "2              Not disclosed  \n",
       "3              Not disclosed  \n",
       "4              Not disclosed  \n",
       "5              Not disclosed  \n",
       "6              Not disclosed  \n",
       "7              Not disclosed  \n",
       "8              Not disclosed  \n",
       "9  20,00,000 - 30,00,000 PA.  "
      ]
     },
     "execution_count": 77,
     "metadata": {},
     "output_type": "execute_result"
    }
   ],
   "source": [
    "jobs=pd.DataFrame({})\n",
    "jobs['Title']=job_titles[:10]\n",
    "jobs['Company']=company_names[:10]\n",
    "jobs['Experience_required']=experience_list[:10]\n",
    "jobs['Location']=locations_list[:10]\n",
    "jobs['Salary']=salary_list[:10]\n",
    "jobs"
   ]
  },
  {
   "cell_type": "markdown",
   "id": "e217ecb6",
   "metadata": {},
   "source": [
    "# question-4"
   ]
  },
  {
   "cell_type": "code",
   "execution_count": 103,
   "id": "365f0724",
   "metadata": {},
   "outputs": [],
   "source": [
    "import selenium\n",
    "import pandas as pd\n",
    "from selenium import webdriver\n",
    "import warnings\n",
    "warnings.filterwarnings(\"ignore\")\n",
    "import time"
   ]
  },
  {
   "cell_type": "code",
   "execution_count": 104,
   "id": "7330990d",
   "metadata": {},
   "outputs": [],
   "source": [
    "driver = webdriver.Chrome(r\"C:\\web driver\\chromedriver.exe\")"
   ]
  },
  {
   "cell_type": "code",
   "execution_count": 105,
   "id": "2c51c756",
   "metadata": {},
   "outputs": [],
   "source": [
    "driver=webdriver.Chrome(\"chromedriver.exe\")\n",
    "time.sleep(2)"
   ]
  },
  {
   "cell_type": "code",
   "execution_count": 106,
   "id": "c05b212f",
   "metadata": {},
   "outputs": [
    {
     "data": {
      "text/plain": [
       "<selenium.webdriver.remote.webelement.WebElement (session=\"ef49a64bbfbe211da0bf1a7a2dc380d3\", element=\"11e5ceec-73d0-4039-b326-69244bcaa493\")>"
      ]
     },
     "execution_count": 106,
     "metadata": {},
     "output_type": "execute_result"
    }
   ],
   "source": [
    "driver.get('https://www.flipkart.com/')\n",
    "# Finding element f'https://www.flipkart.com/or search bar\n",
    "search_g= driver.find_element_by_xpath(\"//input[@class='_3704LK']\") \n",
    "search_g"
   ]
  },
  {
   "cell_type": "code",
   "execution_count": 113,
   "id": "9af25ca8",
   "metadata": {},
   "outputs": [],
   "source": [
    "search_g.send_keys('sunglasses')\n"
   ]
  },
  {
   "cell_type": "code",
   "execution_count": 114,
   "id": "92a43716",
   "metadata": {},
   "outputs": [],
   "source": [
    "search_button=driver.find_element_by_xpath(\"//button[@class='L0Z3Pu']\")\n",
    "search_button.click()"
   ]
  },
  {
   "cell_type": "code",
   "execution_count": 115,
   "id": "3b5d4146",
   "metadata": {},
   "outputs": [],
   "source": [
    "B_name=[]\n",
    "Price=[]\n",
    "P_desc=[]"
   ]
  },
  {
   "cell_type": "code",
   "execution_count": 116,
   "id": "2040c59d",
   "metadata": {},
   "outputs": [],
   "source": [
    "for i in range(3):\n",
    "    b_name=driver.find_elements_by_xpath(\"//div[@class='_2WkVRV']\")"
   ]
  },
  {
   "cell_type": "code",
   "execution_count": 117,
   "id": "2b02cc97",
   "metadata": {},
   "outputs": [
    {
     "data": {
      "text/plain": [
       "['Fastrack',\n",
       " 'Fastrack',\n",
       " 'Elligator',\n",
       " 'VINCENT CHASE',\n",
       " 'DAHAAZIL',\n",
       " 'LIZA ANGEL',\n",
       " 'SRPM',\n",
       " 'VINCENT CHASE',\n",
       " 'Ray-Ban',\n",
       " 'ROZZETTA CRAFT',\n",
       " 'New Specs',\n",
       " 'VINCENT CHASE',\n",
       " 'ROZZETTA CRAFT',\n",
       " 'New Specs',\n",
       " 'Lee Topper',\n",
       " 'VINCENT CHASE',\n",
       " 'New Specs',\n",
       " 'Mi',\n",
       " 'PIRASO',\n",
       " 'VINCENT CHASE',\n",
       " 'ROYAL SON',\n",
       " 'Singco India',\n",
       " 'SUNBEE',\n",
       " 'VINCENT CHASE',\n",
       " 'kingsunglasses',\n",
       " 'ROZZETTA CRAFT',\n",
       " 'Fastrack',\n",
       " 'VINCENT CHASE',\n",
       " 'Fastrack',\n",
       " 'Rich Club',\n",
       " 'ROYAL SON',\n",
       " 'VINCENT CHASE',\n",
       " 'Singco India',\n",
       " 'New Specs',\n",
       " 'Fastrack',\n",
       " 'VINCENT CHASE',\n",
       " 'agera',\n",
       " 'Rich Club',\n",
       " 'Fastrack',\n",
       " 'VINCENT CHASE']"
      ]
     },
     "execution_count": 117,
     "metadata": {},
     "output_type": "execute_result"
    }
   ],
   "source": [
    " for j  in b_name:\n",
    "        B_name.append(j.text)\n",
    "B_name[:100]"
   ]
  },
  {
   "cell_type": "code",
   "execution_count": 118,
   "id": "0843b79c",
   "metadata": {},
   "outputs": [
    {
     "data": {
      "text/plain": [
       "['UV Protection Wayfarer Sunglasses (Free Size)',\n",
       " 'UV Protection Rectangular Sunglasses (Free Size)',\n",
       " 'UV Protection Round Sunglasses (54)',\n",
       " 'UV Protection Cat-eye Sunglasses (54)',\n",
       " 'UV Protection, Night Vision, Riding Glasses Wayfarer, W...',\n",
       " 'UV Protection Retro Square Sunglasses (50)',\n",
       " 'UV Protection Wayfarer Sunglasses (50)',\n",
       " 'by Lenskart Polarized, UV Protection Wayfarer Sunglasse...',\n",
       " 'Mirrored, UV Protection Aviator Sunglasses (58)',\n",
       " 'UV Protection, Gradient Retro Square Sunglasses (Free S...',\n",
       " 'UV Protection Aviator Sunglasses (Free Size)',\n",
       " 'UV Protection Wayfarer Sunglasses (62)',\n",
       " 'UV Protection, Gradient Rectangular Sunglasses (Free Si...',\n",
       " 'UV Protection Rectangular Sunglasses (Free Size)',\n",
       " 'UV Protection Rectangular Sunglasses (Free Size)',\n",
       " 'UV Protection Rectangular Sunglasses (50)',\n",
       " 'Mirrored, UV Protection, Riding Glasses, Others Round S...',\n",
       " 'Polarized Wayfarer Sunglasses (Free Size)',\n",
       " 'UV Protection Aviator Sunglasses (54)',\n",
       " 'by Lenskart Polarized, UV Protection Rectangular Sungla...',\n",
       " 'Mirrored Aviator Sunglasses (Free Size)',\n",
       " 'Riding Glasses, UV Protection Clubmaster, Wayfarer Sung...',\n",
       " 'UV Protection, Polarized Wayfarer Sunglasses (Free Size...',\n",
       " 'UV Protection Wayfarer Sunglasses (55)',\n",
       " 'UV Protection Round Sunglasses (54)',\n",
       " 'UV Protection, Gradient Round Sunglasses (Free Size)',\n",
       " 'UV Protection Wayfarer Sunglasses (Free Size)',\n",
       " 'by Lenskart UV Protection Rectangular Sunglasses (54)',\n",
       " 'UV Protection Aviator Sunglasses (58)',\n",
       " 'UV Protection, Mirrored, Gradient Round Sunglasses (51)',\n",
       " 'Mirrored Aviator Sunglasses (55)',\n",
       " 'UV Protection Rectangular Sunglasses (52)',\n",
       " 'Gradient, Toughened Glass Lens, UV Protection Retro Squ...',\n",
       " 'UV Protection Rectangular Sunglasses (Free Size)',\n",
       " 'UV Protection Rectangular Sunglasses (56)',\n",
       " 'by Lenskart Polarized, UV Protection Aviator Sunglasses...',\n",
       " 'UV Protection Aviator Sunglasses (55)',\n",
       " 'UV Protection Round Sunglasses (48)',\n",
       " 'UV Protection Aviator Sunglasses (Free Size)',\n",
       " 'UV Protection Wayfarer Sunglasses (62)']"
      ]
     },
     "execution_count": 118,
     "metadata": {},
     "output_type": "execute_result"
    }
   ],
   "source": [
    "for i in range(3): \n",
    "    p_desc=driver.find_elements_by_xpath(\"//a[@class='IRpwTa']\")\n",
    "for k in p_desc:\n",
    "        P_desc.append(k.text)\n",
    "P_desc[:100]"
   ]
  },
  {
   "cell_type": "code",
   "execution_count": 119,
   "id": "f45906aa",
   "metadata": {},
   "outputs": [
    {
     "data": {
      "text/plain": [
       "['₹647',\n",
       " '₹639',\n",
       " '₹295',\n",
       " '₹649',\n",
       " '₹219',\n",
       " '₹269',\n",
       " '₹249',\n",
       " '₹729',\n",
       " '₹3,014',\n",
       " '₹349',\n",
       " '₹214',\n",
       " '₹659',\n",
       " '₹379',\n",
       " '₹265',\n",
       " '₹219',\n",
       " '₹649',\n",
       " '₹299',\n",
       " '₹764',\n",
       " '₹249',\n",
       " '₹711',\n",
       " '₹399',\n",
       " '₹329',\n",
       " '₹283',\n",
       " '₹749',\n",
       " '₹216',\n",
       " '₹399',\n",
       " '₹719',\n",
       " '₹711',\n",
       " '₹1,099',\n",
       " '₹223',\n",
       " '₹399',\n",
       " '₹649',\n",
       " '₹630',\n",
       " '₹189',\n",
       " '₹575',\n",
       " '₹1,008',\n",
       " '₹199',\n",
       " '₹260',\n",
       " '₹639',\n",
       " '₹616']"
      ]
     },
     "execution_count": 119,
     "metadata": {},
     "output_type": "execute_result"
    }
   ],
   "source": [
    "for i in range(3): \n",
    "    price =driver.find_elements_by_xpath(\"//div[@class='_30jeq3']\")\n",
    "for l in price:\n",
    "        Price.append(l.text)\n",
    "Price[:100] "
   ]
  },
  {
   "cell_type": "code",
   "execution_count": 120,
   "id": "03a8b52d",
   "metadata": {},
   "outputs": [
    {
     "name": "stdout",
     "output_type": "stream",
     "text": [
      "40\n",
      "40\n",
      "40\n"
     ]
    },
    {
     "data": {
      "text/html": [
       "<div>\n",
       "<style scoped>\n",
       "    .dataframe tbody tr th:only-of-type {\n",
       "        vertical-align: middle;\n",
       "    }\n",
       "\n",
       "    .dataframe tbody tr th {\n",
       "        vertical-align: top;\n",
       "    }\n",
       "\n",
       "    .dataframe thead th {\n",
       "        text-align: right;\n",
       "    }\n",
       "</style>\n",
       "<table border=\"1\" class=\"dataframe\">\n",
       "  <thead>\n",
       "    <tr style=\"text-align: right;\">\n",
       "      <th></th>\n",
       "      <th>Brand_name</th>\n",
       "      <th>P_price</th>\n",
       "      <th>Pr_desc</th>\n",
       "    </tr>\n",
       "  </thead>\n",
       "  <tbody>\n",
       "    <tr>\n",
       "      <th>0</th>\n",
       "      <td>Fastrack</td>\n",
       "      <td>₹647</td>\n",
       "      <td>UV Protection Wayfarer Sunglasses (Free Size)</td>\n",
       "    </tr>\n",
       "    <tr>\n",
       "      <th>1</th>\n",
       "      <td>Fastrack</td>\n",
       "      <td>₹639</td>\n",
       "      <td>UV Protection Rectangular Sunglasses (Free Size)</td>\n",
       "    </tr>\n",
       "    <tr>\n",
       "      <th>2</th>\n",
       "      <td>Elligator</td>\n",
       "      <td>₹295</td>\n",
       "      <td>UV Protection Round Sunglasses (54)</td>\n",
       "    </tr>\n",
       "    <tr>\n",
       "      <th>3</th>\n",
       "      <td>VINCENT CHASE</td>\n",
       "      <td>₹649</td>\n",
       "      <td>UV Protection Cat-eye Sunglasses (54)</td>\n",
       "    </tr>\n",
       "    <tr>\n",
       "      <th>4</th>\n",
       "      <td>DAHAAZIL</td>\n",
       "      <td>₹219</td>\n",
       "      <td>UV Protection, Night Vision, Riding Glasses Wa...</td>\n",
       "    </tr>\n",
       "    <tr>\n",
       "      <th>5</th>\n",
       "      <td>LIZA ANGEL</td>\n",
       "      <td>₹269</td>\n",
       "      <td>UV Protection Retro Square Sunglasses (50)</td>\n",
       "    </tr>\n",
       "    <tr>\n",
       "      <th>6</th>\n",
       "      <td>SRPM</td>\n",
       "      <td>₹249</td>\n",
       "      <td>UV Protection Wayfarer Sunglasses (50)</td>\n",
       "    </tr>\n",
       "    <tr>\n",
       "      <th>7</th>\n",
       "      <td>VINCENT CHASE</td>\n",
       "      <td>₹729</td>\n",
       "      <td>by Lenskart Polarized, UV Protection Wayfarer ...</td>\n",
       "    </tr>\n",
       "    <tr>\n",
       "      <th>8</th>\n",
       "      <td>Ray-Ban</td>\n",
       "      <td>₹3,014</td>\n",
       "      <td>Mirrored, UV Protection Aviator Sunglasses (58)</td>\n",
       "    </tr>\n",
       "    <tr>\n",
       "      <th>9</th>\n",
       "      <td>ROZZETTA CRAFT</td>\n",
       "      <td>₹349</td>\n",
       "      <td>UV Protection, Gradient Retro Square Sunglasse...</td>\n",
       "    </tr>\n",
       "    <tr>\n",
       "      <th>10</th>\n",
       "      <td>New Specs</td>\n",
       "      <td>₹214</td>\n",
       "      <td>UV Protection Aviator Sunglasses (Free Size)</td>\n",
       "    </tr>\n",
       "    <tr>\n",
       "      <th>11</th>\n",
       "      <td>VINCENT CHASE</td>\n",
       "      <td>₹659</td>\n",
       "      <td>UV Protection Wayfarer Sunglasses (62)</td>\n",
       "    </tr>\n",
       "    <tr>\n",
       "      <th>12</th>\n",
       "      <td>ROZZETTA CRAFT</td>\n",
       "      <td>₹379</td>\n",
       "      <td>UV Protection, Gradient Rectangular Sunglasses...</td>\n",
       "    </tr>\n",
       "    <tr>\n",
       "      <th>13</th>\n",
       "      <td>New Specs</td>\n",
       "      <td>₹265</td>\n",
       "      <td>UV Protection Rectangular Sunglasses (Free Size)</td>\n",
       "    </tr>\n",
       "    <tr>\n",
       "      <th>14</th>\n",
       "      <td>Lee Topper</td>\n",
       "      <td>₹219</td>\n",
       "      <td>UV Protection Rectangular Sunglasses (Free Size)</td>\n",
       "    </tr>\n",
       "    <tr>\n",
       "      <th>15</th>\n",
       "      <td>VINCENT CHASE</td>\n",
       "      <td>₹649</td>\n",
       "      <td>UV Protection Rectangular Sunglasses (50)</td>\n",
       "    </tr>\n",
       "    <tr>\n",
       "      <th>16</th>\n",
       "      <td>New Specs</td>\n",
       "      <td>₹299</td>\n",
       "      <td>Mirrored, UV Protection, Riding Glasses, Other...</td>\n",
       "    </tr>\n",
       "    <tr>\n",
       "      <th>17</th>\n",
       "      <td>Mi</td>\n",
       "      <td>₹764</td>\n",
       "      <td>Polarized Wayfarer Sunglasses (Free Size)</td>\n",
       "    </tr>\n",
       "    <tr>\n",
       "      <th>18</th>\n",
       "      <td>PIRASO</td>\n",
       "      <td>₹249</td>\n",
       "      <td>UV Protection Aviator Sunglasses (54)</td>\n",
       "    </tr>\n",
       "    <tr>\n",
       "      <th>19</th>\n",
       "      <td>VINCENT CHASE</td>\n",
       "      <td>₹711</td>\n",
       "      <td>by Lenskart Polarized, UV Protection Rectangul...</td>\n",
       "    </tr>\n",
       "    <tr>\n",
       "      <th>20</th>\n",
       "      <td>ROYAL SON</td>\n",
       "      <td>₹399</td>\n",
       "      <td>Mirrored Aviator Sunglasses (Free Size)</td>\n",
       "    </tr>\n",
       "    <tr>\n",
       "      <th>21</th>\n",
       "      <td>Singco India</td>\n",
       "      <td>₹329</td>\n",
       "      <td>Riding Glasses, UV Protection Clubmaster, Wayf...</td>\n",
       "    </tr>\n",
       "    <tr>\n",
       "      <th>22</th>\n",
       "      <td>SUNBEE</td>\n",
       "      <td>₹283</td>\n",
       "      <td>UV Protection, Polarized Wayfarer Sunglasses (...</td>\n",
       "    </tr>\n",
       "    <tr>\n",
       "      <th>23</th>\n",
       "      <td>VINCENT CHASE</td>\n",
       "      <td>₹749</td>\n",
       "      <td>UV Protection Wayfarer Sunglasses (55)</td>\n",
       "    </tr>\n",
       "    <tr>\n",
       "      <th>24</th>\n",
       "      <td>kingsunglasses</td>\n",
       "      <td>₹216</td>\n",
       "      <td>UV Protection Round Sunglasses (54)</td>\n",
       "    </tr>\n",
       "    <tr>\n",
       "      <th>25</th>\n",
       "      <td>ROZZETTA CRAFT</td>\n",
       "      <td>₹399</td>\n",
       "      <td>UV Protection, Gradient Round Sunglasses (Free...</td>\n",
       "    </tr>\n",
       "    <tr>\n",
       "      <th>26</th>\n",
       "      <td>Fastrack</td>\n",
       "      <td>₹719</td>\n",
       "      <td>UV Protection Wayfarer Sunglasses (Free Size)</td>\n",
       "    </tr>\n",
       "    <tr>\n",
       "      <th>27</th>\n",
       "      <td>VINCENT CHASE</td>\n",
       "      <td>₹711</td>\n",
       "      <td>by Lenskart UV Protection Rectangular Sunglass...</td>\n",
       "    </tr>\n",
       "    <tr>\n",
       "      <th>28</th>\n",
       "      <td>Fastrack</td>\n",
       "      <td>₹1,099</td>\n",
       "      <td>UV Protection Aviator Sunglasses (58)</td>\n",
       "    </tr>\n",
       "    <tr>\n",
       "      <th>29</th>\n",
       "      <td>Rich Club</td>\n",
       "      <td>₹223</td>\n",
       "      <td>UV Protection, Mirrored, Gradient Round Sungla...</td>\n",
       "    </tr>\n",
       "    <tr>\n",
       "      <th>30</th>\n",
       "      <td>ROYAL SON</td>\n",
       "      <td>₹399</td>\n",
       "      <td>Mirrored Aviator Sunglasses (55)</td>\n",
       "    </tr>\n",
       "    <tr>\n",
       "      <th>31</th>\n",
       "      <td>VINCENT CHASE</td>\n",
       "      <td>₹649</td>\n",
       "      <td>UV Protection Rectangular Sunglasses (52)</td>\n",
       "    </tr>\n",
       "    <tr>\n",
       "      <th>32</th>\n",
       "      <td>Singco India</td>\n",
       "      <td>₹630</td>\n",
       "      <td>Gradient, Toughened Glass Lens, UV Protection ...</td>\n",
       "    </tr>\n",
       "    <tr>\n",
       "      <th>33</th>\n",
       "      <td>New Specs</td>\n",
       "      <td>₹189</td>\n",
       "      <td>UV Protection Rectangular Sunglasses (Free Size)</td>\n",
       "    </tr>\n",
       "    <tr>\n",
       "      <th>34</th>\n",
       "      <td>Fastrack</td>\n",
       "      <td>₹575</td>\n",
       "      <td>UV Protection Rectangular Sunglasses (56)</td>\n",
       "    </tr>\n",
       "    <tr>\n",
       "      <th>35</th>\n",
       "      <td>VINCENT CHASE</td>\n",
       "      <td>₹1,008</td>\n",
       "      <td>by Lenskart Polarized, UV Protection Aviator S...</td>\n",
       "    </tr>\n",
       "    <tr>\n",
       "      <th>36</th>\n",
       "      <td>agera</td>\n",
       "      <td>₹199</td>\n",
       "      <td>UV Protection Aviator Sunglasses (55)</td>\n",
       "    </tr>\n",
       "    <tr>\n",
       "      <th>37</th>\n",
       "      <td>Rich Club</td>\n",
       "      <td>₹260</td>\n",
       "      <td>UV Protection Round Sunglasses (48)</td>\n",
       "    </tr>\n",
       "    <tr>\n",
       "      <th>38</th>\n",
       "      <td>Fastrack</td>\n",
       "      <td>₹639</td>\n",
       "      <td>UV Protection Aviator Sunglasses (Free Size)</td>\n",
       "    </tr>\n",
       "    <tr>\n",
       "      <th>39</th>\n",
       "      <td>VINCENT CHASE</td>\n",
       "      <td>₹616</td>\n",
       "      <td>UV Protection Wayfarer Sunglasses (62)</td>\n",
       "    </tr>\n",
       "  </tbody>\n",
       "</table>\n",
       "</div>"
      ],
      "text/plain": [
       "        Brand_name P_price                                            Pr_desc\n",
       "0         Fastrack    ₹647      UV Protection Wayfarer Sunglasses (Free Size)\n",
       "1         Fastrack    ₹639   UV Protection Rectangular Sunglasses (Free Size)\n",
       "2        Elligator    ₹295                UV Protection Round Sunglasses (54)\n",
       "3    VINCENT CHASE    ₹649              UV Protection Cat-eye Sunglasses (54)\n",
       "4         DAHAAZIL    ₹219  UV Protection, Night Vision, Riding Glasses Wa...\n",
       "5       LIZA ANGEL    ₹269         UV Protection Retro Square Sunglasses (50)\n",
       "6             SRPM    ₹249             UV Protection Wayfarer Sunglasses (50)\n",
       "7    VINCENT CHASE    ₹729  by Lenskart Polarized, UV Protection Wayfarer ...\n",
       "8          Ray-Ban  ₹3,014    Mirrored, UV Protection Aviator Sunglasses (58)\n",
       "9   ROZZETTA CRAFT    ₹349  UV Protection, Gradient Retro Square Sunglasse...\n",
       "10       New Specs    ₹214       UV Protection Aviator Sunglasses (Free Size)\n",
       "11   VINCENT CHASE    ₹659             UV Protection Wayfarer Sunglasses (62)\n",
       "12  ROZZETTA CRAFT    ₹379  UV Protection, Gradient Rectangular Sunglasses...\n",
       "13       New Specs    ₹265   UV Protection Rectangular Sunglasses (Free Size)\n",
       "14      Lee Topper    ₹219   UV Protection Rectangular Sunglasses (Free Size)\n",
       "15   VINCENT CHASE    ₹649          UV Protection Rectangular Sunglasses (50)\n",
       "16       New Specs    ₹299  Mirrored, UV Protection, Riding Glasses, Other...\n",
       "17              Mi    ₹764          Polarized Wayfarer Sunglasses (Free Size)\n",
       "18          PIRASO    ₹249              UV Protection Aviator Sunglasses (54)\n",
       "19   VINCENT CHASE    ₹711  by Lenskart Polarized, UV Protection Rectangul...\n",
       "20       ROYAL SON    ₹399            Mirrored Aviator Sunglasses (Free Size)\n",
       "21    Singco India    ₹329  Riding Glasses, UV Protection Clubmaster, Wayf...\n",
       "22          SUNBEE    ₹283  UV Protection, Polarized Wayfarer Sunglasses (...\n",
       "23   VINCENT CHASE    ₹749             UV Protection Wayfarer Sunglasses (55)\n",
       "24  kingsunglasses    ₹216                UV Protection Round Sunglasses (54)\n",
       "25  ROZZETTA CRAFT    ₹399  UV Protection, Gradient Round Sunglasses (Free...\n",
       "26        Fastrack    ₹719      UV Protection Wayfarer Sunglasses (Free Size)\n",
       "27   VINCENT CHASE    ₹711  by Lenskart UV Protection Rectangular Sunglass...\n",
       "28        Fastrack  ₹1,099              UV Protection Aviator Sunglasses (58)\n",
       "29       Rich Club    ₹223  UV Protection, Mirrored, Gradient Round Sungla...\n",
       "30       ROYAL SON    ₹399                   Mirrored Aviator Sunglasses (55)\n",
       "31   VINCENT CHASE    ₹649          UV Protection Rectangular Sunglasses (52)\n",
       "32    Singco India    ₹630  Gradient, Toughened Glass Lens, UV Protection ...\n",
       "33       New Specs    ₹189   UV Protection Rectangular Sunglasses (Free Size)\n",
       "34        Fastrack    ₹575          UV Protection Rectangular Sunglasses (56)\n",
       "35   VINCENT CHASE  ₹1,008  by Lenskart Polarized, UV Protection Aviator S...\n",
       "36           agera    ₹199              UV Protection Aviator Sunglasses (55)\n",
       "37       Rich Club    ₹260                UV Protection Round Sunglasses (48)\n",
       "38        Fastrack    ₹639       UV Protection Aviator Sunglasses (Free Size)\n",
       "39   VINCENT CHASE    ₹616             UV Protection Wayfarer Sunglasses (62)"
      ]
     },
     "execution_count": 120,
     "metadata": {},
     "output_type": "execute_result"
    }
   ],
   "source": [
    "print(len(B_name[:40])),print(len(Price[:40])),print(len(P_desc[:40]))\n",
    "\n",
    "#Import pandas as pd\n",
    "sun_gl=pd.DataFrame({})\n",
    "sun_gl['Brand_name']=B_name[:40]\n",
    "sun_gl['P_price']=Price[:40]\n",
    "sun_gl['Pr_desc']=P_desc[:40]\n",
    "sun_gl"
   ]
  },
  {
   "cell_type": "code",
   "execution_count": 121,
   "id": "558da91a",
   "metadata": {},
   "outputs": [
    {
     "data": {
      "text/plain": [
       "['Fastrack',\n",
       " 'Fastrack',\n",
       " 'Elligator',\n",
       " 'VINCENT CHASE',\n",
       " 'DAHAAZIL',\n",
       " 'LIZA ANGEL',\n",
       " 'SRPM',\n",
       " 'VINCENT CHASE',\n",
       " 'Ray-Ban',\n",
       " 'ROZZETTA CRAFT',\n",
       " 'New Specs',\n",
       " 'VINCENT CHASE',\n",
       " 'ROZZETTA CRAFT',\n",
       " 'New Specs',\n",
       " 'Lee Topper',\n",
       " 'VINCENT CHASE',\n",
       " 'New Specs',\n",
       " 'Mi',\n",
       " 'PIRASO',\n",
       " 'VINCENT CHASE',\n",
       " 'ROYAL SON',\n",
       " 'Singco India',\n",
       " 'SUNBEE',\n",
       " 'VINCENT CHASE',\n",
       " 'kingsunglasses',\n",
       " 'ROZZETTA CRAFT',\n",
       " 'Fastrack',\n",
       " 'VINCENT CHASE',\n",
       " 'Fastrack',\n",
       " 'Rich Club',\n",
       " 'ROYAL SON',\n",
       " 'VINCENT CHASE',\n",
       " 'Singco India',\n",
       " 'New Specs',\n",
       " 'Fastrack',\n",
       " 'VINCENT CHASE',\n",
       " 'agera',\n",
       " 'Rich Club',\n",
       " 'Fastrack',\n",
       " 'VINCENT CHASE',\n",
       " 'Fastrack',\n",
       " 'Fastrack',\n",
       " 'Elligator',\n",
       " 'VINCENT CHASE',\n",
       " 'DAHAAZIL',\n",
       " 'LIZA ANGEL',\n",
       " 'SRPM',\n",
       " 'VINCENT CHASE',\n",
       " 'Ray-Ban',\n",
       " 'ROZZETTA CRAFT',\n",
       " 'New Specs',\n",
       " 'VINCENT CHASE',\n",
       " 'ROZZETTA CRAFT',\n",
       " 'New Specs',\n",
       " 'Lee Topper',\n",
       " 'VINCENT CHASE',\n",
       " 'New Specs',\n",
       " 'Mi',\n",
       " 'PIRASO',\n",
       " 'VINCENT CHASE',\n",
       " 'ROYAL SON',\n",
       " 'Singco India',\n",
       " 'SUNBEE',\n",
       " 'VINCENT CHASE',\n",
       " 'kingsunglasses',\n",
       " 'ROZZETTA CRAFT',\n",
       " 'Fastrack',\n",
       " 'VINCENT CHASE',\n",
       " 'Fastrack',\n",
       " 'Rich Club',\n",
       " 'ROYAL SON',\n",
       " 'VINCENT CHASE',\n",
       " 'Singco India',\n",
       " 'New Specs',\n",
       " 'Fastrack',\n",
       " 'VINCENT CHASE',\n",
       " 'agera',\n",
       " 'Rich Club',\n",
       " 'Fastrack',\n",
       " 'VINCENT CHASE',\n",
       " 'Fastrack',\n",
       " 'Fastrack',\n",
       " 'Elligator',\n",
       " 'VINCENT CHASE',\n",
       " 'DAHAAZIL',\n",
       " 'LIZA ANGEL',\n",
       " 'SRPM',\n",
       " 'VINCENT CHASE',\n",
       " 'Ray-Ban',\n",
       " 'ROZZETTA CRAFT',\n",
       " 'New Specs',\n",
       " 'VINCENT CHASE',\n",
       " 'ROZZETTA CRAFT',\n",
       " 'New Specs',\n",
       " 'Lee Topper',\n",
       " 'VINCENT CHASE',\n",
       " 'New Specs',\n",
       " 'Mi',\n",
       " 'PIRASO',\n",
       " 'VINCENT CHASE']"
      ]
     },
     "execution_count": 121,
     "metadata": {},
     "output_type": "execute_result"
    }
   ],
   "source": [
    "for i in range(3):\n",
    "    b_name=driver.find_elements_by_xpath(\"//div[@class='_2WkVRV']\")\n",
    "    p_desc=driver.find_elements_by_xpath(\"//a[@class='IRpwTa']\")\n",
    "    price =driver.find_elements_by_xpath(\"//div[@class='_30jeq3']\")\n",
    "    \n",
    "    for j  in b_name:\n",
    "        B_name.append(j.text)\n",
    "    B_name[:100]\n",
    "        \n",
    "    for k in p_desc:\n",
    "        P_desc.append(k.text)\n",
    "    P_desc[:100]\n",
    "        \n",
    "    for l in price:\n",
    "        Price.append(l.text)\n",
    "    Price[:100]\n",
    "\n",
    "    \n",
    "B_name[:100]"
   ]
  },
  {
   "cell_type": "code",
   "execution_count": 122,
   "id": "10e37c38",
   "metadata": {},
   "outputs": [
    {
     "data": {
      "text/plain": [
       "['UV Protection Wayfarer Sunglasses (Free Size)',\n",
       " 'UV Protection Rectangular Sunglasses (Free Size)',\n",
       " 'UV Protection Round Sunglasses (54)',\n",
       " 'UV Protection Cat-eye Sunglasses (54)',\n",
       " 'UV Protection, Night Vision, Riding Glasses Wayfarer, W...',\n",
       " 'UV Protection Retro Square Sunglasses (50)',\n",
       " 'UV Protection Wayfarer Sunglasses (50)',\n",
       " 'by Lenskart Polarized, UV Protection Wayfarer Sunglasse...',\n",
       " 'Mirrored, UV Protection Aviator Sunglasses (58)',\n",
       " 'UV Protection, Gradient Retro Square Sunglasses (Free S...',\n",
       " 'UV Protection Aviator Sunglasses (Free Size)',\n",
       " 'UV Protection Wayfarer Sunglasses (62)',\n",
       " 'UV Protection, Gradient Rectangular Sunglasses (Free Si...',\n",
       " 'UV Protection Rectangular Sunglasses (Free Size)',\n",
       " 'UV Protection Rectangular Sunglasses (Free Size)',\n",
       " 'UV Protection Rectangular Sunglasses (50)',\n",
       " 'Mirrored, UV Protection, Riding Glasses, Others Round S...',\n",
       " 'Polarized Wayfarer Sunglasses (Free Size)',\n",
       " 'UV Protection Aviator Sunglasses (54)',\n",
       " 'by Lenskart Polarized, UV Protection Rectangular Sungla...',\n",
       " 'Mirrored Aviator Sunglasses (Free Size)',\n",
       " 'Riding Glasses, UV Protection Clubmaster, Wayfarer Sung...',\n",
       " 'UV Protection, Polarized Wayfarer Sunglasses (Free Size...',\n",
       " 'UV Protection Wayfarer Sunglasses (55)',\n",
       " 'UV Protection Round Sunglasses (54)',\n",
       " 'UV Protection, Gradient Round Sunglasses (Free Size)',\n",
       " 'UV Protection Wayfarer Sunglasses (Free Size)',\n",
       " 'by Lenskart UV Protection Rectangular Sunglasses (54)',\n",
       " 'UV Protection Aviator Sunglasses (58)',\n",
       " 'UV Protection, Mirrored, Gradient Round Sunglasses (51)',\n",
       " 'Mirrored Aviator Sunglasses (55)',\n",
       " 'UV Protection Rectangular Sunglasses (52)',\n",
       " 'Gradient, Toughened Glass Lens, UV Protection Retro Squ...',\n",
       " 'UV Protection Rectangular Sunglasses (Free Size)',\n",
       " 'UV Protection Rectangular Sunglasses (56)',\n",
       " 'by Lenskart Polarized, UV Protection Aviator Sunglasses...',\n",
       " 'UV Protection Aviator Sunglasses (55)',\n",
       " 'UV Protection Round Sunglasses (48)',\n",
       " 'UV Protection Aviator Sunglasses (Free Size)',\n",
       " 'UV Protection Wayfarer Sunglasses (62)',\n",
       " 'UV Protection Wayfarer Sunglasses (Free Size)',\n",
       " 'UV Protection Rectangular Sunglasses (Free Size)',\n",
       " 'UV Protection Round Sunglasses (54)',\n",
       " 'UV Protection Cat-eye Sunglasses (54)',\n",
       " 'UV Protection, Night Vision, Riding Glasses Wayfarer, W...',\n",
       " 'UV Protection Retro Square Sunglasses (50)',\n",
       " 'UV Protection Wayfarer Sunglasses (50)',\n",
       " 'by Lenskart Polarized, UV Protection Wayfarer Sunglasse...',\n",
       " 'Mirrored, UV Protection Aviator Sunglasses (58)',\n",
       " 'UV Protection, Gradient Retro Square Sunglasses (Free S...',\n",
       " 'UV Protection Aviator Sunglasses (Free Size)',\n",
       " 'UV Protection Wayfarer Sunglasses (62)',\n",
       " 'UV Protection, Gradient Rectangular Sunglasses (Free Si...',\n",
       " 'UV Protection Rectangular Sunglasses (Free Size)',\n",
       " 'UV Protection Rectangular Sunglasses (Free Size)',\n",
       " 'UV Protection Rectangular Sunglasses (50)',\n",
       " 'Mirrored, UV Protection, Riding Glasses, Others Round S...',\n",
       " 'Polarized Wayfarer Sunglasses (Free Size)',\n",
       " 'UV Protection Aviator Sunglasses (54)',\n",
       " 'by Lenskart Polarized, UV Protection Rectangular Sungla...',\n",
       " 'Mirrored Aviator Sunglasses (Free Size)',\n",
       " 'Riding Glasses, UV Protection Clubmaster, Wayfarer Sung...',\n",
       " 'UV Protection, Polarized Wayfarer Sunglasses (Free Size...',\n",
       " 'UV Protection Wayfarer Sunglasses (55)',\n",
       " 'UV Protection Round Sunglasses (54)',\n",
       " 'UV Protection, Gradient Round Sunglasses (Free Size)',\n",
       " 'UV Protection Wayfarer Sunglasses (Free Size)',\n",
       " 'by Lenskart UV Protection Rectangular Sunglasses (54)',\n",
       " 'UV Protection Aviator Sunglasses (58)',\n",
       " 'UV Protection, Mirrored, Gradient Round Sunglasses (51)',\n",
       " 'Mirrored Aviator Sunglasses (55)',\n",
       " 'UV Protection Rectangular Sunglasses (52)',\n",
       " 'Gradient, Toughened Glass Lens, UV Protection Retro Squ...',\n",
       " 'UV Protection Rectangular Sunglasses (Free Size)',\n",
       " 'UV Protection Rectangular Sunglasses (56)',\n",
       " 'by Lenskart Polarized, UV Protection Aviator Sunglasses...',\n",
       " 'UV Protection Aviator Sunglasses (55)',\n",
       " 'UV Protection Round Sunglasses (48)',\n",
       " 'UV Protection Aviator Sunglasses (Free Size)',\n",
       " 'UV Protection Wayfarer Sunglasses (62)',\n",
       " 'UV Protection Wayfarer Sunglasses (Free Size)',\n",
       " 'UV Protection Rectangular Sunglasses (Free Size)',\n",
       " 'UV Protection Round Sunglasses (54)',\n",
       " 'UV Protection Cat-eye Sunglasses (54)',\n",
       " 'UV Protection, Night Vision, Riding Glasses Wayfarer, W...',\n",
       " 'UV Protection Retro Square Sunglasses (50)',\n",
       " 'UV Protection Wayfarer Sunglasses (50)',\n",
       " 'by Lenskart Polarized, UV Protection Wayfarer Sunglasse...',\n",
       " 'Mirrored, UV Protection Aviator Sunglasses (58)',\n",
       " 'UV Protection, Gradient Retro Square Sunglasses (Free S...',\n",
       " 'UV Protection Aviator Sunglasses (Free Size)',\n",
       " 'UV Protection Wayfarer Sunglasses (62)',\n",
       " 'UV Protection, Gradient Rectangular Sunglasses (Free Si...',\n",
       " 'UV Protection Rectangular Sunglasses (Free Size)',\n",
       " 'UV Protection Rectangular Sunglasses (Free Size)',\n",
       " 'UV Protection Rectangular Sunglasses (50)',\n",
       " 'Mirrored, UV Protection, Riding Glasses, Others Round S...',\n",
       " 'Polarized Wayfarer Sunglasses (Free Size)',\n",
       " 'UV Protection Aviator Sunglasses (54)',\n",
       " 'by Lenskart Polarized, UV Protection Rectangular Sungla...']"
      ]
     },
     "execution_count": 122,
     "metadata": {},
     "output_type": "execute_result"
    }
   ],
   "source": [
    "P_desc[:100]"
   ]
  },
  {
   "cell_type": "code",
   "execution_count": 123,
   "id": "02f5c60f",
   "metadata": {},
   "outputs": [
    {
     "data": {
      "text/plain": [
       "['₹647',\n",
       " '₹639',\n",
       " '₹295',\n",
       " '₹649',\n",
       " '₹219',\n",
       " '₹269',\n",
       " '₹249',\n",
       " '₹729',\n",
       " '₹3,014',\n",
       " '₹349',\n",
       " '₹214',\n",
       " '₹659',\n",
       " '₹379',\n",
       " '₹265',\n",
       " '₹219',\n",
       " '₹649',\n",
       " '₹299',\n",
       " '₹764',\n",
       " '₹249',\n",
       " '₹711',\n",
       " '₹399',\n",
       " '₹329',\n",
       " '₹283',\n",
       " '₹749',\n",
       " '₹216',\n",
       " '₹399',\n",
       " '₹719',\n",
       " '₹711',\n",
       " '₹1,099',\n",
       " '₹223',\n",
       " '₹399',\n",
       " '₹649',\n",
       " '₹630',\n",
       " '₹189',\n",
       " '₹575',\n",
       " '₹1,008',\n",
       " '₹199',\n",
       " '₹260',\n",
       " '₹639',\n",
       " '₹616',\n",
       " '₹647',\n",
       " '₹639',\n",
       " '₹295',\n",
       " '₹649',\n",
       " '₹219',\n",
       " '₹269',\n",
       " '₹249',\n",
       " '₹729',\n",
       " '₹3,014',\n",
       " '₹349',\n",
       " '₹214',\n",
       " '₹659',\n",
       " '₹379',\n",
       " '₹265',\n",
       " '₹219',\n",
       " '₹649',\n",
       " '₹299',\n",
       " '₹764',\n",
       " '₹249',\n",
       " '₹711',\n",
       " '₹399',\n",
       " '₹329',\n",
       " '₹283',\n",
       " '₹749',\n",
       " '₹216',\n",
       " '₹399',\n",
       " '₹719',\n",
       " '₹711',\n",
       " '₹1,099',\n",
       " '₹223',\n",
       " '₹399',\n",
       " '₹649',\n",
       " '₹630',\n",
       " '₹189',\n",
       " '₹575',\n",
       " '₹1,008',\n",
       " '₹199',\n",
       " '₹260',\n",
       " '₹639',\n",
       " '₹616',\n",
       " '₹647',\n",
       " '₹639',\n",
       " '₹295',\n",
       " '₹649',\n",
       " '₹219',\n",
       " '₹269',\n",
       " '₹249',\n",
       " '₹729',\n",
       " '₹3,014',\n",
       " '₹349',\n",
       " '₹214',\n",
       " '₹659',\n",
       " '₹379',\n",
       " '₹265',\n",
       " '₹219',\n",
       " '₹649',\n",
       " '₹299',\n",
       " '₹764',\n",
       " '₹249',\n",
       " '₹711']"
      ]
     },
     "execution_count": 123,
     "metadata": {},
     "output_type": "execute_result"
    }
   ],
   "source": [
    "Price[:100]"
   ]
  },
  {
   "cell_type": "code",
   "execution_count": 124,
   "id": "c5cfd042",
   "metadata": {},
   "outputs": [
    {
     "data": {
      "text/html": [
       "<div>\n",
       "<style scoped>\n",
       "    .dataframe tbody tr th:only-of-type {\n",
       "        vertical-align: middle;\n",
       "    }\n",
       "\n",
       "    .dataframe tbody tr th {\n",
       "        vertical-align: top;\n",
       "    }\n",
       "\n",
       "    .dataframe thead th {\n",
       "        text-align: right;\n",
       "    }\n",
       "</style>\n",
       "<table border=\"1\" class=\"dataframe\">\n",
       "  <thead>\n",
       "    <tr style=\"text-align: right;\">\n",
       "      <th></th>\n",
       "      <th>Brand_name</th>\n",
       "      <th>P_price</th>\n",
       "      <th>Pr_desc</th>\n",
       "    </tr>\n",
       "  </thead>\n",
       "  <tbody>\n",
       "    <tr>\n",
       "      <th>0</th>\n",
       "      <td>Fastrack</td>\n",
       "      <td>₹647</td>\n",
       "      <td>UV Protection Wayfarer Sunglasses (Free Size)</td>\n",
       "    </tr>\n",
       "    <tr>\n",
       "      <th>1</th>\n",
       "      <td>Fastrack</td>\n",
       "      <td>₹639</td>\n",
       "      <td>UV Protection Rectangular Sunglasses (Free Size)</td>\n",
       "    </tr>\n",
       "    <tr>\n",
       "      <th>2</th>\n",
       "      <td>Elligator</td>\n",
       "      <td>₹295</td>\n",
       "      <td>UV Protection Round Sunglasses (54)</td>\n",
       "    </tr>\n",
       "    <tr>\n",
       "      <th>3</th>\n",
       "      <td>VINCENT CHASE</td>\n",
       "      <td>₹649</td>\n",
       "      <td>UV Protection Cat-eye Sunglasses (54)</td>\n",
       "    </tr>\n",
       "    <tr>\n",
       "      <th>4</th>\n",
       "      <td>DAHAAZIL</td>\n",
       "      <td>₹219</td>\n",
       "      <td>UV Protection, Night Vision, Riding Glasses Wa...</td>\n",
       "    </tr>\n",
       "    <tr>\n",
       "      <th>...</th>\n",
       "      <td>...</td>\n",
       "      <td>...</td>\n",
       "      <td>...</td>\n",
       "    </tr>\n",
       "    <tr>\n",
       "      <th>95</th>\n",
       "      <td>VINCENT CHASE</td>\n",
       "      <td>₹649</td>\n",
       "      <td>UV Protection Rectangular Sunglasses (50)</td>\n",
       "    </tr>\n",
       "    <tr>\n",
       "      <th>96</th>\n",
       "      <td>New Specs</td>\n",
       "      <td>₹299</td>\n",
       "      <td>Mirrored, UV Protection, Riding Glasses, Other...</td>\n",
       "    </tr>\n",
       "    <tr>\n",
       "      <th>97</th>\n",
       "      <td>Mi</td>\n",
       "      <td>₹764</td>\n",
       "      <td>Polarized Wayfarer Sunglasses (Free Size)</td>\n",
       "    </tr>\n",
       "    <tr>\n",
       "      <th>98</th>\n",
       "      <td>PIRASO</td>\n",
       "      <td>₹249</td>\n",
       "      <td>UV Protection Aviator Sunglasses (54)</td>\n",
       "    </tr>\n",
       "    <tr>\n",
       "      <th>99</th>\n",
       "      <td>VINCENT CHASE</td>\n",
       "      <td>₹711</td>\n",
       "      <td>by Lenskart Polarized, UV Protection Rectangul...</td>\n",
       "    </tr>\n",
       "  </tbody>\n",
       "</table>\n",
       "<p>100 rows × 3 columns</p>\n",
       "</div>"
      ],
      "text/plain": [
       "       Brand_name P_price                                            Pr_desc\n",
       "0        Fastrack    ₹647      UV Protection Wayfarer Sunglasses (Free Size)\n",
       "1        Fastrack    ₹639   UV Protection Rectangular Sunglasses (Free Size)\n",
       "2       Elligator    ₹295                UV Protection Round Sunglasses (54)\n",
       "3   VINCENT CHASE    ₹649              UV Protection Cat-eye Sunglasses (54)\n",
       "4        DAHAAZIL    ₹219  UV Protection, Night Vision, Riding Glasses Wa...\n",
       "..            ...     ...                                                ...\n",
       "95  VINCENT CHASE    ₹649          UV Protection Rectangular Sunglasses (50)\n",
       "96      New Specs    ₹299  Mirrored, UV Protection, Riding Glasses, Other...\n",
       "97             Mi    ₹764          Polarized Wayfarer Sunglasses (Free Size)\n",
       "98         PIRASO    ₹249              UV Protection Aviator Sunglasses (54)\n",
       "99  VINCENT CHASE    ₹711  by Lenskart Polarized, UV Protection Rectangul...\n",
       "\n",
       "[100 rows x 3 columns]"
      ]
     },
     "execution_count": 124,
     "metadata": {},
     "output_type": "execute_result"
    }
   ],
   "source": [
    "sun_gl=pd.DataFrame({})\n",
    "sun_gl['Brand_name']=B_name[:100]\n",
    "sun_gl['P_price']=Price[:100]\n",
    "sun_gl['Pr_desc']=P_desc[:100]\n",
    "sun_gl"
   ]
  },
  {
   "cell_type": "markdown",
   "id": "08466a60",
   "metadata": {},
   "source": [
    "# question-5"
   ]
  },
  {
   "cell_type": "code",
   "execution_count": 156,
   "id": "87943dbe",
   "metadata": {},
   "outputs": [],
   "source": [
    "import selenium\n",
    "import pandas as pd\n",
    "from selenium import webdriver\n",
    "import warnings\n",
    "warnings.filterwarnings(\"ignore\")\n",
    "import time"
   ]
  },
  {
   "cell_type": "code",
   "execution_count": 157,
   "id": "f960a5be",
   "metadata": {},
   "outputs": [],
   "source": [
    "driver=webdriver.Chrome(r\"C:\\web driver\\chromedriver\")\n",
    "driver=webdriver.Chrome(\"chromedriver.exe\")\n",
    "time.sleep(2)"
   ]
  },
  {
   "cell_type": "code",
   "execution_count": 158,
   "id": "c9a5e41a",
   "metadata": {},
   "outputs": [],
   "source": [
    "driver.get('https://www.flipkart.com/apple-iphone-11-black-64-gb-includes-earpods-power-adapter/p/itm0f37c2240b217?pid=MOBFKCTSVZAXUHGR&lid=LSTMOBFKCTSVZAXUHGREPBFGI&marketplace')\n",
    "Rating=[] \n",
    "Review_summary=[]\n",
    "Full_review=[]\n",
    "all_btn = driver.find_element_by_xpath(\"//div[@class='_3UAT2v _16PBlm']/span\")\n",
    "all_btn.click()"
   ]
  },
  {
   "cell_type": "code",
   "execution_count": 159,
   "id": "9ae5dafe",
   "metadata": {},
   "outputs": [
    {
     "data": {
      "text/plain": [
       "['5',\n",
       " '5',\n",
       " '5',\n",
       " '5',\n",
       " '5',\n",
       " '5',\n",
       " '5',\n",
       " '4',\n",
       " '5',\n",
       " '5',\n",
       " '5',\n",
       " '5',\n",
       " '5',\n",
       " '5',\n",
       " '5',\n",
       " '5',\n",
       " '5',\n",
       " '4',\n",
       " '5',\n",
       " '5',\n",
       " '5',\n",
       " '5',\n",
       " '5',\n",
       " '5',\n",
       " '5',\n",
       " '5',\n",
       " '5',\n",
       " '4',\n",
       " '5',\n",
       " '5',\n",
       " '5',\n",
       " '5',\n",
       " '5',\n",
       " '5',\n",
       " '5',\n",
       " '5',\n",
       " '5',\n",
       " '4',\n",
       " '5',\n",
       " '5',\n",
       " '5',\n",
       " '5',\n",
       " '5',\n",
       " '5',\n",
       " '5',\n",
       " '5',\n",
       " '5',\n",
       " '4',\n",
       " '5',\n",
       " '5',\n",
       " '5',\n",
       " '5',\n",
       " '5',\n",
       " '5',\n",
       " '5',\n",
       " '5',\n",
       " '5',\n",
       " '4',\n",
       " '5',\n",
       " '5',\n",
       " '5',\n",
       " '5',\n",
       " '5',\n",
       " '5',\n",
       " '5',\n",
       " '5',\n",
       " '5',\n",
       " '4',\n",
       " '5',\n",
       " '5',\n",
       " '5',\n",
       " '5',\n",
       " '5',\n",
       " '5',\n",
       " '5',\n",
       " '5',\n",
       " '5',\n",
       " '4',\n",
       " '5',\n",
       " '5',\n",
       " '5',\n",
       " '5',\n",
       " '5',\n",
       " '5',\n",
       " '5',\n",
       " '5',\n",
       " '5',\n",
       " '4',\n",
       " '5',\n",
       " '5',\n",
       " '5',\n",
       " '5',\n",
       " '5',\n",
       " '5',\n",
       " '5',\n",
       " '5',\n",
       " '5',\n",
       " '4',\n",
       " '5',\n",
       " '5']"
      ]
     },
     "execution_count": 159,
     "metadata": {},
     "output_type": "execute_result"
    }
   ],
   "source": [
    "for page in range(0,10):\n",
    "    r = driver.find_elements_by_xpath(\"//div[@class='_3LWZlK _1BLPMq']\")\n",
    "\n",
    "    for i in r:\n",
    "        title=i.text\n",
    "        Rating.append(title)\n",
    "    driver.find_element_by_xpath(\"//nav[@class='yFHi8N']/a\").click()\n",
    "Rating[0:100]"
   ]
  },
  {
   "cell_type": "code",
   "execution_count": 160,
   "id": "bcec6a38",
   "metadata": {},
   "outputs": [
    {
     "data": {
      "text/plain": [
       "['Brilliant',\n",
       " 'Simply awesome',\n",
       " 'Best in the market!',\n",
       " 'Perfect product!',\n",
       " 'Fabulous!',\n",
       " 'Worth every penny',\n",
       " 'Great product',\n",
       " 'Good choice',\n",
       " 'Highly recommended',\n",
       " 'Worth every penny',\n",
       " 'Brilliant',\n",
       " 'Simply awesome',\n",
       " 'Best in the market!',\n",
       " 'Perfect product!',\n",
       " 'Fabulous!',\n",
       " 'Worth every penny',\n",
       " 'Great product',\n",
       " 'Good choice',\n",
       " 'Highly recommended',\n",
       " 'Worth every penny',\n",
       " 'Brilliant',\n",
       " 'Simply awesome',\n",
       " 'Best in the market!',\n",
       " 'Perfect product!',\n",
       " 'Fabulous!',\n",
       " 'Worth every penny',\n",
       " 'Great product',\n",
       " 'Good choice',\n",
       " 'Highly recommended',\n",
       " 'Worth every penny',\n",
       " 'Brilliant',\n",
       " 'Simply awesome',\n",
       " 'Best in the market!',\n",
       " 'Perfect product!',\n",
       " 'Fabulous!',\n",
       " 'Worth every penny',\n",
       " 'Great product',\n",
       " 'Good choice',\n",
       " 'Highly recommended',\n",
       " 'Worth every penny',\n",
       " 'Brilliant',\n",
       " 'Simply awesome',\n",
       " 'Best in the market!',\n",
       " 'Perfect product!',\n",
       " 'Fabulous!',\n",
       " 'Worth every penny',\n",
       " 'Great product',\n",
       " 'Good choice',\n",
       " 'Highly recommended',\n",
       " 'Worth every penny',\n",
       " 'Brilliant',\n",
       " 'Simply awesome',\n",
       " 'Best in the market!',\n",
       " 'Perfect product!',\n",
       " 'Fabulous!',\n",
       " 'Worth every penny',\n",
       " 'Great product',\n",
       " 'Good choice',\n",
       " 'Highly recommended',\n",
       " 'Worth every penny',\n",
       " 'Brilliant',\n",
       " 'Simply awesome',\n",
       " 'Best in the market!',\n",
       " 'Perfect product!',\n",
       " 'Fabulous!',\n",
       " 'Worth every penny',\n",
       " 'Great product',\n",
       " 'Good choice',\n",
       " 'Highly recommended',\n",
       " 'Worth every penny',\n",
       " 'Brilliant',\n",
       " 'Simply awesome',\n",
       " 'Best in the market!',\n",
       " 'Perfect product!',\n",
       " 'Fabulous!',\n",
       " 'Worth every penny',\n",
       " 'Great product',\n",
       " 'Good choice',\n",
       " 'Highly recommended',\n",
       " 'Worth every penny',\n",
       " 'Brilliant',\n",
       " 'Simply awesome',\n",
       " 'Best in the market!',\n",
       " 'Perfect product!',\n",
       " 'Fabulous!',\n",
       " 'Worth every penny',\n",
       " 'Great product',\n",
       " 'Good choice',\n",
       " 'Highly recommended',\n",
       " 'Worth every penny',\n",
       " 'Brilliant',\n",
       " 'Simply awesome',\n",
       " 'Best in the market!',\n",
       " 'Perfect product!',\n",
       " 'Fabulous!',\n",
       " 'Worth every penny',\n",
       " 'Great product',\n",
       " 'Good choice',\n",
       " 'Highly recommended',\n",
       " 'Worth every penny']"
      ]
     },
     "execution_count": 160,
     "metadata": {},
     "output_type": "execute_result"
    }
   ],
   "source": [
    "for page in range(0,10):\n",
    "    s = driver.find_elements_by_xpath(\"//p[@class='_2-N8zT']\")\n",
    "\n",
    "    for i in s:\n",
    "        title=i.text\n",
    "        Review_summary.append(title)\n",
    "    driver.find_element_by_xpath(\"//nav[@class='yFHi8N']/a\").click()\n",
    "Review_summary[0:100]"
   ]
  },
  {
   "cell_type": "code",
   "execution_count": 161,
   "id": "b923d06e",
   "metadata": {},
   "outputs": [
    {
     "data": {
      "text/plain": [
       "['The Best Phone for the Money\\n\\nThe iPhone 11 offers superb cameras, a more durable design and excellent battery life for an affordable price.\\n\\nCompelling ultra-wide camera\\nNew Night mode is excellent\\nLong battery life',\n",
       " 'Really satisfied with the Product I received... It’s totally genuine and the packaging was also really good so if ur planning to buy just go for it.',\n",
       " 'Great iPhone very snappy experience as apple kind. Upgraded from iPhone 7.\\nPros\\n-Camera top class\\n- Battery top performed\\n-Chipset no need to say as apple kind\\n-Security as you expect from apple\\n- Display super bright industry leading colour\\naccuracy and super responsive\\n-Build quality as expect from apple sturdy\\npremium durable beautiful stylish.\\n-Os most stable os in smartphone industry\\n\\nCons\\n-No 5G\\n-Display is not based on OLED technology\\n-Charger headphones and 1 apple stic...\\nREAD MORE',\n",
       " 'Amazing phone with great cameras and better battery which gives you the best performance. I just love the camera .',\n",
       " 'This is my first iOS phone. I am very happy with this product. Very much satisfied with this. I love this phone.',\n",
       " 'Previously I was using one plus 3t it was a great phone\\nAnd then I decided to upgrade I am stuck between Samsung s10 plus or iPhone 11\\nI have seen the specs and everything were good except the display it’s somewhere between 720-1080 and it’s not even an amoled it’s an LCD display\\nBut I decided to go with iPhone because I have never used an IOS device I have Been an android user from the past 9 years I ordered IPhone 11 (128gb) product red\\nMy experience after using 3 weeks\\n1. The delivery ...\\nREAD MORE',\n",
       " 'Amazing Powerful and Durable Gadget.\\n\\nI’m am very happy with the camera picture quality, Amazing face id unlocked in dark room, Strong battery with perfect screen size as you can carry easily in pocket. This is my third iPhone.\\n\\nI shifted from android Samsung Note series to iPhone because of the strong build quality and peace of mind for next 3-4 years.\\n\\nDon’t think to much just go for it and I suggest you to go for minimum 128gb variant or more 256gb.\\n\\nI’ve attached my puppy pics and no fi...\\nREAD MORE',\n",
       " 'So far it’s been an AMAZING experience coming back to iOS after nearly a decade but it’s not as versatile as android though phone is sturdy dropped it accidentally a couple of times and nothing happened fortunately camera is awesome',\n",
       " 'What a camera .....just awesome ..you can feel this iPhone just awesome . Good for gaming also ...try pubg in hd it’s just wow',\n",
       " 'i11 is worthy to buy, too much happy with the product. Thank u flipkart I received the item on time..loved it..',\n",
       " 'The Best Phone for the Money\\n\\nThe iPhone 11 offers superb cameras, a more durable design and excellent battery life for an affordable price.\\n\\nCompelling ultra-wide camera\\nNew Night mode is excellent\\nLong battery life',\n",
       " 'Really satisfied with the Product I received... It’s totally genuine and the packaging was also really good so if ur planning to buy just go for it.',\n",
       " 'Great iPhone very snappy experience as apple kind. Upgraded from iPhone 7.\\nPros\\n-Camera top class\\n- Battery top performed\\n-Chipset no need to say as apple kind\\n-Security as you expect from apple\\n- Display super bright industry leading colour\\naccuracy and super responsive\\n-Build quality as expect from apple sturdy\\npremium durable beautiful stylish.\\n-Os most stable os in smartphone industry\\n\\nCons\\n-No 5G\\n-Display is not based on OLED technology\\n-Charger headphones and 1 apple stic...\\nREAD MORE',\n",
       " 'Amazing phone with great cameras and better battery which gives you the best performance. I just love the camera .',\n",
       " 'This is my first iOS phone. I am very happy with this product. Very much satisfied with this. I love this phone.',\n",
       " 'Previously I was using one plus 3t it was a great phone\\nAnd then I decided to upgrade I am stuck between Samsung s10 plus or iPhone 11\\nI have seen the specs and everything were good except the display it’s somewhere between 720-1080 and it’s not even an amoled it’s an LCD display\\nBut I decided to go with iPhone because I have never used an IOS device I have Been an android user from the past 9 years I ordered IPhone 11 (128gb) product red\\nMy experience after using 3 weeks\\n1. The delivery ...\\nREAD MORE',\n",
       " 'Amazing Powerful and Durable Gadget.\\n\\nI’m am very happy with the camera picture quality, Amazing face id unlocked in dark room, Strong battery with perfect screen size as you can carry easily in pocket. This is my third iPhone.\\n\\nI shifted from android Samsung Note series to iPhone because of the strong build quality and peace of mind for next 3-4 years.\\n\\nDon’t think to much just go for it and I suggest you to go for minimum 128gb variant or more 256gb.\\n\\nI’ve attached my puppy pics and no fi...\\nREAD MORE',\n",
       " 'So far it’s been an AMAZING experience coming back to iOS after nearly a decade but it’s not as versatile as android though phone is sturdy dropped it accidentally a couple of times and nothing happened fortunately camera is awesome',\n",
       " 'What a camera .....just awesome ..you can feel this iPhone just awesome . Good for gaming also ...try pubg in hd it’s just wow',\n",
       " 'i11 is worthy to buy, too much happy with the product. Thank u flipkart I received the item on time..loved it..',\n",
       " 'The Best Phone for the Money\\n\\nThe iPhone 11 offers superb cameras, a more durable design and excellent battery life for an affordable price.\\n\\nCompelling ultra-wide camera\\nNew Night mode is excellent\\nLong battery life',\n",
       " 'Really satisfied with the Product I received... It’s totally genuine and the packaging was also really good so if ur planning to buy just go for it.',\n",
       " 'Great iPhone very snappy experience as apple kind. Upgraded from iPhone 7.\\nPros\\n-Camera top class\\n- Battery top performed\\n-Chipset no need to say as apple kind\\n-Security as you expect from apple\\n- Display super bright industry leading colour\\naccuracy and super responsive\\n-Build quality as expect from apple sturdy\\npremium durable beautiful stylish.\\n-Os most stable os in smartphone industry\\n\\nCons\\n-No 5G\\n-Display is not based on OLED technology\\n-Charger headphones and 1 apple stic...\\nREAD MORE',\n",
       " 'Amazing phone with great cameras and better battery which gives you the best performance. I just love the camera .',\n",
       " 'This is my first iOS phone. I am very happy with this product. Very much satisfied with this. I love this phone.',\n",
       " 'Previously I was using one plus 3t it was a great phone\\nAnd then I decided to upgrade I am stuck between Samsung s10 plus or iPhone 11\\nI have seen the specs and everything were good except the display it’s somewhere between 720-1080 and it’s not even an amoled it’s an LCD display\\nBut I decided to go with iPhone because I have never used an IOS device I have Been an android user from the past 9 years I ordered IPhone 11 (128gb) product red\\nMy experience after using 3 weeks\\n1. The delivery ...\\nREAD MORE',\n",
       " 'Amazing Powerful and Durable Gadget.\\n\\nI’m am very happy with the camera picture quality, Amazing face id unlocked in dark room, Strong battery with perfect screen size as you can carry easily in pocket. This is my third iPhone.\\n\\nI shifted from android Samsung Note series to iPhone because of the strong build quality and peace of mind for next 3-4 years.\\n\\nDon’t think to much just go for it and I suggest you to go for minimum 128gb variant or more 256gb.\\n\\nI’ve attached my puppy pics and no fi...\\nREAD MORE',\n",
       " 'So far it’s been an AMAZING experience coming back to iOS after nearly a decade but it’s not as versatile as android though phone is sturdy dropped it accidentally a couple of times and nothing happened fortunately camera is awesome',\n",
       " 'What a camera .....just awesome ..you can feel this iPhone just awesome . Good for gaming also ...try pubg in hd it’s just wow',\n",
       " 'i11 is worthy to buy, too much happy with the product. Thank u flipkart I received the item on time..loved it..',\n",
       " 'The Best Phone for the Money\\n\\nThe iPhone 11 offers superb cameras, a more durable design and excellent battery life for an affordable price.\\n\\nCompelling ultra-wide camera\\nNew Night mode is excellent\\nLong battery life',\n",
       " 'Really satisfied with the Product I received... It’s totally genuine and the packaging was also really good so if ur planning to buy just go for it.',\n",
       " 'Great iPhone very snappy experience as apple kind. Upgraded from iPhone 7.\\nPros\\n-Camera top class\\n- Battery top performed\\n-Chipset no need to say as apple kind\\n-Security as you expect from apple\\n- Display super bright industry leading colour\\naccuracy and super responsive\\n-Build quality as expect from apple sturdy\\npremium durable beautiful stylish.\\n-Os most stable os in smartphone industry\\n\\nCons\\n-No 5G\\n-Display is not based on OLED technology\\n-Charger headphones and 1 apple stic...\\nREAD MORE',\n",
       " 'Amazing phone with great cameras and better battery which gives you the best performance. I just love the camera .',\n",
       " 'This is my first iOS phone. I am very happy with this product. Very much satisfied with this. I love this phone.',\n",
       " 'Previously I was using one plus 3t it was a great phone\\nAnd then I decided to upgrade I am stuck between Samsung s10 plus or iPhone 11\\nI have seen the specs and everything were good except the display it’s somewhere between 720-1080 and it’s not even an amoled it’s an LCD display\\nBut I decided to go with iPhone because I have never used an IOS device I have Been an android user from the past 9 years I ordered IPhone 11 (128gb) product red\\nMy experience after using 3 weeks\\n1. The delivery ...\\nREAD MORE',\n",
       " 'Amazing Powerful and Durable Gadget.\\n\\nI’m am very happy with the camera picture quality, Amazing face id unlocked in dark room, Strong battery with perfect screen size as you can carry easily in pocket. This is my third iPhone.\\n\\nI shifted from android Samsung Note series to iPhone because of the strong build quality and peace of mind for next 3-4 years.\\n\\nDon’t think to much just go for it and I suggest you to go for minimum 128gb variant or more 256gb.\\n\\nI’ve attached my puppy pics and no fi...\\nREAD MORE',\n",
       " 'So far it’s been an AMAZING experience coming back to iOS after nearly a decade but it’s not as versatile as android though phone is sturdy dropped it accidentally a couple of times and nothing happened fortunately camera is awesome',\n",
       " 'What a camera .....just awesome ..you can feel this iPhone just awesome . Good for gaming also ...try pubg in hd it’s just wow',\n",
       " 'i11 is worthy to buy, too much happy with the product. Thank u flipkart I received the item on time..loved it..',\n",
       " 'The Best Phone for the Money\\n\\nThe iPhone 11 offers superb cameras, a more durable design and excellent battery life for an affordable price.\\n\\nCompelling ultra-wide camera\\nNew Night mode is excellent\\nLong battery life',\n",
       " 'Really satisfied with the Product I received... It’s totally genuine and the packaging was also really good so if ur planning to buy just go for it.',\n",
       " 'Great iPhone very snappy experience as apple kind. Upgraded from iPhone 7.\\nPros\\n-Camera top class\\n- Battery top performed\\n-Chipset no need to say as apple kind\\n-Security as you expect from apple\\n- Display super bright industry leading colour\\naccuracy and super responsive\\n-Build quality as expect from apple sturdy\\npremium durable beautiful stylish.\\n-Os most stable os in smartphone industry\\n\\nCons\\n-No 5G\\n-Display is not based on OLED technology\\n-Charger headphones and 1 apple stic...\\nREAD MORE',\n",
       " 'Amazing phone with great cameras and better battery which gives you the best performance. I just love the camera .',\n",
       " 'This is my first iOS phone. I am very happy with this product. Very much satisfied with this. I love this phone.',\n",
       " 'Previously I was using one plus 3t it was a great phone\\nAnd then I decided to upgrade I am stuck between Samsung s10 plus or iPhone 11\\nI have seen the specs and everything were good except the display it’s somewhere between 720-1080 and it’s not even an amoled it’s an LCD display\\nBut I decided to go with iPhone because I have never used an IOS device I have Been an android user from the past 9 years I ordered IPhone 11 (128gb) product red\\nMy experience after using 3 weeks\\n1. The delivery ...\\nREAD MORE',\n",
       " 'Amazing Powerful and Durable Gadget.\\n\\nI’m am very happy with the camera picture quality, Amazing face id unlocked in dark room, Strong battery with perfect screen size as you can carry easily in pocket. This is my third iPhone.\\n\\nI shifted from android Samsung Note series to iPhone because of the strong build quality and peace of mind for next 3-4 years.\\n\\nDon’t think to much just go for it and I suggest you to go for minimum 128gb variant or more 256gb.\\n\\nI’ve attached my puppy pics and no fi...\\nREAD MORE',\n",
       " 'So far it’s been an AMAZING experience coming back to iOS after nearly a decade but it’s not as versatile as android though phone is sturdy dropped it accidentally a couple of times and nothing happened fortunately camera is awesome',\n",
       " 'What a camera .....just awesome ..you can feel this iPhone just awesome . Good for gaming also ...try pubg in hd it’s just wow',\n",
       " 'i11 is worthy to buy, too much happy with the product. Thank u flipkart I received the item on time..loved it..',\n",
       " 'The Best Phone for the Money\\n\\nThe iPhone 11 offers superb cameras, a more durable design and excellent battery life for an affordable price.\\n\\nCompelling ultra-wide camera\\nNew Night mode is excellent\\nLong battery life',\n",
       " 'Really satisfied with the Product I received... It’s totally genuine and the packaging was also really good so if ur planning to buy just go for it.',\n",
       " 'Great iPhone very snappy experience as apple kind. Upgraded from iPhone 7.\\nPros\\n-Camera top class\\n- Battery top performed\\n-Chipset no need to say as apple kind\\n-Security as you expect from apple\\n- Display super bright industry leading colour\\naccuracy and super responsive\\n-Build quality as expect from apple sturdy\\npremium durable beautiful stylish.\\n-Os most stable os in smartphone industry\\n\\nCons\\n-No 5G\\n-Display is not based on OLED technology\\n-Charger headphones and 1 apple stic...\\nREAD MORE',\n",
       " 'Amazing phone with great cameras and better battery which gives you the best performance. I just love the camera .',\n",
       " 'This is my first iOS phone. I am very happy with this product. Very much satisfied with this. I love this phone.',\n",
       " 'Previously I was using one plus 3t it was a great phone\\nAnd then I decided to upgrade I am stuck between Samsung s10 plus or iPhone 11\\nI have seen the specs and everything were good except the display it’s somewhere between 720-1080 and it’s not even an amoled it’s an LCD display\\nBut I decided to go with iPhone because I have never used an IOS device I have Been an android user from the past 9 years I ordered IPhone 11 (128gb) product red\\nMy experience after using 3 weeks\\n1. The delivery ...\\nREAD MORE',\n",
       " 'Amazing Powerful and Durable Gadget.\\n\\nI’m am very happy with the camera picture quality, Amazing face id unlocked in dark room, Strong battery with perfect screen size as you can carry easily in pocket. This is my third iPhone.\\n\\nI shifted from android Samsung Note series to iPhone because of the strong build quality and peace of mind for next 3-4 years.\\n\\nDon’t think to much just go for it and I suggest you to go for minimum 128gb variant or more 256gb.\\n\\nI’ve attached my puppy pics and no fi...\\nREAD MORE',\n",
       " 'So far it’s been an AMAZING experience coming back to iOS after nearly a decade but it’s not as versatile as android though phone is sturdy dropped it accidentally a couple of times and nothing happened fortunately camera is awesome',\n",
       " 'What a camera .....just awesome ..you can feel this iPhone just awesome . Good for gaming also ...try pubg in hd it’s just wow',\n",
       " 'i11 is worthy to buy, too much happy with the product. Thank u flipkart I received the item on time..loved it..',\n",
       " 'The Best Phone for the Money\\n\\nThe iPhone 11 offers superb cameras, a more durable design and excellent battery life for an affordable price.\\n\\nCompelling ultra-wide camera\\nNew Night mode is excellent\\nLong battery life',\n",
       " 'Really satisfied with the Product I received... It’s totally genuine and the packaging was also really good so if ur planning to buy just go for it.',\n",
       " 'Great iPhone very snappy experience as apple kind. Upgraded from iPhone 7.\\nPros\\n-Camera top class\\n- Battery top performed\\n-Chipset no need to say as apple kind\\n-Security as you expect from apple\\n- Display super bright industry leading colour\\naccuracy and super responsive\\n-Build quality as expect from apple sturdy\\npremium durable beautiful stylish.\\n-Os most stable os in smartphone industry\\n\\nCons\\n-No 5G\\n-Display is not based on OLED technology\\n-Charger headphones and 1 apple stic...\\nREAD MORE',\n",
       " 'Amazing phone with great cameras and better battery which gives you the best performance. I just love the camera .',\n",
       " 'This is my first iOS phone. I am very happy with this product. Very much satisfied with this. I love this phone.',\n",
       " 'Previously I was using one plus 3t it was a great phone\\nAnd then I decided to upgrade I am stuck between Samsung s10 plus or iPhone 11\\nI have seen the specs and everything were good except the display it’s somewhere between 720-1080 and it’s not even an amoled it’s an LCD display\\nBut I decided to go with iPhone because I have never used an IOS device I have Been an android user from the past 9 years I ordered IPhone 11 (128gb) product red\\nMy experience after using 3 weeks\\n1. The delivery ...\\nREAD MORE',\n",
       " 'Amazing Powerful and Durable Gadget.\\n\\nI’m am very happy with the camera picture quality, Amazing face id unlocked in dark room, Strong battery with perfect screen size as you can carry easily in pocket. This is my third iPhone.\\n\\nI shifted from android Samsung Note series to iPhone because of the strong build quality and peace of mind for next 3-4 years.\\n\\nDon’t think to much just go for it and I suggest you to go for minimum 128gb variant or more 256gb.\\n\\nI’ve attached my puppy pics and no fi...\\nREAD MORE',\n",
       " 'So far it’s been an AMAZING experience coming back to iOS after nearly a decade but it’s not as versatile as android though phone is sturdy dropped it accidentally a couple of times and nothing happened fortunately camera is awesome',\n",
       " 'What a camera .....just awesome ..you can feel this iPhone just awesome . Good for gaming also ...try pubg in hd it’s just wow',\n",
       " 'i11 is worthy to buy, too much happy with the product. Thank u flipkart I received the item on time..loved it..',\n",
       " 'The Best Phone for the Money\\n\\nThe iPhone 11 offers superb cameras, a more durable design and excellent battery life for an affordable price.\\n\\nCompelling ultra-wide camera\\nNew Night mode is excellent\\nLong battery life',\n",
       " 'Really satisfied with the Product I received... It’s totally genuine and the packaging was also really good so if ur planning to buy just go for it.',\n",
       " 'Great iPhone very snappy experience as apple kind. Upgraded from iPhone 7.\\nPros\\n-Camera top class\\n- Battery top performed\\n-Chipset no need to say as apple kind\\n-Security as you expect from apple\\n- Display super bright industry leading colour\\naccuracy and super responsive\\n-Build quality as expect from apple sturdy\\npremium durable beautiful stylish.\\n-Os most stable os in smartphone industry\\n\\nCons\\n-No 5G\\n-Display is not based on OLED technology\\n-Charger headphones and 1 apple stic...\\nREAD MORE',\n",
       " 'Amazing phone with great cameras and better battery which gives you the best performance. I just love the camera .',\n",
       " 'This is my first iOS phone. I am very happy with this product. Very much satisfied with this. I love this phone.',\n",
       " 'Previously I was using one plus 3t it was a great phone\\nAnd then I decided to upgrade I am stuck between Samsung s10 plus or iPhone 11\\nI have seen the specs and everything were good except the display it’s somewhere between 720-1080 and it’s not even an amoled it’s an LCD display\\nBut I decided to go with iPhone because I have never used an IOS device I have Been an android user from the past 9 years I ordered IPhone 11 (128gb) product red\\nMy experience after using 3 weeks\\n1. The delivery ...\\nREAD MORE',\n",
       " 'Amazing Powerful and Durable Gadget.\\n\\nI’m am very happy with the camera picture quality, Amazing face id unlocked in dark room, Strong battery with perfect screen size as you can carry easily in pocket. This is my third iPhone.\\n\\nI shifted from android Samsung Note series to iPhone because of the strong build quality and peace of mind for next 3-4 years.\\n\\nDon’t think to much just go for it and I suggest you to go for minimum 128gb variant or more 256gb.\\n\\nI’ve attached my puppy pics and no fi...\\nREAD MORE',\n",
       " 'So far it’s been an AMAZING experience coming back to iOS after nearly a decade but it’s not as versatile as android though phone is sturdy dropped it accidentally a couple of times and nothing happened fortunately camera is awesome',\n",
       " 'What a camera .....just awesome ..you can feel this iPhone just awesome . Good for gaming also ...try pubg in hd it’s just wow',\n",
       " 'i11 is worthy to buy, too much happy with the product. Thank u flipkart I received the item on time..loved it..',\n",
       " 'The Best Phone for the Money\\n\\nThe iPhone 11 offers superb cameras, a more durable design and excellent battery life for an affordable price.\\n\\nCompelling ultra-wide camera\\nNew Night mode is excellent\\nLong battery life',\n",
       " 'Really satisfied with the Product I received... It’s totally genuine and the packaging was also really good so if ur planning to buy just go for it.',\n",
       " 'Great iPhone very snappy experience as apple kind. Upgraded from iPhone 7.\\nPros\\n-Camera top class\\n- Battery top performed\\n-Chipset no need to say as apple kind\\n-Security as you expect from apple\\n- Display super bright industry leading colour\\naccuracy and super responsive\\n-Build quality as expect from apple sturdy\\npremium durable beautiful stylish.\\n-Os most stable os in smartphone industry\\n\\nCons\\n-No 5G\\n-Display is not based on OLED technology\\n-Charger headphones and 1 apple stic...\\nREAD MORE',\n",
       " 'Amazing phone with great cameras and better battery which gives you the best performance. I just love the camera .',\n",
       " 'This is my first iOS phone. I am very happy with this product. Very much satisfied with this. I love this phone.',\n",
       " 'Previously I was using one plus 3t it was a great phone\\nAnd then I decided to upgrade I am stuck between Samsung s10 plus or iPhone 11\\nI have seen the specs and everything were good except the display it’s somewhere between 720-1080 and it’s not even an amoled it’s an LCD display\\nBut I decided to go with iPhone because I have never used an IOS device I have Been an android user from the past 9 years I ordered IPhone 11 (128gb) product red\\nMy experience after using 3 weeks\\n1. The delivery ...\\nREAD MORE',\n",
       " 'Amazing Powerful and Durable Gadget.\\n\\nI’m am very happy with the camera picture quality, Amazing face id unlocked in dark room, Strong battery with perfect screen size as you can carry easily in pocket. This is my third iPhone.\\n\\nI shifted from android Samsung Note series to iPhone because of the strong build quality and peace of mind for next 3-4 years.\\n\\nDon’t think to much just go for it and I suggest you to go for minimum 128gb variant or more 256gb.\\n\\nI’ve attached my puppy pics and no fi...\\nREAD MORE',\n",
       " 'So far it’s been an AMAZING experience coming back to iOS after nearly a decade but it’s not as versatile as android though phone is sturdy dropped it accidentally a couple of times and nothing happened fortunately camera is awesome',\n",
       " 'What a camera .....just awesome ..you can feel this iPhone just awesome . Good for gaming also ...try pubg in hd it’s just wow',\n",
       " 'i11 is worthy to buy, too much happy with the product. Thank u flipkart I received the item on time..loved it..',\n",
       " 'The Best Phone for the Money\\n\\nThe iPhone 11 offers superb cameras, a more durable design and excellent battery life for an affordable price.\\n\\nCompelling ultra-wide camera\\nNew Night mode is excellent\\nLong battery life',\n",
       " 'Really satisfied with the Product I received... It’s totally genuine and the packaging was also really good so if ur planning to buy just go for it.',\n",
       " 'Great iPhone very snappy experience as apple kind. Upgraded from iPhone 7.\\nPros\\n-Camera top class\\n- Battery top performed\\n-Chipset no need to say as apple kind\\n-Security as you expect from apple\\n- Display super bright industry leading colour\\naccuracy and super responsive\\n-Build quality as expect from apple sturdy\\npremium durable beautiful stylish.\\n-Os most stable os in smartphone industry\\n\\nCons\\n-No 5G\\n-Display is not based on OLED technology\\n-Charger headphones and 1 apple stic...\\nREAD MORE',\n",
       " 'Amazing phone with great cameras and better battery which gives you the best performance. I just love the camera .',\n",
       " 'This is my first iOS phone. I am very happy with this product. Very much satisfied with this. I love this phone.',\n",
       " 'Previously I was using one plus 3t it was a great phone\\nAnd then I decided to upgrade I am stuck between Samsung s10 plus or iPhone 11\\nI have seen the specs and everything were good except the display it’s somewhere between 720-1080 and it’s not even an amoled it’s an LCD display\\nBut I decided to go with iPhone because I have never used an IOS device I have Been an android user from the past 9 years I ordered IPhone 11 (128gb) product red\\nMy experience after using 3 weeks\\n1. The delivery ...\\nREAD MORE',\n",
       " 'Amazing Powerful and Durable Gadget.\\n\\nI’m am very happy with the camera picture quality, Amazing face id unlocked in dark room, Strong battery with perfect screen size as you can carry easily in pocket. This is my third iPhone.\\n\\nI shifted from android Samsung Note series to iPhone because of the strong build quality and peace of mind for next 3-4 years.\\n\\nDon’t think to much just go for it and I suggest you to go for minimum 128gb variant or more 256gb.\\n\\nI’ve attached my puppy pics and no fi...\\nREAD MORE',\n",
       " 'So far it’s been an AMAZING experience coming back to iOS after nearly a decade but it’s not as versatile as android though phone is sturdy dropped it accidentally a couple of times and nothing happened fortunately camera is awesome',\n",
       " 'What a camera .....just awesome ..you can feel this iPhone just awesome . Good for gaming also ...try pubg in hd it’s just wow',\n",
       " 'i11 is worthy to buy, too much happy with the product. Thank u flipkart I received the item on time..loved it..']"
      ]
     },
     "execution_count": 161,
     "metadata": {},
     "output_type": "execute_result"
    }
   ],
   "source": [
    "for page in range(0,10):\n",
    "    f = driver.find_elements_by_xpath(\"//div[@class='t-ZTKy']\")\n",
    "\n",
    "    for i in f:\n",
    "        title=i.text\n",
    "        Full_review.append(title)\n",
    "    driver.find_element_by_xpath(\"//nav[@class='yFHi8N']/a\").click()\n",
    "Full_review[0:100]"
   ]
  },
  {
   "cell_type": "code",
   "execution_count": 162,
   "id": "e88becf3",
   "metadata": {},
   "outputs": [
    {
     "data": {
      "text/html": [
       "<div>\n",
       "<style scoped>\n",
       "    .dataframe tbody tr th:only-of-type {\n",
       "        vertical-align: middle;\n",
       "    }\n",
       "\n",
       "    .dataframe tbody tr th {\n",
       "        vertical-align: top;\n",
       "    }\n",
       "\n",
       "    .dataframe thead th {\n",
       "        text-align: right;\n",
       "    }\n",
       "</style>\n",
       "<table border=\"1\" class=\"dataframe\">\n",
       "  <thead>\n",
       "    <tr style=\"text-align: right;\">\n",
       "      <th></th>\n",
       "      <th>Rating</th>\n",
       "      <th>Review Summary</th>\n",
       "      <th>Full Review</th>\n",
       "    </tr>\n",
       "  </thead>\n",
       "  <tbody>\n",
       "    <tr>\n",
       "      <th>0</th>\n",
       "      <td>5</td>\n",
       "      <td>Brilliant</td>\n",
       "      <td>The Best Phone for the Money\\n\\nThe iPhone 11 ...</td>\n",
       "    </tr>\n",
       "    <tr>\n",
       "      <th>1</th>\n",
       "      <td>5</td>\n",
       "      <td>Simply awesome</td>\n",
       "      <td>Really satisfied with the Product I received.....</td>\n",
       "    </tr>\n",
       "    <tr>\n",
       "      <th>2</th>\n",
       "      <td>5</td>\n",
       "      <td>Best in the market!</td>\n",
       "      <td>Great iPhone very snappy experience as apple k...</td>\n",
       "    </tr>\n",
       "    <tr>\n",
       "      <th>3</th>\n",
       "      <td>5</td>\n",
       "      <td>Perfect product!</td>\n",
       "      <td>Amazing phone with great cameras and better ba...</td>\n",
       "    </tr>\n",
       "    <tr>\n",
       "      <th>4</th>\n",
       "      <td>5</td>\n",
       "      <td>Fabulous!</td>\n",
       "      <td>This is my first iOS phone. I am very happy wi...</td>\n",
       "    </tr>\n",
       "    <tr>\n",
       "      <th>...</th>\n",
       "      <td>...</td>\n",
       "      <td>...</td>\n",
       "      <td>...</td>\n",
       "    </tr>\n",
       "    <tr>\n",
       "      <th>95</th>\n",
       "      <td>5</td>\n",
       "      <td>Worth every penny</td>\n",
       "      <td>Previously I was using one plus 3t it was a gr...</td>\n",
       "    </tr>\n",
       "    <tr>\n",
       "      <th>96</th>\n",
       "      <td>5</td>\n",
       "      <td>Great product</td>\n",
       "      <td>Amazing Powerful and Durable Gadget.\\n\\nI’m am...</td>\n",
       "    </tr>\n",
       "    <tr>\n",
       "      <th>97</th>\n",
       "      <td>4</td>\n",
       "      <td>Good choice</td>\n",
       "      <td>So far it’s been an AMAZING experience coming ...</td>\n",
       "    </tr>\n",
       "    <tr>\n",
       "      <th>98</th>\n",
       "      <td>5</td>\n",
       "      <td>Highly recommended</td>\n",
       "      <td>What a camera .....just awesome ..you can feel...</td>\n",
       "    </tr>\n",
       "    <tr>\n",
       "      <th>99</th>\n",
       "      <td>5</td>\n",
       "      <td>Worth every penny</td>\n",
       "      <td>i11 is worthy to buy, too much happy with the ...</td>\n",
       "    </tr>\n",
       "  </tbody>\n",
       "</table>\n",
       "<p>100 rows × 3 columns</p>\n",
       "</div>"
      ],
      "text/plain": [
       "   Rating       Review Summary  \\\n",
       "0       5            Brilliant   \n",
       "1       5       Simply awesome   \n",
       "2       5  Best in the market!   \n",
       "3       5     Perfect product!   \n",
       "4       5            Fabulous!   \n",
       "..    ...                  ...   \n",
       "95      5    Worth every penny   \n",
       "96      5        Great product   \n",
       "97      4          Good choice   \n",
       "98      5   Highly recommended   \n",
       "99      5    Worth every penny   \n",
       "\n",
       "                                          Full Review  \n",
       "0   The Best Phone for the Money\\n\\nThe iPhone 11 ...  \n",
       "1   Really satisfied with the Product I received.....  \n",
       "2   Great iPhone very snappy experience as apple k...  \n",
       "3   Amazing phone with great cameras and better ba...  \n",
       "4   This is my first iOS phone. I am very happy wi...  \n",
       "..                                                ...  \n",
       "95  Previously I was using one plus 3t it was a gr...  \n",
       "96  Amazing Powerful and Durable Gadget.\\n\\nI’m am...  \n",
       "97  So far it’s been an AMAZING experience coming ...  \n",
       "98  What a camera .....just awesome ..you can feel...  \n",
       "99  i11 is worthy to buy, too much happy with the ...  \n",
       "\n",
       "[100 rows x 3 columns]"
      ]
     },
     "execution_count": 162,
     "metadata": {},
     "output_type": "execute_result"
    }
   ],
   "source": [
    "import pandas as pd\n",
    "table=pd.DataFrame({})\n",
    "\n",
    "table['Rating']=Rating[:100]\n",
    "table['Review Summary']=Review_summary[:100]\n",
    "table['Full Review']=Full_review[:100]\n",
    "\n",
    "table"
   ]
  },
  {
   "cell_type": "markdown",
   "id": "909a2f67",
   "metadata": {},
   "source": [
    "# question-6"
   ]
  },
  {
   "cell_type": "code",
   "execution_count": 163,
   "id": "dfabc855",
   "metadata": {},
   "outputs": [],
   "source": [
    "import selenium\n",
    "import pandas as pd\n",
    "from selenium import webdriver\n",
    "import warnings\n",
    "warnings.filterwarnings(\"ignore\")\n",
    "import time"
   ]
  },
  {
   "cell_type": "code",
   "execution_count": 165,
   "id": "cab2da27",
   "metadata": {},
   "outputs": [],
   "source": [
    "driver = webdriver.Chrome(r\"C:\\web driver\\chromedriver.exe\")"
   ]
  },
  {
   "cell_type": "code",
   "execution_count": 166,
   "id": "ba808a22",
   "metadata": {},
   "outputs": [
    {
     "data": {
      "text/plain": [
       "<selenium.webdriver.remote.webelement.WebElement (session=\"4ae7ba5bea37824d437519b9c5d5d362\", element=\"7905b040-b5da-46fd-9917-4504a8023941\")>"
      ]
     },
     "execution_count": 166,
     "metadata": {},
     "output_type": "execute_result"
    }
   ],
   "source": [
    "driver=webdriver.Chrome(\"chromedriver.exe\")\n",
    "time.sleep(2)\n",
    "driver.get('https://www.flipkart.com/')\n",
    "# Finding element for search bar\n",
    "search_g= driver.find_element_by_xpath(\"//input[@class='_3704LK']\") \n",
    "search_g"
   ]
  },
  {
   "cell_type": "code",
   "execution_count": 168,
   "id": "f5d72473",
   "metadata": {},
   "outputs": [],
   "source": [
    "search_g.send_keys('sneakers')\n",
    "search_button=driver.find_element_by_xpath(\"//button[@class='L0Z3Pu']\")\n",
    "search_button.click()\n",
    "B_name=[]\n",
    "Price=[]\n",
    "P_desc=[]\n",
    "Discount=[]"
   ]
  },
  {
   "cell_type": "code",
   "execution_count": 169,
   "id": "bdfa131b",
   "metadata": {},
   "outputs": [],
   "source": [
    "for i in range(3):\n",
    "    b_name=driver.find_elements_by_xpath(\"//div[@class='_2WkVRV']\")\n",
    "    p_desc=driver.find_elements_by_xpath(\"//a[@class='IRpwTa']\")\n",
    "    price =driver.find_elements_by_xpath(\"//div[@class='_30jeq3']\")\n",
    "    discount=driver.find_elements_by_xpath(\"//div[@class='_3Ay6Sb']\")\n",
    "    \n",
    "    for j  in b_name:\n",
    "        B_name.append(j.text)\n",
    "    B_name[:100]    \n",
    "    \n",
    "    \n",
    "    \n",
    "    for k in p_desc:\n",
    "        P_desc.append(k.text)\n",
    "    P_desc[:100] \n",
    "    \n",
    "    \n",
    "    for l in price:\n",
    "        Price.append(l.text)\n",
    "    Price[:100] \n",
    "    \n",
    "    \n",
    "    for t in discount:\n",
    "        Discount.append(t.text)\n",
    "    Discount[:100]"
   ]
  },
  {
   "cell_type": "code",
   "execution_count": 170,
   "id": "944bb97e",
   "metadata": {},
   "outputs": [
    {
     "data": {
      "text/plain": [
       "['URBANBOX',\n",
       " 'BRUTON',\n",
       " 'KWIK FIT',\n",
       " 'Labbin',\n",
       " 'corsac',\n",
       " 'Labbin',\n",
       " 'BIRDE',\n",
       " 'RED TAPE',\n",
       " 'Magnolia',\n",
       " 'ONECENTRE',\n",
       " 'PUMA',\n",
       " 'India hub',\n",
       " 'Kraasa',\n",
       " 'BRUTON',\n",
       " 'aadi',\n",
       " 'luxury fashion',\n",
       " 'Robbie jones',\n",
       " 'World Wear Footwear',\n",
       " 'Kraasa',\n",
       " 'Echor',\n",
       " 'ASTEROID',\n",
       " 'ASTEROID',\n",
       " 'Layasa',\n",
       " 'hzisbo',\n",
       " 'World Wear Footwear',\n",
       " 'CLYMB',\n",
       " 'BRUTON',\n",
       " 'Navtrend',\n",
       " 'SCATCHITE',\n",
       " 'NIKE',\n",
       " 'World Wear Footwear',\n",
       " 'RapidBox',\n",
       " 'World Wear Footwear',\n",
       " 'Robbie jones',\n",
       " 'Chevit',\n",
       " 'Zixer',\n",
       " 'BRUTON',\n",
       " 'EMPTILE',\n",
       " 'corsac',\n",
       " 'Bacan',\n",
       " 'URBANBOX',\n",
       " 'BRUTON',\n",
       " 'KWIK FIT',\n",
       " 'Labbin',\n",
       " 'corsac',\n",
       " 'Labbin',\n",
       " 'BIRDE',\n",
       " 'RED TAPE',\n",
       " 'Magnolia',\n",
       " 'ONECENTRE',\n",
       " 'PUMA',\n",
       " 'India hub',\n",
       " 'Kraasa',\n",
       " 'BRUTON',\n",
       " 'aadi',\n",
       " 'luxury fashion',\n",
       " 'Robbie jones',\n",
       " 'World Wear Footwear',\n",
       " 'Kraasa',\n",
       " 'Echor',\n",
       " 'ASTEROID',\n",
       " 'ASTEROID',\n",
       " 'Layasa',\n",
       " 'hzisbo',\n",
       " 'World Wear Footwear',\n",
       " 'CLYMB',\n",
       " 'BRUTON',\n",
       " 'Navtrend',\n",
       " 'SCATCHITE',\n",
       " 'NIKE',\n",
       " 'World Wear Footwear',\n",
       " 'RapidBox',\n",
       " 'World Wear Footwear',\n",
       " 'Robbie jones',\n",
       " 'Chevit',\n",
       " 'Zixer',\n",
       " 'BRUTON',\n",
       " 'EMPTILE',\n",
       " 'corsac',\n",
       " 'Bacan',\n",
       " 'URBANBOX',\n",
       " 'BRUTON',\n",
       " 'KWIK FIT',\n",
       " 'Labbin',\n",
       " 'corsac',\n",
       " 'Labbin',\n",
       " 'BIRDE',\n",
       " 'RED TAPE',\n",
       " 'Magnolia',\n",
       " 'ONECENTRE',\n",
       " 'PUMA',\n",
       " 'India hub',\n",
       " 'Kraasa',\n",
       " 'BRUTON',\n",
       " 'aadi',\n",
       " 'luxury fashion',\n",
       " 'Robbie jones',\n",
       " 'World Wear Footwear',\n",
       " 'Kraasa',\n",
       " 'Echor']"
      ]
     },
     "execution_count": 170,
     "metadata": {},
     "output_type": "execute_result"
    }
   ],
   "source": [
    "B_name[:100]"
   ]
  },
  {
   "cell_type": "code",
   "execution_count": 171,
   "id": "7455812d",
   "metadata": {},
   "outputs": [
    {
     "data": {
      "text/plain": [
       "['Modern Trendy Sneakers Shoes Sneakers For Men',\n",
       " 'Kwik FIT casual sneaker shoes and partywear shoes Casua...',\n",
       " 'Sneakers For Men',\n",
       " 'STYLISH MENS BLACK SNEAKER Sneakers For Men',\n",
       " 'Sneakers For Men',\n",
       " 'Stylish Comfortable Lightweight, Breathable Walking Sho...',\n",
       " 'Sneakers For Men',\n",
       " 'STR2 Sneakers For Men',\n",
       " 'Mirage Tech Sneakers For Men',\n",
       " 'Shark-41 Sneakers For Men',\n",
       " 'Sneaker Sneakers For Men',\n",
       " 'Sneakers For Men',\n",
       " 'Luxury Fashionable casual sneaker shoes Sneakers For Me...',\n",
       " 'Sneakers For Men',\n",
       " '5013-Latest Collection Stylish & Trendy of casuals Snea...',\n",
       " 'Series 7 Sneakers For Men',\n",
       " \"Men's casual shoes sports shoes black sneaker Sneakers ...\",\n",
       " \"Original Luxury Branded Fashionable Men's Casual Walkin...\",\n",
       " \"Original Luxury Branded Fashionable Men's Casual Walkin...\",\n",
       " 'Sneakers For Men',\n",
       " 'Sneakers For Men',\n",
       " '5011-Latest Collection Stylish & Trendy Casual Sneakers...',\n",
       " 'Sneakers For Men',\n",
       " 'Lattest Sneakers Shoe Sneakers For Men',\n",
       " 'Sneakers For Men',\n",
       " 'Sneakers Sneakers For Men',\n",
       " 'Ebernon Low Sneakers For Men',\n",
       " 'Latest Collection-1227 Stylish Casual Sports Sneakers F...',\n",
       " 'Men 5014 Latest Collection Stylish Casual Sports Loafer...',\n",
       " 'Sneakers For Men',\n",
       " 'Lightweight Pack Of 1 Trendy Sneakers Sneakers For Men',\n",
       " 'all white heartbeat casual shoe Sneakers For Men',\n",
       " 'STYLISH MENS BLACK TRENDY SNEAKER FOR MENS Sneakers For...',\n",
       " 'Sneakers For Men',\n",
       " 'Modern Trendy Sneakers Shoes Sneakers For Men',\n",
       " 'Kwik FIT casual sneaker shoes and partywear shoes Casua...',\n",
       " 'Sneakers For Men',\n",
       " 'STYLISH MENS BLACK SNEAKER Sneakers For Men',\n",
       " 'Sneakers For Men',\n",
       " 'Stylish Comfortable Lightweight, Breathable Walking Sho...',\n",
       " 'Sneakers For Men',\n",
       " 'STR2 Sneakers For Men',\n",
       " 'Mirage Tech Sneakers For Men',\n",
       " 'Shark-41 Sneakers For Men',\n",
       " 'Sneaker Sneakers For Men',\n",
       " 'Sneakers For Men',\n",
       " 'Luxury Fashionable casual sneaker shoes Sneakers For Me...',\n",
       " 'Sneakers For Men',\n",
       " '5013-Latest Collection Stylish & Trendy of casuals Snea...',\n",
       " 'Series 7 Sneakers For Men',\n",
       " \"Men's casual shoes sports shoes black sneaker Sneakers ...\",\n",
       " \"Original Luxury Branded Fashionable Men's Casual Walkin...\",\n",
       " \"Original Luxury Branded Fashionable Men's Casual Walkin...\",\n",
       " 'Sneakers For Men',\n",
       " 'Sneakers For Men',\n",
       " '5011-Latest Collection Stylish & Trendy Casual Sneakers...',\n",
       " 'Sneakers For Men',\n",
       " 'Lattest Sneakers Shoe Sneakers For Men',\n",
       " 'Sneakers For Men',\n",
       " 'Sneakers Sneakers For Men',\n",
       " 'Ebernon Low Sneakers For Men',\n",
       " 'Latest Collection-1227 Stylish Casual Sports Sneakers F...',\n",
       " 'Men 5014 Latest Collection Stylish Casual Sports Loafer...',\n",
       " 'Sneakers For Men',\n",
       " 'Lightweight Pack Of 1 Trendy Sneakers Sneakers For Men',\n",
       " 'all white heartbeat casual shoe Sneakers For Men',\n",
       " 'STYLISH MENS BLACK TRENDY SNEAKER FOR MENS Sneakers For...',\n",
       " 'Sneakers For Men',\n",
       " 'Modern Trendy Sneakers Shoes Sneakers For Men',\n",
       " 'Kwik FIT casual sneaker shoes and partywear shoes Casua...',\n",
       " 'Sneakers For Men',\n",
       " 'STYLISH MENS BLACK SNEAKER Sneakers For Men',\n",
       " 'Sneakers For Men',\n",
       " 'Stylish Comfortable Lightweight, Breathable Walking Sho...',\n",
       " 'Sneakers For Men',\n",
       " 'STR2 Sneakers For Men',\n",
       " 'Mirage Tech Sneakers For Men',\n",
       " 'Shark-41 Sneakers For Men',\n",
       " 'Sneaker Sneakers For Men',\n",
       " 'Sneakers For Men',\n",
       " 'Luxury Fashionable casual sneaker shoes Sneakers For Me...',\n",
       " 'Sneakers For Men',\n",
       " '5013-Latest Collection Stylish & Trendy of casuals Snea...',\n",
       " 'Series 7 Sneakers For Men',\n",
       " \"Men's casual shoes sports shoes black sneaker Sneakers ...\",\n",
       " \"Original Luxury Branded Fashionable Men's Casual Walkin...\",\n",
       " \"Original Luxury Branded Fashionable Men's Casual Walkin...\",\n",
       " 'Sneakers For Men',\n",
       " 'Sneakers For Men',\n",
       " '5011-Latest Collection Stylish & Trendy Casual Sneakers...',\n",
       " 'Sneakers For Men',\n",
       " 'Lattest Sneakers Shoe Sneakers For Men',\n",
       " 'Sneakers For Men',\n",
       " 'Sneakers Sneakers For Men',\n",
       " 'Ebernon Low Sneakers For Men',\n",
       " 'Latest Collection-1227 Stylish Casual Sports Sneakers F...',\n",
       " 'Men 5014 Latest Collection Stylish Casual Sports Loafer...',\n",
       " 'Sneakers For Men',\n",
       " 'Lightweight Pack Of 1 Trendy Sneakers Sneakers For Men',\n",
       " 'all white heartbeat casual shoe Sneakers For Men']"
      ]
     },
     "execution_count": 171,
     "metadata": {},
     "output_type": "execute_result"
    }
   ],
   "source": [
    "P_desc[:100]"
   ]
  },
  {
   "cell_type": "code",
   "execution_count": 172,
   "id": "040cee95",
   "metadata": {},
   "outputs": [
    {
     "data": {
      "text/plain": [
       "['₹158',\n",
       " '₹245',\n",
       " '₹349',\n",
       " '₹449',\n",
       " '₹449',\n",
       " '₹419',\n",
       " '₹269',\n",
       " '₹1,124',\n",
       " '₹351',\n",
       " '₹250',\n",
       " '₹7,949',\n",
       " '₹349',\n",
       " '₹411',\n",
       " '₹249',\n",
       " '₹297',\n",
       " '₹449',\n",
       " '₹424',\n",
       " '₹199',\n",
       " '₹405',\n",
       " '₹489',\n",
       " '₹449',\n",
       " '₹449',\n",
       " '₹399',\n",
       " '₹449',\n",
       " '₹199',\n",
       " '₹599',\n",
       " '₹249',\n",
       " '₹400',\n",
       " '₹348',\n",
       " '₹4,291',\n",
       " '₹209',\n",
       " '₹600',\n",
       " '₹199',\n",
       " '₹424',\n",
       " '₹219',\n",
       " '₹549',\n",
       " '₹158',\n",
       " '₹327',\n",
       " '₹449',\n",
       " '₹424',\n",
       " '₹158',\n",
       " '₹245',\n",
       " '₹349',\n",
       " '₹449',\n",
       " '₹449',\n",
       " '₹419',\n",
       " '₹269',\n",
       " '₹1,124',\n",
       " '₹351',\n",
       " '₹250',\n",
       " '₹7,949',\n",
       " '₹349',\n",
       " '₹411',\n",
       " '₹249',\n",
       " '₹297',\n",
       " '₹449',\n",
       " '₹424',\n",
       " '₹199',\n",
       " '₹405',\n",
       " '₹489',\n",
       " '₹449',\n",
       " '₹449',\n",
       " '₹399',\n",
       " '₹449',\n",
       " '₹199',\n",
       " '₹599',\n",
       " '₹249',\n",
       " '₹400',\n",
       " '₹348',\n",
       " '₹4,291',\n",
       " '₹209',\n",
       " '₹600',\n",
       " '₹199',\n",
       " '₹424',\n",
       " '₹219',\n",
       " '₹549',\n",
       " '₹158',\n",
       " '₹327',\n",
       " '₹449',\n",
       " '₹424',\n",
       " '₹158',\n",
       " '₹245',\n",
       " '₹349',\n",
       " '₹449',\n",
       " '₹449',\n",
       " '₹419',\n",
       " '₹269',\n",
       " '₹1,124',\n",
       " '₹351',\n",
       " '₹250',\n",
       " '₹7,949',\n",
       " '₹349',\n",
       " '₹411',\n",
       " '₹249',\n",
       " '₹297',\n",
       " '₹449',\n",
       " '₹424',\n",
       " '₹199',\n",
       " '₹405',\n",
       " '₹489']"
      ]
     },
     "execution_count": 172,
     "metadata": {},
     "output_type": "execute_result"
    }
   ],
   "source": [
    "Price[:100]"
   ]
  },
  {
   "cell_type": "code",
   "execution_count": 173,
   "id": "de746c14",
   "metadata": {},
   "outputs": [
    {
     "data": {
      "text/plain": [
       "['84% off',\n",
       " '81% off',\n",
       " '82% off',\n",
       " '55% off',\n",
       " '70% off',\n",
       " '58% off',\n",
       " '73% off',\n",
       " '76% off',\n",
       " '64% off',\n",
       " '60% off',\n",
       " '73% off',\n",
       " '58% off',\n",
       " '80% off',\n",
       " '70% off',\n",
       " '65% off',\n",
       " '57% off',\n",
       " '60% off',\n",
       " '59% off',\n",
       " '67% off',\n",
       " '77% off',\n",
       " '55% off',\n",
       " '60% off',\n",
       " '55% off',\n",
       " '60% off',\n",
       " '60% off',\n",
       " '80% off',\n",
       " '79% off',\n",
       " '65% off',\n",
       " '10% off',\n",
       " '58% off',\n",
       " '39% off',\n",
       " '60% off',\n",
       " '57% off',\n",
       " '78% off',\n",
       " '72% off',\n",
       " '73% off',\n",
       " '67% off',\n",
       " '70% off',\n",
       " '57% off',\n",
       " '84% off',\n",
       " '81% off',\n",
       " '82% off',\n",
       " '55% off',\n",
       " '70% off',\n",
       " '58% off',\n",
       " '73% off',\n",
       " '76% off',\n",
       " '64% off',\n",
       " '60% off',\n",
       " '73% off',\n",
       " '58% off',\n",
       " '80% off',\n",
       " '70% off',\n",
       " '65% off',\n",
       " '57% off',\n",
       " '60% off',\n",
       " '59% off',\n",
       " '67% off',\n",
       " '77% off',\n",
       " '55% off',\n",
       " '60% off',\n",
       " '55% off',\n",
       " '60% off',\n",
       " '60% off',\n",
       " '80% off',\n",
       " '79% off',\n",
       " '65% off',\n",
       " '10% off',\n",
       " '58% off',\n",
       " '39% off',\n",
       " '60% off',\n",
       " '57% off',\n",
       " '78% off',\n",
       " '72% off',\n",
       " '73% off',\n",
       " '67% off',\n",
       " '70% off',\n",
       " '57% off',\n",
       " '84% off',\n",
       " '81% off',\n",
       " '82% off',\n",
       " '55% off',\n",
       " '70% off',\n",
       " '58% off',\n",
       " '73% off',\n",
       " '76% off',\n",
       " '64% off',\n",
       " '60% off',\n",
       " '73% off',\n",
       " '58% off',\n",
       " '80% off',\n",
       " '70% off',\n",
       " '65% off',\n",
       " '57% off',\n",
       " '60% off',\n",
       " '59% off',\n",
       " '67% off',\n",
       " '77% off',\n",
       " '55% off',\n",
       " '60% off']"
      ]
     },
     "execution_count": 173,
     "metadata": {},
     "output_type": "execute_result"
    }
   ],
   "source": [
    "Discount[:100]"
   ]
  },
  {
   "cell_type": "code",
   "execution_count": 175,
   "id": "ec6f231c",
   "metadata": {},
   "outputs": [],
   "source": [
    "sneakers=pd.DataFrame({})\n",
    "sneakers['Brand_name']=B_name[:100]\n",
    "sneakers['P_price']=Price[:100]\n",
    "\n",
    "sneakers['Pr_desc']=P_desc[:100]"
   ]
  },
  {
   "cell_type": "code",
   "execution_count": 176,
   "id": "1b67df4f",
   "metadata": {},
   "outputs": [
    {
     "data": {
      "text/html": [
       "<div>\n",
       "<style scoped>\n",
       "    .dataframe tbody tr th:only-of-type {\n",
       "        vertical-align: middle;\n",
       "    }\n",
       "\n",
       "    .dataframe tbody tr th {\n",
       "        vertical-align: top;\n",
       "    }\n",
       "\n",
       "    .dataframe thead th {\n",
       "        text-align: right;\n",
       "    }\n",
       "</style>\n",
       "<table border=\"1\" class=\"dataframe\">\n",
       "  <thead>\n",
       "    <tr style=\"text-align: right;\">\n",
       "      <th></th>\n",
       "      <th>Brand_name</th>\n",
       "      <th>P_price</th>\n",
       "      <th>Pr_desc</th>\n",
       "    </tr>\n",
       "  </thead>\n",
       "  <tbody>\n",
       "    <tr>\n",
       "      <th>0</th>\n",
       "      <td>URBANBOX</td>\n",
       "      <td>₹158</td>\n",
       "      <td>Modern Trendy Sneakers Shoes Sneakers For Men</td>\n",
       "    </tr>\n",
       "    <tr>\n",
       "      <th>1</th>\n",
       "      <td>BRUTON</td>\n",
       "      <td>₹245</td>\n",
       "      <td>Kwik FIT casual sneaker shoes and partywear sh...</td>\n",
       "    </tr>\n",
       "    <tr>\n",
       "      <th>2</th>\n",
       "      <td>KWIK FIT</td>\n",
       "      <td>₹349</td>\n",
       "      <td>Sneakers For Men</td>\n",
       "    </tr>\n",
       "    <tr>\n",
       "      <th>3</th>\n",
       "      <td>Labbin</td>\n",
       "      <td>₹449</td>\n",
       "      <td>STYLISH MENS BLACK SNEAKER Sneakers For Men</td>\n",
       "    </tr>\n",
       "    <tr>\n",
       "      <th>4</th>\n",
       "      <td>corsac</td>\n",
       "      <td>₹449</td>\n",
       "      <td>Sneakers For Men</td>\n",
       "    </tr>\n",
       "    <tr>\n",
       "      <th>...</th>\n",
       "      <td>...</td>\n",
       "      <td>...</td>\n",
       "      <td>...</td>\n",
       "    </tr>\n",
       "    <tr>\n",
       "      <th>95</th>\n",
       "      <td>luxury fashion</td>\n",
       "      <td>₹449</td>\n",
       "      <td>Latest Collection-1227 Stylish Casual Sports S...</td>\n",
       "    </tr>\n",
       "    <tr>\n",
       "      <th>96</th>\n",
       "      <td>Robbie jones</td>\n",
       "      <td>₹424</td>\n",
       "      <td>Men 5014 Latest Collection Stylish Casual Spor...</td>\n",
       "    </tr>\n",
       "    <tr>\n",
       "      <th>97</th>\n",
       "      <td>World Wear Footwear</td>\n",
       "      <td>₹199</td>\n",
       "      <td>Sneakers For Men</td>\n",
       "    </tr>\n",
       "    <tr>\n",
       "      <th>98</th>\n",
       "      <td>Kraasa</td>\n",
       "      <td>₹405</td>\n",
       "      <td>Lightweight Pack Of 1 Trendy Sneakers Sneakers...</td>\n",
       "    </tr>\n",
       "    <tr>\n",
       "      <th>99</th>\n",
       "      <td>Echor</td>\n",
       "      <td>₹489</td>\n",
       "      <td>all white heartbeat casual shoe Sneakers For Men</td>\n",
       "    </tr>\n",
       "  </tbody>\n",
       "</table>\n",
       "<p>100 rows × 3 columns</p>\n",
       "</div>"
      ],
      "text/plain": [
       "             Brand_name P_price  \\\n",
       "0              URBANBOX    ₹158   \n",
       "1                BRUTON    ₹245   \n",
       "2              KWIK FIT    ₹349   \n",
       "3                Labbin    ₹449   \n",
       "4                corsac    ₹449   \n",
       "..                  ...     ...   \n",
       "95       luxury fashion    ₹449   \n",
       "96         Robbie jones    ₹424   \n",
       "97  World Wear Footwear    ₹199   \n",
       "98               Kraasa    ₹405   \n",
       "99                Echor    ₹489   \n",
       "\n",
       "                                              Pr_desc  \n",
       "0       Modern Trendy Sneakers Shoes Sneakers For Men  \n",
       "1   Kwik FIT casual sneaker shoes and partywear sh...  \n",
       "2                                    Sneakers For Men  \n",
       "3         STYLISH MENS BLACK SNEAKER Sneakers For Men  \n",
       "4                                    Sneakers For Men  \n",
       "..                                                ...  \n",
       "95  Latest Collection-1227 Stylish Casual Sports S...  \n",
       "96  Men 5014 Latest Collection Stylish Casual Spor...  \n",
       "97                                   Sneakers For Men  \n",
       "98  Lightweight Pack Of 1 Trendy Sneakers Sneakers...  \n",
       "99   all white heartbeat casual shoe Sneakers For Men  \n",
       "\n",
       "[100 rows x 3 columns]"
      ]
     },
     "execution_count": 176,
     "metadata": {},
     "output_type": "execute_result"
    }
   ],
   "source": [
    "sneakers"
   ]
  },
  {
   "cell_type": "markdown",
   "id": "dccd62dd",
   "metadata": {},
   "source": [
    "# question-7"
   ]
  },
  {
   "cell_type": "code",
   "execution_count": 186,
   "id": "0201fa1c",
   "metadata": {},
   "outputs": [],
   "source": [
    "import selenium\n",
    "import pandas as pd\n",
    "from selenium import webdriver\n",
    "import warnings\n",
    "warnings.filterwarnings(\"ignore\")\n",
    "import time"
   ]
  },
  {
   "cell_type": "code",
   "execution_count": 191,
   "id": "e0d30c2b",
   "metadata": {},
   "outputs": [],
   "source": [
    "driver = webdriver.Chrome(r\"C:\\web driver\\chromedriver.exe\")\n",
    "url = \"https://www.myntra.com/shoes%22\"\n",
    "driver.get(url)\n",
    "\n",
    "time.sleep(2)\n",
    "\n",
    "#clicking on price filter\n",
    "price_button = driver.find_element_by_xpath(\"//ul[@class='price-list']/li[2]\")\n",
    "price_button.click()\n",
    "\n",
    "#clicking on black colour\n",
    "black_button = driver.find_element_by_xpath(\"/html/body/div[2]/div/div[1]/main/div[3]/div[1]/section/div/div[6]/ul/li[1]/label/div\")\n",
    "black_button.click()"
   ]
  },
  {
   "cell_type": "code",
   "execution_count": 193,
   "id": "2c3a3c21",
   "metadata": {},
   "outputs": [
    {
     "data": {
      "text/html": [
       "<div>\n",
       "<style scoped>\n",
       "    .dataframe tbody tr th:only-of-type {\n",
       "        vertical-align: middle;\n",
       "    }\n",
       "\n",
       "    .dataframe tbody tr th {\n",
       "        vertical-align: top;\n",
       "    }\n",
       "\n",
       "    .dataframe thead th {\n",
       "        text-align: right;\n",
       "    }\n",
       "</style>\n",
       "<table border=\"1\" class=\"dataframe\">\n",
       "  <thead>\n",
       "    <tr style=\"text-align: right;\">\n",
       "      <th></th>\n",
       "      <th>Brand</th>\n",
       "      <th>Short-description</th>\n",
       "      <th>Price</th>\n",
       "    </tr>\n",
       "  </thead>\n",
       "  <tbody>\n",
       "    <tr>\n",
       "      <th>0</th>\n",
       "      <td>Puma</td>\n",
       "      <td>Unisex Kent 2.0 IDP Sneakers</td>\n",
       "      <td>Rs. 1649Rs. 2999(45% OFF)</td>\n",
       "    </tr>\n",
       "    <tr>\n",
       "      <th>1</th>\n",
       "      <td>U.S. Polo Assn.</td>\n",
       "      <td>Men Clarkin Sneakers</td>\n",
       "      <td>Rs. 1799Rs. 2999(40% OFF)</td>\n",
       "    </tr>\n",
       "    <tr>\n",
       "      <th>2</th>\n",
       "      <td>Puma</td>\n",
       "      <td>Men Running Shoes</td>\n",
       "      <td>Rs. 2749Rs. 5499(50% OFF)</td>\n",
       "    </tr>\n",
       "    <tr>\n",
       "      <th>3</th>\n",
       "      <td>Newfeel By Decathlon</td>\n",
       "      <td>Men Walking Shoes</td>\n",
       "      <td>Rs. 899</td>\n",
       "    </tr>\n",
       "    <tr>\n",
       "      <th>4</th>\n",
       "      <td>Killer</td>\n",
       "      <td>Men Slip-On Sneakers</td>\n",
       "      <td>Rs. 699Rs. 1999(Rs. 1300 OFF)</td>\n",
       "    </tr>\n",
       "    <tr>\n",
       "      <th>...</th>\n",
       "      <td>...</td>\n",
       "      <td>...</td>\n",
       "      <td>...</td>\n",
       "    </tr>\n",
       "    <tr>\n",
       "      <th>95</th>\n",
       "      <td>ADIDAS</td>\n",
       "      <td>Men Flex Control Training</td>\n",
       "      <td>Rs. 3439Rs. 4299(20% OFF)</td>\n",
       "    </tr>\n",
       "    <tr>\n",
       "      <th>96</th>\n",
       "      <td>Nike</td>\n",
       "      <td>Men Trekking Shoes</td>\n",
       "      <td>Rs. 4556Rs. 5695(20% OFF)</td>\n",
       "    </tr>\n",
       "    <tr>\n",
       "      <th>97</th>\n",
       "      <td>HIGHLANDER</td>\n",
       "      <td>Men Solid Sneakers</td>\n",
       "      <td>Rs. 995Rs. 1990(50% OFF)</td>\n",
       "    </tr>\n",
       "    <tr>\n",
       "      <th>98</th>\n",
       "      <td>Action</td>\n",
       "      <td>Men Running Shoes</td>\n",
       "      <td>Rs. 1959Rs. 2799(30% OFF)</td>\n",
       "    </tr>\n",
       "    <tr>\n",
       "      <th>99</th>\n",
       "      <td>Puma</td>\n",
       "      <td>Men Solid Driving Shoes</td>\n",
       "      <td>Rs. 2659Rs. 3799(30% OFF)</td>\n",
       "    </tr>\n",
       "  </tbody>\n",
       "</table>\n",
       "<p>100 rows × 3 columns</p>\n",
       "</div>"
      ],
      "text/plain": [
       "                   Brand             Short-description  \\\n",
       "0                   Puma  Unisex Kent 2.0 IDP Sneakers   \n",
       "1        U.S. Polo Assn.          Men Clarkin Sneakers   \n",
       "2                   Puma             Men Running Shoes   \n",
       "3   Newfeel By Decathlon             Men Walking Shoes   \n",
       "4                 Killer          Men Slip-On Sneakers   \n",
       "..                   ...                           ...   \n",
       "95                ADIDAS     Men Flex Control Training   \n",
       "96                  Nike            Men Trekking Shoes   \n",
       "97            HIGHLANDER            Men Solid Sneakers   \n",
       "98                Action             Men Running Shoes   \n",
       "99                  Puma       Men Solid Driving Shoes   \n",
       "\n",
       "                            Price  \n",
       "0       Rs. 1649Rs. 2999(45% OFF)  \n",
       "1       Rs. 1799Rs. 2999(40% OFF)  \n",
       "2       Rs. 2749Rs. 5499(50% OFF)  \n",
       "3                         Rs. 899  \n",
       "4   Rs. 699Rs. 1999(Rs. 1300 OFF)  \n",
       "..                            ...  \n",
       "95      Rs. 3439Rs. 4299(20% OFF)  \n",
       "96      Rs. 4556Rs. 5695(20% OFF)  \n",
       "97       Rs. 995Rs. 1990(50% OFF)  \n",
       "98      Rs. 1959Rs. 2799(30% OFF)  \n",
       "99      Rs. 2659Rs. 3799(30% OFF)  \n",
       "\n",
       "[100 rows x 3 columns]"
      ]
     },
     "execution_count": 193,
     "metadata": {},
     "output_type": "execute_result"
    }
   ],
   "source": [
    "shoe_names=[]\n",
    "s_desc=[]\n",
    "short_desc=[]\n",
    "price=[]\n",
    "page_urls = []\n",
    "\n",
    "time.sleep(4)\n",
    "# scrape next pages urls\n",
    "nxt_page = driver.find_elements_by_xpath(\"//ul[@class='pagination-container']/li/a\")\n",
    "for i in nxt_page:\n",
    "    page_urls.append(i.get_attribute('href'))\n",
    "    \n",
    "\n",
    "for url in page_urls[:3]:\n",
    "    driver.get(url)\n",
    "    Names=driver.find_elements_by_xpath(\"//div[@class='product-productMetaInfo']/h3\")  #for scrapping shoe brand names\n",
    "    for i in Names:\n",
    "        shoe_names.append(i.text)\n",
    "    \n",
    "    desc=driver.find_elements_by_xpath(\"//div[@class='product-productMetaInfo']/h4\") #for scrapping shoe short-description\n",
    "    for i in desc:\n",
    "        s_desc.append(i.text)\n",
    "    #As, the s_desc list contain blank description in every alternate index, so removing the blank or null description\n",
    "    for j in range(0,len(s_desc),2):\n",
    "        short_desc.append(s_desc[j])\n",
    "    \n",
    "    rs=driver.find_elements_by_xpath(\"//div[@class='product-price']\")  #for scrapping shoe prices\n",
    "    for i in rs:\n",
    "        price.append(i.text)    \n",
    "        \n",
    "df=pd.DataFrame({'Brand': shoe_names[:100],'Short-description': short_desc[:100],'Price': price[:100]})\n",
    "df        "
   ]
  },
  {
   "cell_type": "markdown",
   "id": "5e352f6f",
   "metadata": {},
   "source": [
    "# question-8"
   ]
  },
  {
   "cell_type": "code",
   "execution_count": 219,
   "id": "6da4ecfb",
   "metadata": {},
   "outputs": [],
   "source": [
    "import selenium\n",
    "import pandas as pd\n",
    "from selenium import webdriver\n",
    "import warnings\n",
    "warnings.filterwarnings(\"ignore\")\n",
    "import time"
   ]
  },
  {
   "cell_type": "code",
   "execution_count": 222,
   "id": "003ad7dd",
   "metadata": {},
   "outputs": [],
   "source": [
    "driver = webdriver.Chrome(r\"C:\\web driver\\chromedriver.exe\")\n"
   ]
  },
  {
   "cell_type": "code",
   "execution_count": 223,
   "id": "891ac6f4",
   "metadata": {},
   "outputs": [],
   "source": [
    "url=\"https://www.amazon.in/\"\n",
    "driver.get(url)"
   ]
  },
  {
   "cell_type": "code",
   "execution_count": 224,
   "id": "2bf2acfd",
   "metadata": {},
   "outputs": [],
   "source": [
    "driver.maximize_window()\n",
    "search_col=driver.find_element_by_xpath(\"//input[@class='nav-input nav-progressive-attribute']\")\n",
    "search_col.send_keys('laptop')"
   ]
  },
  {
   "cell_type": "code",
   "execution_count": 225,
   "id": "39eca696",
   "metadata": {},
   "outputs": [],
   "source": [
    "search_button=driver.find_elements_by_xpath(\"//input[@class='nav-input nav-progressive-attribute']\")\n",
    "search_button[1].click()"
   ]
  },
  {
   "cell_type": "code",
   "execution_count": 213,
   "id": "e358e59c",
   "metadata": {},
   "outputs": [
    {
     "data": {
      "text/plain": [
       "['₹99.00-\\n₹17,999.00',\n",
       " '₹3,999.00-\\n₹1,84,900.00\\nEnds in46:07',\n",
       " '₹9,387.00-\\n₹1,19,990.00\\nEnds in46:07',\n",
       " '₹299.00-\\n₹3,198.00',\n",
       " '₹15,990.\\nEnds in46',\n",
       " '',\n",
       " '',\n",
       " '',\n",
       " '',\n",
       " '']"
      ]
     },
     "execution_count": 213,
     "metadata": {},
     "output_type": "execute_result"
    }
   ],
   "source": [
    "for i in t:\n",
    "    title=i.text\n",
    "    Title.append(title)\n",
    "Title[0:10]"
   ]
  },
  {
   "cell_type": "code",
   "execution_count": 226,
   "id": "7459fa77",
   "metadata": {},
   "outputs": [
    {
     "data": {
      "text/plain": [
       "['Dell New Vostro 3400 Laptop, Intel i5-1135G7, Win11 + Office\\'21, 8GB GDDR4, 512GB SSD, 14\" (35.56Cms) FHD AG, Accent Black (D552256WIN9B, 1.59Kgs)',\n",
       " 'Dell New Vostro 3510 Laptop, Intel i3-1005G1, Win11 + Office\\'21, 8GB GDDR4, 256Gb SSD, 15.6\" (39.62Cms) FHD WVA AG, Carbon (ICC-D585035WIN8) 1.8Kgs',\n",
       " 'ASUS VivoBook 15 (2021), 15.6-inch (39.62 cm) HD, Dual Core Intel Celeron N4020, Thin and Light Laptop (4GB RAM/256GB SSD/Integrated Graphics/Windows 11 Home/Transparent Silver/1.8 Kg), X515MA-BR011W',\n",
       " '15.6 Inch Ultra Slim Laptop, IPS 1920x1080 HD Screen 8G RAM 128GB SSD with WiFi Backlit Keyboard for Intel J4125,2.00 GHz-2.70 GHz,Quad Core and Four Threads Windows 11(EU)',\n",
       " \"Lenovo IdeaPad 3 Intel Celeron N4020 14'' HD Thin & Light Laptop (4GB/256GB SSD/Windows 11/MS Office 2021/Platinum Grey/1.5Kg), 81WH007KIN\",\n",
       " 'Lenovo ThinkPad E14 Intel Core i3 10th Gen 14 inches Full HD Business Laptop (4GB RAM/ 256GB SSD/ DOS/ Black/ 1.69 kg), 20RAS0SE00',\n",
       " 'ASUS ZenBook 14 (2020) Intel Core i5-1135G7 11th Gen 14-inch (35.56 cms) FHD T&L Laptop (8GB RAM/512GB NVMe SSD/Windows 10/MS Office 2019/Intel Iris Xᵉ Graphics/Pine Grey/1.17 kg), UX425EA-BM501TS',\n",
       " 'Acer Acer One Intel Pentium Gold 4415U Processor 14\" (35.56cms) Display 1366 x 768 Laptop (4 GB Ram/1TB HDD/Windows 10 Home/Integrated Graphics/Black/1.8kgs), Z2-485',\n",
       " 'Acer Aspire 3 AMD 3020e Dual core Processor 14 inches (35.5 cm) Laptop (4GB RAM/256GB SSD/Windows 11 Home/Black/1.9 Kg, A314-22)',\n",
       " 'HP Chromebook 14 Intel Celeron N4020-4GB SDRAM/64GB eMMC + 256GB Expandable Storage 14inch(35.6 cm) Thin & Light Touchscreen Laptop (Chrome OS/B&O/Google Assistant/BL Keyboard/1.46 kg),14a-na0003TU']"
      ]
     },
     "execution_count": 226,
     "metadata": {},
     "output_type": "execute_result"
    }
   ],
   "source": [
    "title_el=driver.find_elements_by_xpath(\"//h2[@class='a-size-mini a-spacing-none a-color-base s-line-clamp-2']\")\n",
    "title=[]\n",
    "for i in title_el[:10]:\n",
    "    title.append(i.text)\n",
    "title"
   ]
  },
  {
   "cell_type": "code",
   "execution_count": 227,
   "id": "16101a8c",
   "metadata": {},
   "outputs": [
    {
     "data": {
      "text/plain": [
       "['52,490',\n",
       " '40,190',\n",
       " '26,990',\n",
       " '26,419',\n",
       " '28,552',\n",
       " '69,790',\n",
       " '42,750',\n",
       " '78,699',\n",
       " '30,490',\n",
       " '25,990']"
      ]
     },
     "execution_count": 227,
     "metadata": {},
     "output_type": "execute_result"
    }
   ],
   "source": [
    "price_el=driver.find_elements_by_xpath(\"//span[@class='a-price-whole']\")\n",
    "price=[]\n",
    "for i in price_el[:10]:\n",
    "    price.append(i.text)\n",
    "price"
   ]
  },
  {
   "cell_type": "code",
   "execution_count": 231,
   "id": "14c8dd63",
   "metadata": {},
   "outputs": [
    {
     "data": {
      "text/plain": [
       "['https://www.amazon.in/dp/B09SKV8TXD?pd_rd_i=B09SKV8TXD&pd_rd_w=3Hc4y&pf_rd_p=d882f7bc-c7c5-4887-b939-1af6f91cc448&pd_rd_wg=NdJAw&pf_rd_r=4BRPBVZB938DBYM0WY5W&pd_rd_r=4c27d4ee-1a78-48ef-b330-ca06aef8cca4&th=1#',\n",
       " 'https://www.amazon.in/gp/slredirect/picassoRedirect.html/ref=sspa_dk_detail_0?ie=UTF8&adId=A06293853EHW118SKUABK&qualifier=1652637146&id=4111770437479139&widgetName=sp_detail&url=%2Fdp%2FB09QT9Q2JM%2Fref%3Dsspa_dk_detail_0%3Fpsc%3D1%26pd_rd_i%3DB09QT9Q2JM%26pd_rd_w%3D2UIb1%26pf_rd_p%3D4e9225d2-7473-4eb0-95d5-670190275218%26pd_rd_wg%3DueOPA%26pf_rd_r%3DMYC810PSH2S6G3W4N08S%26pd_rd_r%3D0833051b-ece7-4545-94b7-52cb2184de52%26s%3Dcomputers&sp_csd=d2lkZ2V0TmFtZT1zcF9kZXRhaWw',\n",
       " 'https://www.amazon.in/gp/slredirect/picassoRedirect.html/ref=sspa_dk_detail_0?ie=UTF8&adId=A06293853EHW118SKUABK&qualifier=1652637146&id=4111770437479139&widgetName=sp_detail&url=%2Fdp%2FB09QT9Q2JM%2Fref%3Dsspa_dk_detail_0%3Fpsc%3D1%26pd_rd_i%3DB09QT9Q2JM%26pd_rd_w%3D2UIb1%26pf_rd_p%3D4e9225d2-7473-4eb0-95d5-670190275218%26pd_rd_wg%3DueOPA%26pf_rd_r%3DMYC810PSH2S6G3W4N08S%26pd_rd_r%3D0833051b-ece7-4545-94b7-52cb2184de52%26s%3Dcomputers&sp_csd=d2lkZ2V0TmFtZT1zcF9kZXRhaWw',\n",
       " 'https://www.amazon.in/gp/slredirect/picassoRedirect.html/ref=sspa_dk_detail_1?ie=UTF8&adId=A0678979108VBY4LB6UNR&qualifier=1652637146&id=4111770437479139&widgetName=sp_detail&url=%2Fdp%2FB09M3ZKH1T%2Fref%3Dsspa_dk_detail_1%3Fpsc%3D1%26pd_rd_i%3DB09M3ZKH1T%26pd_rd_w%3D2UIb1%26pf_rd_p%3D4e9225d2-7473-4eb0-95d5-670190275218%26pd_rd_wg%3DueOPA%26pf_rd_r%3DMYC810PSH2S6G3W4N08S%26pd_rd_r%3D0833051b-ece7-4545-94b7-52cb2184de52%26s%3Dcomputers&sp_csd=d2lkZ2V0TmFtZT1zcF9kZXRhaWw',\n",
       " 'https://www.amazon.in/gp/slredirect/picassoRedirect.html/ref=sspa_dk_detail_1?ie=UTF8&adId=A0678979108VBY4LB6UNR&qualifier=1652637146&id=4111770437479139&widgetName=sp_detail&url=%2Fdp%2FB09M3ZKH1T%2Fref%3Dsspa_dk_detail_1%3Fpsc%3D1%26pd_rd_i%3DB09M3ZKH1T%26pd_rd_w%3D2UIb1%26pf_rd_p%3D4e9225d2-7473-4eb0-95d5-670190275218%26pd_rd_wg%3DueOPA%26pf_rd_r%3DMYC810PSH2S6G3W4N08S%26pd_rd_r%3D0833051b-ece7-4545-94b7-52cb2184de52%26s%3Dcomputers&sp_csd=d2lkZ2V0TmFtZT1zcF9kZXRhaWw',\n",
       " 'https://www.amazon.in/gp/slredirect/picassoRedirect.html/ref=sspa_dk_detail_2?ie=UTF8&adId=A0060027ZK1L47XHZA71&qualifier=1652637146&id=4111770437479139&widgetName=sp_detail&url=%2Fdp%2FB094XF92HG%2Fref%3Dsspa_dk_detail_2%3Fpsc%3D1%26pd_rd_i%3DB094XF92HG%26pd_rd_w%3D2UIb1%26pf_rd_p%3D4e9225d2-7473-4eb0-95d5-670190275218%26pd_rd_wg%3DueOPA%26pf_rd_r%3DMYC810PSH2S6G3W4N08S%26pd_rd_r%3D0833051b-ece7-4545-94b7-52cb2184de52%26s%3Dcomputers&sp_csd=d2lkZ2V0TmFtZT1zcF9kZXRhaWw',\n",
       " 'https://www.amazon.in/gp/slredirect/picassoRedirect.html/ref=sspa_dk_detail_2?ie=UTF8&adId=A0060027ZK1L47XHZA71&qualifier=1652637146&id=4111770437479139&widgetName=sp_detail&url=%2Fdp%2FB094XF92HG%2Fref%3Dsspa_dk_detail_2%3Fpsc%3D1%26pd_rd_i%3DB094XF92HG%26pd_rd_w%3D2UIb1%26pf_rd_p%3D4e9225d2-7473-4eb0-95d5-670190275218%26pd_rd_wg%3DueOPA%26pf_rd_r%3DMYC810PSH2S6G3W4N08S%26pd_rd_r%3D0833051b-ece7-4545-94b7-52cb2184de52%26s%3Dcomputers&sp_csd=d2lkZ2V0TmFtZT1zcF9kZXRhaWw',\n",
       " 'https://www.amazon.in/gp/slredirect/picassoRedirect.html/ref=sspa_dk_detail_3?ie=UTF8&adId=A007331118NMSD2G3TQF1&qualifier=1652637146&id=4111770437479139&widgetName=sp_detail&url=%2Fdp%2FB08GG8WCW7%2Fref%3Dsspa_dk_detail_3%3Fpsc%3D1%26pd_rd_i%3DB08GG8WCW7%26pd_rd_w%3D2UIb1%26pf_rd_p%3D4e9225d2-7473-4eb0-95d5-670190275218%26pd_rd_wg%3DueOPA%26pf_rd_r%3DMYC810PSH2S6G3W4N08S%26pd_rd_r%3D0833051b-ece7-4545-94b7-52cb2184de52%26s%3Dcomputers&sp_csd=d2lkZ2V0TmFtZT1zcF9kZXRhaWw',\n",
       " 'https://www.amazon.in/gp/slredirect/picassoRedirect.html/ref=sspa_dk_detail_3?ie=UTF8&adId=A007331118NMSD2G3TQF1&qualifier=1652637146&id=4111770437479139&widgetName=sp_detail&url=%2Fdp%2FB08GG8WCW7%2Fref%3Dsspa_dk_detail_3%3Fpsc%3D1%26pd_rd_i%3DB08GG8WCW7%26pd_rd_w%3D2UIb1%26pf_rd_p%3D4e9225d2-7473-4eb0-95d5-670190275218%26pd_rd_wg%3DueOPA%26pf_rd_r%3DMYC810PSH2S6G3W4N08S%26pd_rd_r%3D0833051b-ece7-4545-94b7-52cb2184de52%26s%3Dcomputers&sp_csd=d2lkZ2V0TmFtZT1zcF9kZXRhaWw',\n",
       " 'https://www.amazon.in/gp/slredirect/picassoRedirect.html/ref=sspa_dk_detail_4?ie=UTF8&adId=A05798692X0CNR3UM9AGY&qualifier=1652637146&id=4111770437479139&widgetName=sp_detail&url=%2Fdp%2FB09MM58Y7Q%2Fref%3Dsspa_dk_detail_4%3Fpsc%3D1%26pd_rd_i%3DB09MM58Y7Q%26pd_rd_w%3D2UIb1%26pf_rd_p%3D4e9225d2-7473-4eb0-95d5-670190275218%26pd_rd_wg%3DueOPA%26pf_rd_r%3DMYC810PSH2S6G3W4N08S%26pd_rd_r%3D0833051b-ece7-4545-94b7-52cb2184de52%26s%3Dcomputers&sp_csd=d2lkZ2V0TmFtZT1zcF9kZXRhaWw']"
      ]
     },
     "execution_count": 231,
     "metadata": {},
     "output_type": "execute_result"
    }
   ],
   "source": [
    "url2=driver.find_elements_by_xpath(\"//a[@class='a-link-normal a-text-normal']\")\n",
    "\n",
    "rating_url=[]\n",
    "for i in url2[:10]:\n",
    "    rating_url.append(i.get_attribute('href'))\n",
    "rating_url"
   ]
  },
  {
   "cell_type": "code",
   "execution_count": 232,
   "id": "df08b230",
   "metadata": {},
   "outputs": [
    {
     "data": {
      "text/plain": [
       "['00', '00', '00', '00', '00', '00', '00', '00', '00', '00']"
      ]
     },
     "execution_count": 232,
     "metadata": {},
     "output_type": "execute_result"
    }
   ],
   "source": [
    "import time\n",
    "rating=[]\n",
    "for i in rating_url[:10]:\n",
    "    driver.get(i)\n",
    "    time.sleep(3)\n",
    "    try:\n",
    "        \n",
    "        ratings = driver.find_element(By.XPATH,\".//span[@class='a-icon-alt']/..\")\n",
    "        ratings = ratings.get_attribute('innerHTML').split(\">\")[1].split(\" \")[0]\n",
    "        rating.append(ratings)\n",
    "    except:\n",
    "        \n",
    "        \n",
    "        rating.append(\"00\")\n",
    "rating"
   ]
  },
  {
   "cell_type": "markdown",
   "id": "3bc2eec9",
   "metadata": {},
   "source": [
    "\n",
    "\n",
    "len(title)\n",
    "\n",
    "#creating DataFrame for the scraped data\n",
    "import pandas as pd\n",
    "laptop_df=pd.DataFrame()\n",
    "laptop_df['INDEX']=range(1,11)\n",
    "laptop_df['TITLE']=title[:10]\n",
    "laptop_df['RATING']=rating[:10]\n",
    "laptop_df['PRICE']=price[:10]\n",
    "laptop_df.set_index('INDEX',inplace=True)\n",
    "laptop_df"
   ]
  },
  {
   "cell_type": "code",
   "execution_count": 234,
   "id": "d5231ad1",
   "metadata": {},
   "outputs": [
    {
     "data": {
      "text/html": [
       "<div>\n",
       "<style scoped>\n",
       "    .dataframe tbody tr th:only-of-type {\n",
       "        vertical-align: middle;\n",
       "    }\n",
       "\n",
       "    .dataframe tbody tr th {\n",
       "        vertical-align: top;\n",
       "    }\n",
       "\n",
       "    .dataframe thead th {\n",
       "        text-align: right;\n",
       "    }\n",
       "</style>\n",
       "<table border=\"1\" class=\"dataframe\">\n",
       "  <thead>\n",
       "    <tr style=\"text-align: right;\">\n",
       "      <th></th>\n",
       "      <th>TITLE</th>\n",
       "      <th>RATING</th>\n",
       "      <th>PRICE</th>\n",
       "    </tr>\n",
       "    <tr>\n",
       "      <th>INDEX</th>\n",
       "      <th></th>\n",
       "      <th></th>\n",
       "      <th></th>\n",
       "    </tr>\n",
       "  </thead>\n",
       "  <tbody>\n",
       "    <tr>\n",
       "      <th>1</th>\n",
       "      <td>Dell New Vostro 3400 Laptop, Intel i5-1135G7, ...</td>\n",
       "      <td>00</td>\n",
       "      <td>52,490</td>\n",
       "    </tr>\n",
       "    <tr>\n",
       "      <th>2</th>\n",
       "      <td>Dell New Vostro 3510 Laptop, Intel i3-1005G1, ...</td>\n",
       "      <td>00</td>\n",
       "      <td>40,190</td>\n",
       "    </tr>\n",
       "    <tr>\n",
       "      <th>3</th>\n",
       "      <td>ASUS VivoBook 15 (2021), 15.6-inch (39.62 cm) ...</td>\n",
       "      <td>00</td>\n",
       "      <td>26,990</td>\n",
       "    </tr>\n",
       "    <tr>\n",
       "      <th>4</th>\n",
       "      <td>15.6 Inch Ultra Slim Laptop, IPS 1920x1080 HD ...</td>\n",
       "      <td>00</td>\n",
       "      <td>26,419</td>\n",
       "    </tr>\n",
       "    <tr>\n",
       "      <th>5</th>\n",
       "      <td>Lenovo IdeaPad 3 Intel Celeron N4020 14'' HD T...</td>\n",
       "      <td>00</td>\n",
       "      <td>28,552</td>\n",
       "    </tr>\n",
       "    <tr>\n",
       "      <th>6</th>\n",
       "      <td>Lenovo ThinkPad E14 Intel Core i3 10th Gen 14 ...</td>\n",
       "      <td>00</td>\n",
       "      <td>69,790</td>\n",
       "    </tr>\n",
       "    <tr>\n",
       "      <th>7</th>\n",
       "      <td>ASUS ZenBook 14 (2020) Intel Core i5-1135G7 11...</td>\n",
       "      <td>00</td>\n",
       "      <td>42,750</td>\n",
       "    </tr>\n",
       "    <tr>\n",
       "      <th>8</th>\n",
       "      <td>Acer Acer One Intel Pentium Gold 4415U Process...</td>\n",
       "      <td>00</td>\n",
       "      <td>78,699</td>\n",
       "    </tr>\n",
       "    <tr>\n",
       "      <th>9</th>\n",
       "      <td>Acer Aspire 3 AMD 3020e Dual core Processor 14...</td>\n",
       "      <td>00</td>\n",
       "      <td>30,490</td>\n",
       "    </tr>\n",
       "    <tr>\n",
       "      <th>10</th>\n",
       "      <td>HP Chromebook 14 Intel Celeron N4020-4GB SDRAM...</td>\n",
       "      <td>00</td>\n",
       "      <td>25,990</td>\n",
       "    </tr>\n",
       "  </tbody>\n",
       "</table>\n",
       "</div>"
      ],
      "text/plain": [
       "                                                   TITLE RATING   PRICE\n",
       "INDEX                                                                  \n",
       "1      Dell New Vostro 3400 Laptop, Intel i5-1135G7, ...     00  52,490\n",
       "2      Dell New Vostro 3510 Laptop, Intel i3-1005G1, ...     00  40,190\n",
       "3      ASUS VivoBook 15 (2021), 15.6-inch (39.62 cm) ...     00  26,990\n",
       "4      15.6 Inch Ultra Slim Laptop, IPS 1920x1080 HD ...     00  26,419\n",
       "5      Lenovo IdeaPad 3 Intel Celeron N4020 14'' HD T...     00  28,552\n",
       "6      Lenovo ThinkPad E14 Intel Core i3 10th Gen 14 ...     00  69,790\n",
       "7      ASUS ZenBook 14 (2020) Intel Core i5-1135G7 11...     00  42,750\n",
       "8      Acer Acer One Intel Pentium Gold 4415U Process...     00  78,699\n",
       "9      Acer Aspire 3 AMD 3020e Dual core Processor 14...     00  30,490\n",
       "10     HP Chromebook 14 Intel Celeron N4020-4GB SDRAM...     00  25,990"
      ]
     },
     "execution_count": 234,
     "metadata": {},
     "output_type": "execute_result"
    }
   ],
   "source": [
    "len(price)\n",
    "\n",
    "len(title)\n",
    "\n",
    "#creating DataFrame for the scraped data\n",
    "import pandas as pd\n",
    "laptop_df=pd.DataFrame()\n",
    "laptop_df['INDEX']=range(1,11)\n",
    "laptop_df['TITLE']=title[:10]\n",
    "laptop_df['RATING']=rating[:10]\n",
    "laptop_df['PRICE']=price[:10]\n",
    "laptop_df.set_index('INDEX',inplace=True)\n",
    "laptop_df"
   ]
  },
  {
   "cell_type": "markdown",
   "id": "5a53b848",
   "metadata": {},
   "source": [
    "# question-9"
   ]
  },
  {
   "cell_type": "code",
   "execution_count": 388,
   "id": "5910528c",
   "metadata": {},
   "outputs": [],
   "source": [
    "import selenium\n",
    "import pandas as pd\n",
    "from selenium import webdriver\n",
    "import warnings\n",
    "warnings.filterwarnings(\"ignore\")\n",
    "import time"
   ]
  },
  {
   "cell_type": "code",
   "execution_count": 389,
   "id": "1a4f1322",
   "metadata": {},
   "outputs": [],
   "source": [
    "driver = webdriver.Chrome(r\"C:\\web driver\\chromedriver.exe\")\n",
    "driver=webdriver.Chrome(\"chromedriver.exe\")\n",
    "time.sleep(2)"
   ]
  },
  {
   "cell_type": "code",
   "execution_count": 390,
   "id": "2650da16",
   "metadata": {},
   "outputs": [
    {
     "data": {
      "text/plain": [
       "<selenium.webdriver.remote.webelement.WebElement (session=\"b4a819afdead04e6a363b679b0d2a998\", element=\"9d7aacc2-096a-424a-95f3-38a26c44cadf\")>"
      ]
     },
     "execution_count": 390,
     "metadata": {},
     "output_type": "execute_result"
    }
   ],
   "source": [
    "driver.get('https://www.ambitionbox.com/')\n",
    "# Finding element for job search bar\n",
    "search_g= driver.find_element_by_xpath(\"//a[@class='link jobs']\") \n",
    "search_g"
   ]
  },
  {
   "cell_type": "code",
   "execution_count": 391,
   "id": "7b7aa5b9",
   "metadata": {},
   "outputs": [
    {
     "data": {
      "text/plain": [
       "<selenium.webdriver.remote.webelement.WebElement (session=\"b4a819afdead04e6a363b679b0d2a998\", element=\"d0703539-e1ea-4447-829d-7b413a09af83\")>"
      ]
     },
     "execution_count": 391,
     "metadata": {},
     "output_type": "execute_result"
    }
   ],
   "source": [
    "\n",
    "\n",
    "search_g.send_keys('jobs')\n",
    "search_button=driver.find_element_by_xpath(\"/html/body/div[1]/nav/nav/a[6]\")\n",
    "search_button.click()\n",
    "# Specifying the url of the webpage to be scraped\n",
    "url=\"https://www.ambitionbox.com/jobs\"\n",
    "# Lets open the webpage through our web driver\n",
    "driver.get(url)\n",
    "search_field_designation=driver.find_element_by_xpath(\"/html/body/div/div/div/div[2]/div[1]/div[1]/div/div/div/div/span/input\") #job search bar\n",
    "search_field_designation"
   ]
  },
  {
   "cell_type": "code",
   "execution_count": null,
   "id": "aa6ae9e9",
   "metadata": {},
   "outputs": [],
   "source": []
  },
  {
   "cell_type": "code",
   "execution_count": null,
   "id": "28a45176",
   "metadata": {},
   "outputs": [],
   "source": []
  },
  {
   "cell_type": "code",
   "execution_count": 392,
   "id": "797c2c1c",
   "metadata": {},
   "outputs": [
    {
     "ename": "NoSuchElementException",
     "evalue": "Message: no such element: Unable to locate element: {\"method\":\"xpath\",\"selector\":\"/html/body/div/div/div/div[2]/div[1]/div[2]/div[1]/div/div/div/div[2]/div[1]/i\"}\n  (Session info: chrome=101.0.4951.67)\nStacktrace:\nBacktrace:\n\tOrdinal0 [0x00A6B8F3+2406643]\n\tOrdinal0 [0x009FAF31+1945393]\n\tOrdinal0 [0x008EC748+837448]\n\tOrdinal0 [0x009192E0+1020640]\n\tOrdinal0 [0x0091957B+1021307]\n\tOrdinal0 [0x00946372+1205106]\n\tOrdinal0 [0x009342C4+1131204]\n\tOrdinal0 [0x00944682+1197698]\n\tOrdinal0 [0x00934096+1130646]\n\tOrdinal0 [0x0090E636+976438]\n\tOrdinal0 [0x0090F546+980294]\n\tGetHandleVerifier [0x00CD9612+2498066]\n\tGetHandleVerifier [0x00CCC920+2445600]\n\tGetHandleVerifier [0x00B04F2A+579370]\n\tGetHandleVerifier [0x00B03D36+574774]\n\tOrdinal0 [0x00A01C0B+1973259]\n\tOrdinal0 [0x00A06688+1992328]\n\tOrdinal0 [0x00A06775+1992565]\n\tOrdinal0 [0x00A0F8D1+2029777]\n\tBaseThreadInitThunk [0x7691FA29+25]\n\tRtlGetAppContainerNamedObjectPath [0x77EB7A9E+286]\n\tRtlGetAppContainerNamedObjectPath [0x77EB7A6E+238]\n",
     "output_type": "error",
     "traceback": [
      "\u001b[1;31m---------------------------------------------------------------------------\u001b[0m",
      "\u001b[1;31mNoSuchElementException\u001b[0m                    Traceback (most recent call last)",
      "\u001b[1;32m~\\AppData\\Local\\Temp/ipykernel_8872/1789578776.py\u001b[0m in \u001b[0;36m<module>\u001b[1;34m\u001b[0m\n\u001b[0;32m      3\u001b[0m \u001b[0msearch_button\u001b[0m\u001b[1;33m.\u001b[0m\u001b[0mclick\u001b[0m\u001b[1;33m(\u001b[0m\u001b[1;33m)\u001b[0m\u001b[1;33m\u001b[0m\u001b[1;33m\u001b[0m\u001b[0m\n\u001b[0;32m      4\u001b[0m \u001b[0murl\u001b[0m\u001b[1;33m=\u001b[0m\u001b[1;34m\"https://www.ambitionbox.com/jobs/search?tag=Data%20Scientist\"\u001b[0m\u001b[1;33m\u001b[0m\u001b[1;33m\u001b[0m\u001b[0m\n\u001b[1;32m----> 5\u001b[1;33m \u001b[0msearch_field_loaction\u001b[0m\u001b[1;33m=\u001b[0m\u001b[0mdriver\u001b[0m\u001b[1;33m.\u001b[0m\u001b[0mfind_element_by_xpath\u001b[0m\u001b[1;33m(\u001b[0m\u001b[1;34m'/html/body/div/div/div/div[2]/div[1]/div[2]/div[1]/div/div/div/div[2]/div[1]/i'\u001b[0m\u001b[1;33m)\u001b[0m\u001b[1;33m\u001b[0m\u001b[1;33m\u001b[0m\u001b[0m\n\u001b[0m\u001b[0;32m      6\u001b[0m \u001b[0msearch_button\u001b[0m\u001b[1;33m=\u001b[0m\u001b[0mdriver\u001b[0m\u001b[1;33m.\u001b[0m\u001b[0mfind_element_by_xpath\u001b[0m\u001b[1;33m(\u001b[0m\u001b[1;34m'/html/body/div/div/div/div[2]/div[1]/div[2]/div[1]/div/div/div/div[2]/div[1]/i'\u001b[0m\u001b[1;33m)\u001b[0m\u001b[1;33m\u001b[0m\u001b[1;33m\u001b[0m\u001b[0m\n\u001b[0;32m      7\u001b[0m \u001b[0msearch_button\u001b[0m\u001b[1;33m.\u001b[0m\u001b[0mclick\u001b[0m\u001b[1;33m(\u001b[0m\u001b[1;33m)\u001b[0m\u001b[1;33m\u001b[0m\u001b[1;33m\u001b[0m\u001b[0m\n",
      "\u001b[1;32mC:\\ProgramData\\Anaconda3\\lib\\site-packages\\selenium\\webdriver\\remote\\webdriver.py\u001b[0m in \u001b[0;36mfind_element_by_xpath\u001b[1;34m(self, xpath)\u001b[0m\n\u001b[0;32m    524\u001b[0m             \u001b[0mstacklevel\u001b[0m\u001b[1;33m=\u001b[0m\u001b[1;36m2\u001b[0m\u001b[1;33m,\u001b[0m\u001b[1;33m\u001b[0m\u001b[1;33m\u001b[0m\u001b[0m\n\u001b[0;32m    525\u001b[0m         )\n\u001b[1;32m--> 526\u001b[1;33m         \u001b[1;32mreturn\u001b[0m \u001b[0mself\u001b[0m\u001b[1;33m.\u001b[0m\u001b[0mfind_element\u001b[0m\u001b[1;33m(\u001b[0m\u001b[0mby\u001b[0m\u001b[1;33m=\u001b[0m\u001b[0mBy\u001b[0m\u001b[1;33m.\u001b[0m\u001b[0mXPATH\u001b[0m\u001b[1;33m,\u001b[0m \u001b[0mvalue\u001b[0m\u001b[1;33m=\u001b[0m\u001b[0mxpath\u001b[0m\u001b[1;33m)\u001b[0m\u001b[1;33m\u001b[0m\u001b[1;33m\u001b[0m\u001b[0m\n\u001b[0m\u001b[0;32m    527\u001b[0m \u001b[1;33m\u001b[0m\u001b[0m\n\u001b[0;32m    528\u001b[0m     \u001b[1;32mdef\u001b[0m \u001b[0mfind_elements_by_xpath\u001b[0m\u001b[1;33m(\u001b[0m\u001b[0mself\u001b[0m\u001b[1;33m,\u001b[0m \u001b[0mxpath\u001b[0m\u001b[1;33m)\u001b[0m \u001b[1;33m->\u001b[0m \u001b[0mList\u001b[0m\u001b[1;33m[\u001b[0m\u001b[0mWebElement\u001b[0m\u001b[1;33m]\u001b[0m\u001b[1;33m:\u001b[0m\u001b[1;33m\u001b[0m\u001b[1;33m\u001b[0m\u001b[0m\n",
      "\u001b[1;32mC:\\ProgramData\\Anaconda3\\lib\\site-packages\\selenium\\webdriver\\remote\\webdriver.py\u001b[0m in \u001b[0;36mfind_element\u001b[1;34m(self, by, value)\u001b[0m\n\u001b[0;32m   1249\u001b[0m             \u001b[0mvalue\u001b[0m \u001b[1;33m=\u001b[0m \u001b[1;34m'[name=\"%s\"]'\u001b[0m \u001b[1;33m%\u001b[0m \u001b[0mvalue\u001b[0m\u001b[1;33m\u001b[0m\u001b[1;33m\u001b[0m\u001b[0m\n\u001b[0;32m   1250\u001b[0m \u001b[1;33m\u001b[0m\u001b[0m\n\u001b[1;32m-> 1251\u001b[1;33m         return self.execute(Command.FIND_ELEMENT, {\n\u001b[0m\u001b[0;32m   1252\u001b[0m             \u001b[1;34m'using'\u001b[0m\u001b[1;33m:\u001b[0m \u001b[0mby\u001b[0m\u001b[1;33m,\u001b[0m\u001b[1;33m\u001b[0m\u001b[1;33m\u001b[0m\u001b[0m\n\u001b[0;32m   1253\u001b[0m             'value': value})['value']\n",
      "\u001b[1;32mC:\\ProgramData\\Anaconda3\\lib\\site-packages\\selenium\\webdriver\\remote\\webdriver.py\u001b[0m in \u001b[0;36mexecute\u001b[1;34m(self, driver_command, params)\u001b[0m\n\u001b[0;32m    428\u001b[0m         \u001b[0mresponse\u001b[0m \u001b[1;33m=\u001b[0m \u001b[0mself\u001b[0m\u001b[1;33m.\u001b[0m\u001b[0mcommand_executor\u001b[0m\u001b[1;33m.\u001b[0m\u001b[0mexecute\u001b[0m\u001b[1;33m(\u001b[0m\u001b[0mdriver_command\u001b[0m\u001b[1;33m,\u001b[0m \u001b[0mparams\u001b[0m\u001b[1;33m)\u001b[0m\u001b[1;33m\u001b[0m\u001b[1;33m\u001b[0m\u001b[0m\n\u001b[0;32m    429\u001b[0m         \u001b[1;32mif\u001b[0m \u001b[0mresponse\u001b[0m\u001b[1;33m:\u001b[0m\u001b[1;33m\u001b[0m\u001b[1;33m\u001b[0m\u001b[0m\n\u001b[1;32m--> 430\u001b[1;33m             \u001b[0mself\u001b[0m\u001b[1;33m.\u001b[0m\u001b[0merror_handler\u001b[0m\u001b[1;33m.\u001b[0m\u001b[0mcheck_response\u001b[0m\u001b[1;33m(\u001b[0m\u001b[0mresponse\u001b[0m\u001b[1;33m)\u001b[0m\u001b[1;33m\u001b[0m\u001b[1;33m\u001b[0m\u001b[0m\n\u001b[0m\u001b[0;32m    431\u001b[0m             response['value'] = self._unwrap_value(\n\u001b[0;32m    432\u001b[0m                 response.get('value', None))\n",
      "\u001b[1;32mC:\\ProgramData\\Anaconda3\\lib\\site-packages\\selenium\\webdriver\\remote\\errorhandler.py\u001b[0m in \u001b[0;36mcheck_response\u001b[1;34m(self, response)\u001b[0m\n\u001b[0;32m    245\u001b[0m                 \u001b[0malert_text\u001b[0m \u001b[1;33m=\u001b[0m \u001b[0mvalue\u001b[0m\u001b[1;33m[\u001b[0m\u001b[1;34m'alert'\u001b[0m\u001b[1;33m]\u001b[0m\u001b[1;33m.\u001b[0m\u001b[0mget\u001b[0m\u001b[1;33m(\u001b[0m\u001b[1;34m'text'\u001b[0m\u001b[1;33m)\u001b[0m\u001b[1;33m\u001b[0m\u001b[1;33m\u001b[0m\u001b[0m\n\u001b[0;32m    246\u001b[0m             \u001b[1;32mraise\u001b[0m \u001b[0mexception_class\u001b[0m\u001b[1;33m(\u001b[0m\u001b[0mmessage\u001b[0m\u001b[1;33m,\u001b[0m \u001b[0mscreen\u001b[0m\u001b[1;33m,\u001b[0m \u001b[0mstacktrace\u001b[0m\u001b[1;33m,\u001b[0m \u001b[0malert_text\u001b[0m\u001b[1;33m)\u001b[0m  \u001b[1;31m# type: ignore[call-arg]  # mypy is not smart enough here\u001b[0m\u001b[1;33m\u001b[0m\u001b[1;33m\u001b[0m\u001b[0m\n\u001b[1;32m--> 247\u001b[1;33m         \u001b[1;32mraise\u001b[0m \u001b[0mexception_class\u001b[0m\u001b[1;33m(\u001b[0m\u001b[0mmessage\u001b[0m\u001b[1;33m,\u001b[0m \u001b[0mscreen\u001b[0m\u001b[1;33m,\u001b[0m \u001b[0mstacktrace\u001b[0m\u001b[1;33m)\u001b[0m\u001b[1;33m\u001b[0m\u001b[1;33m\u001b[0m\u001b[0m\n\u001b[0m\u001b[0;32m    248\u001b[0m \u001b[1;33m\u001b[0m\u001b[0m\n\u001b[0;32m    249\u001b[0m     \u001b[1;32mdef\u001b[0m \u001b[0m_value_or_default\u001b[0m\u001b[1;33m(\u001b[0m\u001b[0mself\u001b[0m\u001b[1;33m,\u001b[0m \u001b[0mobj\u001b[0m\u001b[1;33m:\u001b[0m \u001b[0mMapping\u001b[0m\u001b[1;33m[\u001b[0m\u001b[0m_KT\u001b[0m\u001b[1;33m,\u001b[0m \u001b[0m_VT\u001b[0m\u001b[1;33m]\u001b[0m\u001b[1;33m,\u001b[0m \u001b[0mkey\u001b[0m\u001b[1;33m:\u001b[0m \u001b[0m_KT\u001b[0m\u001b[1;33m,\u001b[0m \u001b[0mdefault\u001b[0m\u001b[1;33m:\u001b[0m \u001b[0m_VT\u001b[0m\u001b[1;33m)\u001b[0m \u001b[1;33m->\u001b[0m \u001b[0m_VT\u001b[0m\u001b[1;33m:\u001b[0m\u001b[1;33m\u001b[0m\u001b[1;33m\u001b[0m\u001b[0m\n",
      "\u001b[1;31mNoSuchElementException\u001b[0m: Message: no such element: Unable to locate element: {\"method\":\"xpath\",\"selector\":\"/html/body/div/div/div/div[2]/div[1]/div[2]/div[1]/div/div/div/div[2]/div[1]/i\"}\n  (Session info: chrome=101.0.4951.67)\nStacktrace:\nBacktrace:\n\tOrdinal0 [0x00A6B8F3+2406643]\n\tOrdinal0 [0x009FAF31+1945393]\n\tOrdinal0 [0x008EC748+837448]\n\tOrdinal0 [0x009192E0+1020640]\n\tOrdinal0 [0x0091957B+1021307]\n\tOrdinal0 [0x00946372+1205106]\n\tOrdinal0 [0x009342C4+1131204]\n\tOrdinal0 [0x00944682+1197698]\n\tOrdinal0 [0x00934096+1130646]\n\tOrdinal0 [0x0090E636+976438]\n\tOrdinal0 [0x0090F546+980294]\n\tGetHandleVerifier [0x00CD9612+2498066]\n\tGetHandleVerifier [0x00CCC920+2445600]\n\tGetHandleVerifier [0x00B04F2A+579370]\n\tGetHandleVerifier [0x00B03D36+574774]\n\tOrdinal0 [0x00A01C0B+1973259]\n\tOrdinal0 [0x00A06688+1992328]\n\tOrdinal0 [0x00A06775+1992565]\n\tOrdinal0 [0x00A0F8D1+2029777]\n\tBaseThreadInitThunk [0x7691FA29+25]\n\tRtlGetAppContainerNamedObjectPath [0x77EB7A9E+286]\n\tRtlGetAppContainerNamedObjectPath [0x77EB7A6E+238]\n"
     ]
    }
   ],
   "source": [
    "search_field_designation.send_keys(\"Data Scientist\")\n",
    "search_button=driver.find_element_by_xpath(\"/html/body/div/div/div/div[2]/div[1]/div[1]/div/div/div/button/span\")\n",
    "search_button.click()\n",
    "url=\"https://www.ambitionbox.com/jobs/search?tag=Data%20Scientist\"\n",
    "search_field_loaction=driver.find_element_by_xpath('/html/body/div/div/div/div[2]/div[1]/div[2]/div[1]/div/div/div/div[2]/div[1]/i') \n",
    "search_button=driver.find_element_by_xpath('/html/body/div/div/div/div[2]/div[1]/div[2]/div[1]/div/div/div/div[2]/div[1]/i')\n",
    "search_button.click()\n",
    "select_button=driver.find_element_by_xpath(\"//label[@class='radio-label']\")\n",
    "select_button"
   ]
  },
  {
   "cell_type": "code",
   "execution_count": 393,
   "id": "2a88a6f9",
   "metadata": {},
   "outputs": [
    {
     "data": {
      "text/plain": [
       "[<selenium.webdriver.remote.webelement.WebElement (session=\"b4a819afdead04e6a363b679b0d2a998\", element=\"8c2cf9bd-01e6-41d4-94d5-54a143246d15\")>,\n",
       " <selenium.webdriver.remote.webelement.WebElement (session=\"b4a819afdead04e6a363b679b0d2a998\", element=\"a9423b76-2eff-46bd-9cd3-123231665587\")>,\n",
       " <selenium.webdriver.remote.webelement.WebElement (session=\"b4a819afdead04e6a363b679b0d2a998\", element=\"7bed7bc7-f5b4-47d3-911a-91d255915dfb\")>,\n",
       " <selenium.webdriver.remote.webelement.WebElement (session=\"b4a819afdead04e6a363b679b0d2a998\", element=\"43f3b1d1-b91b-461c-ab3c-1993d51c9138\")>,\n",
       " <selenium.webdriver.remote.webelement.WebElement (session=\"b4a819afdead04e6a363b679b0d2a998\", element=\"adc0c850-7707-43fc-99fc-45590fc4d3af\")>,\n",
       " <selenium.webdriver.remote.webelement.WebElement (session=\"b4a819afdead04e6a363b679b0d2a998\", element=\"79e4415c-fb29-454d-8324-68e3bb548102\")>,\n",
       " <selenium.webdriver.remote.webelement.WebElement (session=\"b4a819afdead04e6a363b679b0d2a998\", element=\"460dfffb-9b9b-4ed5-a699-d1652572feb4\")>,\n",
       " <selenium.webdriver.remote.webelement.WebElement (session=\"b4a819afdead04e6a363b679b0d2a998\", element=\"cc8f1645-ba60-4056-a075-0de08a422590\")>,\n",
       " <selenium.webdriver.remote.webelement.WebElement (session=\"b4a819afdead04e6a363b679b0d2a998\", element=\"da984851-7254-4a53-9180-679abb5eaa0c\")>,\n",
       " <selenium.webdriver.remote.webelement.WebElement (session=\"b4a819afdead04e6a363b679b0d2a998\", element=\"ba2e93b6-5a6f-40ff-8250-75a789591f91\")>]"
      ]
     },
     "execution_count": 393,
     "metadata": {},
     "output_type": "execute_result"
    }
   ],
   "source": [
    "job_titles=[]\n",
    "company_names=[]\n",
    "locations_list=[]\n",
    "experience_list=[]\n",
    "# So lets extract all the tags having the job-titles\n",
    "titles_tags=driver.find_elements_by_xpath(\"//a[@class='title noclick']\")\n",
    "titles_tags[0:10]"
   ]
  },
  {
   "cell_type": "code",
   "execution_count": 394,
   "id": "9b6120d7",
   "metadata": {},
   "outputs": [
    {
     "data": {
      "text/plain": [
       "['', '', '', '', '', '', '', '', '', '']"
      ]
     },
     "execution_count": 394,
     "metadata": {},
     "output_type": "execute_result"
    }
   ],
   "source": [
    "for i in titles_tags:\n",
    "    title=i.text\n",
    "    job_titles.append(title)\n",
    "job_titles[0:10]"
   ]
  },
  {
   "cell_type": "code",
   "execution_count": 395,
   "id": "95d1449b",
   "metadata": {},
   "outputs": [
    {
     "data": {
      "text/plain": [
       "[<selenium.webdriver.remote.webelement.WebElement (session=\"b4a819afdead04e6a363b679b0d2a998\", element=\"97bd3f36-e489-4738-96d4-40d55cb7767f\")>,\n",
       " <selenium.webdriver.remote.webelement.WebElement (session=\"b4a819afdead04e6a363b679b0d2a998\", element=\"fafa8834-74b2-46d6-827f-c988399417c7\")>,\n",
       " <selenium.webdriver.remote.webelement.WebElement (session=\"b4a819afdead04e6a363b679b0d2a998\", element=\"2a29bb87-856f-42ed-844c-ad76a853557e\")>,\n",
       " <selenium.webdriver.remote.webelement.WebElement (session=\"b4a819afdead04e6a363b679b0d2a998\", element=\"bcc9aecc-ce3f-4f60-8128-bb8146fa1f54\")>,\n",
       " <selenium.webdriver.remote.webelement.WebElement (session=\"b4a819afdead04e6a363b679b0d2a998\", element=\"a663215f-ff65-48d2-906e-9efb599971c4\")>,\n",
       " <selenium.webdriver.remote.webelement.WebElement (session=\"b4a819afdead04e6a363b679b0d2a998\", element=\"8c1e0e34-a3a4-4868-8756-9069004dfa44\")>,\n",
       " <selenium.webdriver.remote.webelement.WebElement (session=\"b4a819afdead04e6a363b679b0d2a998\", element=\"3344635d-cd64-4537-809e-d1605a57d6e7\")>,\n",
       " <selenium.webdriver.remote.webelement.WebElement (session=\"b4a819afdead04e6a363b679b0d2a998\", element=\"49975e6a-5dea-4839-9afc-791a2e52835e\")>,\n",
       " <selenium.webdriver.remote.webelement.WebElement (session=\"b4a819afdead04e6a363b679b0d2a998\", element=\"73da014b-5f86-458d-8f08-5b2647a78346\")>,\n",
       " <selenium.webdriver.remote.webelement.WebElement (session=\"b4a819afdead04e6a363b679b0d2a998\", element=\"fa7765e3-f017-4951-a65c-46a892ab2c00\")>]"
      ]
     },
     "execution_count": 395,
     "metadata": {},
     "output_type": "execute_result"
    }
   ],
   "source": [
    "companies_tags=driver.find_elements_by_xpath(\"//p[@class='company body-medium']\")\n",
    "companies_tags[0:10]"
   ]
  },
  {
   "cell_type": "code",
   "execution_count": 396,
   "id": "7e0196b8",
   "metadata": {},
   "outputs": [
    {
     "data": {
      "text/plain": [
       "['', '', '', '', '', '', '', '', '', '']"
      ]
     },
     "execution_count": 396,
     "metadata": {},
     "output_type": "execute_result"
    }
   ],
   "source": [
    "for i in companies_tags:\n",
    "    company_name=i.text\n",
    "    company_names.append(company_name)\n",
    "company_names[0:10]"
   ]
  },
  {
   "cell_type": "code",
   "execution_count": 397,
   "id": "8f064349",
   "metadata": {},
   "outputs": [
    {
     "data": {
      "text/plain": [
       "[<selenium.webdriver.remote.webelement.WebElement (session=\"b4a819afdead04e6a363b679b0d2a998\", element=\"a019e22b-b19c-46db-adf2-1fcdc155718e\")>,\n",
       " <selenium.webdriver.remote.webelement.WebElement (session=\"b4a819afdead04e6a363b679b0d2a998\", element=\"9c44b649-81ba-4558-a511-89b9edf625db\")>,\n",
       " <selenium.webdriver.remote.webelement.WebElement (session=\"b4a819afdead04e6a363b679b0d2a998\", element=\"72cec370-1b7b-4928-ae86-1978dde9747c\")>,\n",
       " <selenium.webdriver.remote.webelement.WebElement (session=\"b4a819afdead04e6a363b679b0d2a998\", element=\"336d67b0-11d7-4103-b036-f5520477ffce\")>,\n",
       " <selenium.webdriver.remote.webelement.WebElement (session=\"b4a819afdead04e6a363b679b0d2a998\", element=\"7cd14eaf-baff-41d8-9276-f4ecfe8f1804\")>,\n",
       " <selenium.webdriver.remote.webelement.WebElement (session=\"b4a819afdead04e6a363b679b0d2a998\", element=\"8c292c75-1110-4886-9147-7eb45fda2d57\")>,\n",
       " <selenium.webdriver.remote.webelement.WebElement (session=\"b4a819afdead04e6a363b679b0d2a998\", element=\"31037174-3ea8-4768-815e-08df8b2e2504\")>,\n",
       " <selenium.webdriver.remote.webelement.WebElement (session=\"b4a819afdead04e6a363b679b0d2a998\", element=\"f9575dda-00e5-4a44-aad6-660111b27254\")>,\n",
       " <selenium.webdriver.remote.webelement.WebElement (session=\"b4a819afdead04e6a363b679b0d2a998\", element=\"d612793f-2cec-4801-b024-8b960d30496c\")>,\n",
       " <selenium.webdriver.remote.webelement.WebElement (session=\"b4a819afdead04e6a363b679b0d2a998\", element=\"e3bfaaf8-b5b1-43cc-9491-15be518984e1\")>]"
      ]
     },
     "execution_count": 397,
     "metadata": {},
     "output_type": "execute_result"
    }
   ],
   "source": [
    "experience_tags=driver.find_elements_by_xpath(\"//p[@class='body-small-l']\")\n",
    "experience_tags[0:10]"
   ]
  },
  {
   "cell_type": "code",
   "execution_count": 398,
   "id": "b6a71e06",
   "metadata": {},
   "outputs": [
    {
     "data": {
      "text/plain": [
       "['', '', '', '', '', '', '', '', '', '']"
      ]
     },
     "execution_count": 398,
     "metadata": {},
     "output_type": "execute_result"
    }
   ],
   "source": [
    "for i in experience_tags:\n",
    "    experience=i.text\n",
    "    experience_list.append(experience)\n",
    "experience_list[0:10]"
   ]
  },
  {
   "cell_type": "code",
   "execution_count": 400,
   "id": "79aa9fcd",
   "metadata": {},
   "outputs": [
    {
     "data": {
      "text/html": [
       "<div>\n",
       "<style scoped>\n",
       "    .dataframe tbody tr th:only-of-type {\n",
       "        vertical-align: middle;\n",
       "    }\n",
       "\n",
       "    .dataframe tbody tr th {\n",
       "        vertical-align: top;\n",
       "    }\n",
       "\n",
       "    .dataframe thead th {\n",
       "        text-align: right;\n",
       "    }\n",
       "</style>\n",
       "<table border=\"1\" class=\"dataframe\">\n",
       "  <thead>\n",
       "    <tr style=\"text-align: right;\">\n",
       "      <th></th>\n",
       "      <th>title</th>\n",
       "      <th>company</th>\n",
       "      <th>experience_required</th>\n",
       "    </tr>\n",
       "  </thead>\n",
       "  <tbody>\n",
       "    <tr>\n",
       "      <th>0</th>\n",
       "      <td></td>\n",
       "      <td></td>\n",
       "      <td></td>\n",
       "    </tr>\n",
       "    <tr>\n",
       "      <th>1</th>\n",
       "      <td></td>\n",
       "      <td></td>\n",
       "      <td></td>\n",
       "    </tr>\n",
       "    <tr>\n",
       "      <th>2</th>\n",
       "      <td></td>\n",
       "      <td></td>\n",
       "      <td></td>\n",
       "    </tr>\n",
       "    <tr>\n",
       "      <th>3</th>\n",
       "      <td></td>\n",
       "      <td></td>\n",
       "      <td></td>\n",
       "    </tr>\n",
       "    <tr>\n",
       "      <th>4</th>\n",
       "      <td></td>\n",
       "      <td></td>\n",
       "      <td></td>\n",
       "    </tr>\n",
       "    <tr>\n",
       "      <th>5</th>\n",
       "      <td></td>\n",
       "      <td></td>\n",
       "      <td></td>\n",
       "    </tr>\n",
       "    <tr>\n",
       "      <th>6</th>\n",
       "      <td></td>\n",
       "      <td></td>\n",
       "      <td></td>\n",
       "    </tr>\n",
       "    <tr>\n",
       "      <th>7</th>\n",
       "      <td></td>\n",
       "      <td></td>\n",
       "      <td></td>\n",
       "    </tr>\n",
       "    <tr>\n",
       "      <th>8</th>\n",
       "      <td></td>\n",
       "      <td></td>\n",
       "      <td></td>\n",
       "    </tr>\n",
       "    <tr>\n",
       "      <th>9</th>\n",
       "      <td></td>\n",
       "      <td></td>\n",
       "      <td></td>\n",
       "    </tr>\n",
       "  </tbody>\n",
       "</table>\n",
       "</div>"
      ],
      "text/plain": [
       "  title company experience_required\n",
       "0                                  \n",
       "1                                  \n",
       "2                                  \n",
       "3                                  \n",
       "4                                  \n",
       "5                                  \n",
       "6                                  \n",
       "7                                  \n",
       "8                                  \n",
       "9                                  "
      ]
     },
     "execution_count": 400,
     "metadata": {},
     "output_type": "execute_result"
    }
   ],
   "source": [
    "jobs=pd.DataFrame({})\n",
    "jobs['title']=job_titles[:10]\n",
    "jobs['company']=company_names[:10]\n",
    "jobs['experience_required']=experience_list[:10]\n",
    "jobs"
   ]
  },
  {
   "cell_type": "markdown",
   "id": "bbd60f3f",
   "metadata": {},
   "source": [
    "# question-10"
   ]
  },
  {
   "cell_type": "code",
   "execution_count": 371,
   "id": "96639b4f",
   "metadata": {},
   "outputs": [],
   "source": [
    "import selenium\n",
    "import pandas as pd\n",
    "from selenium import webdriver\n",
    "import warnings\n",
    "warnings.filterwarnings(\"ignore\")\n",
    "import time\n",
    "driver = webdriver.Chrome(r\"C:\\web driver\\chromedriver.exe\")"
   ]
  },
  {
   "cell_type": "code",
   "execution_count": 372,
   "id": "79254fe0",
   "metadata": {},
   "outputs": [
    {
     "data": {
      "text/plain": [
       "<selenium.webdriver.remote.webelement.WebElement (session=\"241897160d7f244bd5fe76630042d079\", element=\"a9681c2c-261a-4046-9c1e-5f0ef5539f0b\")>"
      ]
     },
     "execution_count": 372,
     "metadata": {},
     "output_type": "execute_result"
    }
   ],
   "source": [
    "driver=webdriver.Chrome(\"chromedriver.exe\")\n",
    "time.sleep(2)\n",
    "driver.get('https://www.ambitionbox.com/')\n",
    "search_g= driver.find_element_by_xpath(\"//a[@class='link salaries']\") \n",
    "search_g"
   ]
  },
  {
   "cell_type": "code",
   "execution_count": 373,
   "id": "ac475e37",
   "metadata": {},
   "outputs": [
    {
     "data": {
      "text/plain": [
       "<selenium.webdriver.remote.webelement.WebElement (session=\"241897160d7f244bd5fe76630042d079\", element=\"3eb49996-dbb8-4bfd-8414-b7f89fec6a73\")>"
      ]
     },
     "execution_count": 373,
     "metadata": {},
     "output_type": "execute_result"
    }
   ],
   "source": [
    "search_g.send_keys('Salaries')\n",
    "search_g.click()\n",
    "search_job_profile=driver.find_element_by_xpath('/html/body/div/div/div/main/section[1]/div[2]/div[1]/span/input')\n",
    "search_job_profile"
   ]
  },
  {
   "cell_type": "code",
   "execution_count": 375,
   "id": "d5f49777",
   "metadata": {},
   "outputs": [
    {
     "ename": "NoSuchElementException",
     "evalue": "Message: no such element: Unable to locate element: {\"method\":\"xpath\",\"selector\":\"//p[@class='tt_text']\"}\n  (Session info: chrome=101.0.4951.67)\nStacktrace:\nBacktrace:\n\tOrdinal0 [0x00A6B8F3+2406643]\n\tOrdinal0 [0x009FAF31+1945393]\n\tOrdinal0 [0x008EC748+837448]\n\tOrdinal0 [0x009192E0+1020640]\n\tOrdinal0 [0x0091957B+1021307]\n\tOrdinal0 [0x00946372+1205106]\n\tOrdinal0 [0x009342C4+1131204]\n\tOrdinal0 [0x00944682+1197698]\n\tOrdinal0 [0x00934096+1130646]\n\tOrdinal0 [0x0090E636+976438]\n\tOrdinal0 [0x0090F546+980294]\n\tGetHandleVerifier [0x00CD9612+2498066]\n\tGetHandleVerifier [0x00CCC920+2445600]\n\tGetHandleVerifier [0x00B04F2A+579370]\n\tGetHandleVerifier [0x00B03D36+574774]\n\tOrdinal0 [0x00A01C0B+1973259]\n\tOrdinal0 [0x00A06688+1992328]\n\tOrdinal0 [0x00A06775+1992565]\n\tOrdinal0 [0x00A0F8D1+2029777]\n\tBaseThreadInitThunk [0x7691FA29+25]\n\tRtlGetAppContainerNamedObjectPath [0x77EB7A9E+286]\n\tRtlGetAppContainerNamedObjectPath [0x77EB7A6E+238]\n",
     "output_type": "error",
     "traceback": [
      "\u001b[1;31m---------------------------------------------------------------------------\u001b[0m",
      "\u001b[1;31mNoSuchElementException\u001b[0m                    Traceback (most recent call last)",
      "\u001b[1;32m~\\AppData\\Local\\Temp/ipykernel_8872/1243186299.py\u001b[0m in \u001b[0;36m<module>\u001b[1;34m\u001b[0m\n\u001b[0;32m      1\u001b[0m \u001b[0msearch_job_profile\u001b[0m\u001b[1;33m.\u001b[0m\u001b[0msend_keys\u001b[0m\u001b[1;33m(\u001b[0m\u001b[1;34m\"Data Scientist\"\u001b[0m\u001b[1;33m)\u001b[0m\u001b[1;33m\u001b[0m\u001b[1;33m\u001b[0m\u001b[0m\n\u001b[0;32m      2\u001b[0m \u001b[0msearch_job_profile\u001b[0m\u001b[1;33m.\u001b[0m\u001b[0mclick\u001b[0m\u001b[1;33m(\u001b[0m\u001b[1;33m)\u001b[0m\u001b[1;33m\u001b[0m\u001b[1;33m\u001b[0m\u001b[0m\n\u001b[1;32m----> 3\u001b[1;33m \u001b[0mselect_button\u001b[0m\u001b[1;33m=\u001b[0m\u001b[0mdriver\u001b[0m\u001b[1;33m.\u001b[0m\u001b[0mfind_element_by_xpath\u001b[0m\u001b[1;33m(\u001b[0m\u001b[1;34m\"//p[@class='tt_text']\"\u001b[0m\u001b[1;33m)\u001b[0m\u001b[1;33m\u001b[0m\u001b[1;33m\u001b[0m\u001b[0m\n\u001b[0m\u001b[0;32m      4\u001b[0m \u001b[0mselect_button\u001b[0m\u001b[1;33m\u001b[0m\u001b[1;33m\u001b[0m\u001b[0m\n",
      "\u001b[1;32mC:\\ProgramData\\Anaconda3\\lib\\site-packages\\selenium\\webdriver\\remote\\webdriver.py\u001b[0m in \u001b[0;36mfind_element_by_xpath\u001b[1;34m(self, xpath)\u001b[0m\n\u001b[0;32m    524\u001b[0m             \u001b[0mstacklevel\u001b[0m\u001b[1;33m=\u001b[0m\u001b[1;36m2\u001b[0m\u001b[1;33m,\u001b[0m\u001b[1;33m\u001b[0m\u001b[1;33m\u001b[0m\u001b[0m\n\u001b[0;32m    525\u001b[0m         )\n\u001b[1;32m--> 526\u001b[1;33m         \u001b[1;32mreturn\u001b[0m \u001b[0mself\u001b[0m\u001b[1;33m.\u001b[0m\u001b[0mfind_element\u001b[0m\u001b[1;33m(\u001b[0m\u001b[0mby\u001b[0m\u001b[1;33m=\u001b[0m\u001b[0mBy\u001b[0m\u001b[1;33m.\u001b[0m\u001b[0mXPATH\u001b[0m\u001b[1;33m,\u001b[0m \u001b[0mvalue\u001b[0m\u001b[1;33m=\u001b[0m\u001b[0mxpath\u001b[0m\u001b[1;33m)\u001b[0m\u001b[1;33m\u001b[0m\u001b[1;33m\u001b[0m\u001b[0m\n\u001b[0m\u001b[0;32m    527\u001b[0m \u001b[1;33m\u001b[0m\u001b[0m\n\u001b[0;32m    528\u001b[0m     \u001b[1;32mdef\u001b[0m \u001b[0mfind_elements_by_xpath\u001b[0m\u001b[1;33m(\u001b[0m\u001b[0mself\u001b[0m\u001b[1;33m,\u001b[0m \u001b[0mxpath\u001b[0m\u001b[1;33m)\u001b[0m \u001b[1;33m->\u001b[0m \u001b[0mList\u001b[0m\u001b[1;33m[\u001b[0m\u001b[0mWebElement\u001b[0m\u001b[1;33m]\u001b[0m\u001b[1;33m:\u001b[0m\u001b[1;33m\u001b[0m\u001b[1;33m\u001b[0m\u001b[0m\n",
      "\u001b[1;32mC:\\ProgramData\\Anaconda3\\lib\\site-packages\\selenium\\webdriver\\remote\\webdriver.py\u001b[0m in \u001b[0;36mfind_element\u001b[1;34m(self, by, value)\u001b[0m\n\u001b[0;32m   1249\u001b[0m             \u001b[0mvalue\u001b[0m \u001b[1;33m=\u001b[0m \u001b[1;34m'[name=\"%s\"]'\u001b[0m \u001b[1;33m%\u001b[0m \u001b[0mvalue\u001b[0m\u001b[1;33m\u001b[0m\u001b[1;33m\u001b[0m\u001b[0m\n\u001b[0;32m   1250\u001b[0m \u001b[1;33m\u001b[0m\u001b[0m\n\u001b[1;32m-> 1251\u001b[1;33m         return self.execute(Command.FIND_ELEMENT, {\n\u001b[0m\u001b[0;32m   1252\u001b[0m             \u001b[1;34m'using'\u001b[0m\u001b[1;33m:\u001b[0m \u001b[0mby\u001b[0m\u001b[1;33m,\u001b[0m\u001b[1;33m\u001b[0m\u001b[1;33m\u001b[0m\u001b[0m\n\u001b[0;32m   1253\u001b[0m             'value': value})['value']\n",
      "\u001b[1;32mC:\\ProgramData\\Anaconda3\\lib\\site-packages\\selenium\\webdriver\\remote\\webdriver.py\u001b[0m in \u001b[0;36mexecute\u001b[1;34m(self, driver_command, params)\u001b[0m\n\u001b[0;32m    428\u001b[0m         \u001b[0mresponse\u001b[0m \u001b[1;33m=\u001b[0m \u001b[0mself\u001b[0m\u001b[1;33m.\u001b[0m\u001b[0mcommand_executor\u001b[0m\u001b[1;33m.\u001b[0m\u001b[0mexecute\u001b[0m\u001b[1;33m(\u001b[0m\u001b[0mdriver_command\u001b[0m\u001b[1;33m,\u001b[0m \u001b[0mparams\u001b[0m\u001b[1;33m)\u001b[0m\u001b[1;33m\u001b[0m\u001b[1;33m\u001b[0m\u001b[0m\n\u001b[0;32m    429\u001b[0m         \u001b[1;32mif\u001b[0m \u001b[0mresponse\u001b[0m\u001b[1;33m:\u001b[0m\u001b[1;33m\u001b[0m\u001b[1;33m\u001b[0m\u001b[0m\n\u001b[1;32m--> 430\u001b[1;33m             \u001b[0mself\u001b[0m\u001b[1;33m.\u001b[0m\u001b[0merror_handler\u001b[0m\u001b[1;33m.\u001b[0m\u001b[0mcheck_response\u001b[0m\u001b[1;33m(\u001b[0m\u001b[0mresponse\u001b[0m\u001b[1;33m)\u001b[0m\u001b[1;33m\u001b[0m\u001b[1;33m\u001b[0m\u001b[0m\n\u001b[0m\u001b[0;32m    431\u001b[0m             response['value'] = self._unwrap_value(\n\u001b[0;32m    432\u001b[0m                 response.get('value', None))\n",
      "\u001b[1;32mC:\\ProgramData\\Anaconda3\\lib\\site-packages\\selenium\\webdriver\\remote\\errorhandler.py\u001b[0m in \u001b[0;36mcheck_response\u001b[1;34m(self, response)\u001b[0m\n\u001b[0;32m    245\u001b[0m                 \u001b[0malert_text\u001b[0m \u001b[1;33m=\u001b[0m \u001b[0mvalue\u001b[0m\u001b[1;33m[\u001b[0m\u001b[1;34m'alert'\u001b[0m\u001b[1;33m]\u001b[0m\u001b[1;33m.\u001b[0m\u001b[0mget\u001b[0m\u001b[1;33m(\u001b[0m\u001b[1;34m'text'\u001b[0m\u001b[1;33m)\u001b[0m\u001b[1;33m\u001b[0m\u001b[1;33m\u001b[0m\u001b[0m\n\u001b[0;32m    246\u001b[0m             \u001b[1;32mraise\u001b[0m \u001b[0mexception_class\u001b[0m\u001b[1;33m(\u001b[0m\u001b[0mmessage\u001b[0m\u001b[1;33m,\u001b[0m \u001b[0mscreen\u001b[0m\u001b[1;33m,\u001b[0m \u001b[0mstacktrace\u001b[0m\u001b[1;33m,\u001b[0m \u001b[0malert_text\u001b[0m\u001b[1;33m)\u001b[0m  \u001b[1;31m# type: ignore[call-arg]  # mypy is not smart enough here\u001b[0m\u001b[1;33m\u001b[0m\u001b[1;33m\u001b[0m\u001b[0m\n\u001b[1;32m--> 247\u001b[1;33m         \u001b[1;32mraise\u001b[0m \u001b[0mexception_class\u001b[0m\u001b[1;33m(\u001b[0m\u001b[0mmessage\u001b[0m\u001b[1;33m,\u001b[0m \u001b[0mscreen\u001b[0m\u001b[1;33m,\u001b[0m \u001b[0mstacktrace\u001b[0m\u001b[1;33m)\u001b[0m\u001b[1;33m\u001b[0m\u001b[1;33m\u001b[0m\u001b[0m\n\u001b[0m\u001b[0;32m    248\u001b[0m \u001b[1;33m\u001b[0m\u001b[0m\n\u001b[0;32m    249\u001b[0m     \u001b[1;32mdef\u001b[0m \u001b[0m_value_or_default\u001b[0m\u001b[1;33m(\u001b[0m\u001b[0mself\u001b[0m\u001b[1;33m,\u001b[0m \u001b[0mobj\u001b[0m\u001b[1;33m:\u001b[0m \u001b[0mMapping\u001b[0m\u001b[1;33m[\u001b[0m\u001b[0m_KT\u001b[0m\u001b[1;33m,\u001b[0m \u001b[0m_VT\u001b[0m\u001b[1;33m]\u001b[0m\u001b[1;33m,\u001b[0m \u001b[0mkey\u001b[0m\u001b[1;33m:\u001b[0m \u001b[0m_KT\u001b[0m\u001b[1;33m,\u001b[0m \u001b[0mdefault\u001b[0m\u001b[1;33m:\u001b[0m \u001b[0m_VT\u001b[0m\u001b[1;33m)\u001b[0m \u001b[1;33m->\u001b[0m \u001b[0m_VT\u001b[0m\u001b[1;33m:\u001b[0m\u001b[1;33m\u001b[0m\u001b[1;33m\u001b[0m\u001b[0m\n",
      "\u001b[1;31mNoSuchElementException\u001b[0m: Message: no such element: Unable to locate element: {\"method\":\"xpath\",\"selector\":\"//p[@class='tt_text']\"}\n  (Session info: chrome=101.0.4951.67)\nStacktrace:\nBacktrace:\n\tOrdinal0 [0x00A6B8F3+2406643]\n\tOrdinal0 [0x009FAF31+1945393]\n\tOrdinal0 [0x008EC748+837448]\n\tOrdinal0 [0x009192E0+1020640]\n\tOrdinal0 [0x0091957B+1021307]\n\tOrdinal0 [0x00946372+1205106]\n\tOrdinal0 [0x009342C4+1131204]\n\tOrdinal0 [0x00944682+1197698]\n\tOrdinal0 [0x00934096+1130646]\n\tOrdinal0 [0x0090E636+976438]\n\tOrdinal0 [0x0090F546+980294]\n\tGetHandleVerifier [0x00CD9612+2498066]\n\tGetHandleVerifier [0x00CCC920+2445600]\n\tGetHandleVerifier [0x00B04F2A+579370]\n\tGetHandleVerifier [0x00B03D36+574774]\n\tOrdinal0 [0x00A01C0B+1973259]\n\tOrdinal0 [0x00A06688+1992328]\n\tOrdinal0 [0x00A06775+1992565]\n\tOrdinal0 [0x00A0F8D1+2029777]\n\tBaseThreadInitThunk [0x7691FA29+25]\n\tRtlGetAppContainerNamedObjectPath [0x77EB7A9E+286]\n\tRtlGetAppContainerNamedObjectPath [0x77EB7A6E+238]\n"
     ]
    }
   ],
   "source": [
    "search_job_profile.send_keys(\"Data Scientist\")\n",
    "search_job_profile.click()\n",
    "select_button=driver.find_element_by_xpath(\"//p[@class='tt_text']\")\n",
    "select_button"
   ]
  },
  {
   "cell_type": "code",
   "execution_count": 376,
   "id": "eb1b9bc8",
   "metadata": {},
   "outputs": [
    {
     "data": {
      "text/plain": [
       "<selenium.webdriver.remote.webelement.WebElement (session=\"241897160d7f244bd5fe76630042d079\", element=\"77afa9e9-a679-4fa9-b6cf-bc13dc4e2570\")>"
      ]
     },
     "execution_count": 376,
     "metadata": {},
     "output_type": "execute_result"
    }
   ],
   "source": [
    "search_job_profile.click()\n",
    "select_button=driver.find_element_by_xpath(\"//div[@class='suggestion_wrap tt-suggestion tt-selectable']\")\n",
    "select_button"
   ]
  },
  {
   "cell_type": "code",
   "execution_count": 377,
   "id": "70b73ec4",
   "metadata": {},
   "outputs": [
    {
     "data": {
      "text/plain": [
       "[<selenium.webdriver.remote.webelement.WebElement (session=\"241897160d7f244bd5fe76630042d079\", element=\"a589a2c0-692a-4097-aa5b-e1825af7c1b2\")>,\n",
       " <selenium.webdriver.remote.webelement.WebElement (session=\"241897160d7f244bd5fe76630042d079\", element=\"58b3c850-538f-4d23-b88d-81249ad385cc\")>,\n",
       " <selenium.webdriver.remote.webelement.WebElement (session=\"241897160d7f244bd5fe76630042d079\", element=\"7137bf25-8f8e-423c-9193-ab120e06d187\")>,\n",
       " <selenium.webdriver.remote.webelement.WebElement (session=\"241897160d7f244bd5fe76630042d079\", element=\"c08e911a-4a07-47a6-8f99-4a659433eb55\")>,\n",
       " <selenium.webdriver.remote.webelement.WebElement (session=\"241897160d7f244bd5fe76630042d079\", element=\"b22e9dc2-81e4-48d6-a112-5bb8c0f07409\")>,\n",
       " <selenium.webdriver.remote.webelement.WebElement (session=\"241897160d7f244bd5fe76630042d079\", element=\"5f12ede3-218f-464e-99e6-1df88d827a32\")>,\n",
       " <selenium.webdriver.remote.webelement.WebElement (session=\"241897160d7f244bd5fe76630042d079\", element=\"bbc81df7-d531-4701-9429-fa697a3d745a\")>,\n",
       " <selenium.webdriver.remote.webelement.WebElement (session=\"241897160d7f244bd5fe76630042d079\", element=\"6523bba5-ee56-401f-9c56-0dcb24d203b7\")>,\n",
       " <selenium.webdriver.remote.webelement.WebElement (session=\"241897160d7f244bd5fe76630042d079\", element=\"a4d30238-0573-40a9-ada2-385a11782f5a\")>,\n",
       " <selenium.webdriver.remote.webelement.WebElement (session=\"241897160d7f244bd5fe76630042d079\", element=\"fb2e8a3f-b7b6-4756-92d9-64814c661dea\")>]"
      ]
     },
     "execution_count": 377,
     "metadata": {},
     "output_type": "execute_result"
    }
   ],
   "source": [
    "search_job_profile.click()\n",
    "company_name=[]\n",
    "total_salary_record=[]\n",
    "average_salary=[]\n",
    "minimum_salary=[]\n",
    "maximum_salary=[]\n",
    "experience_required=[]\n",
    "companies_tags=driver.find_elements_by_xpath(\"//div[@class='name']\")\n",
    "companies_tags[0:10]"
   ]
  },
  {
   "cell_type": "code",
   "execution_count": 378,
   "id": "c3fc5269",
   "metadata": {},
   "outputs": [
    {
     "ename": "AttributeError",
     "evalue": "'str' object has no attribute 'append'",
     "output_type": "error",
     "traceback": [
      "\u001b[1;31m---------------------------------------------------------------------------\u001b[0m",
      "\u001b[1;31mAttributeError\u001b[0m                            Traceback (most recent call last)",
      "\u001b[1;32m~\\AppData\\Local\\Temp/ipykernel_8872/1597942615.py\u001b[0m in \u001b[0;36m<module>\u001b[1;34m\u001b[0m\n\u001b[0;32m      1\u001b[0m \u001b[1;32mfor\u001b[0m \u001b[0mi\u001b[0m \u001b[1;32min\u001b[0m \u001b[0mcompanies_tags\u001b[0m\u001b[1;33m:\u001b[0m\u001b[1;33m\u001b[0m\u001b[1;33m\u001b[0m\u001b[0m\n\u001b[0;32m      2\u001b[0m     \u001b[0mcompany_names\u001b[0m\u001b[1;33m=\u001b[0m\u001b[0mi\u001b[0m\u001b[1;33m.\u001b[0m\u001b[0mtext\u001b[0m\u001b[1;33m\u001b[0m\u001b[1;33m\u001b[0m\u001b[0m\n\u001b[1;32m----> 3\u001b[1;33m     \u001b[0mcompany_names\u001b[0m\u001b[1;33m.\u001b[0m\u001b[0mappend\u001b[0m\u001b[1;33m(\u001b[0m\u001b[0mcompany_name\u001b[0m\u001b[1;33m)\u001b[0m\u001b[1;33m\u001b[0m\u001b[1;33m\u001b[0m\u001b[0m\n\u001b[0m\u001b[0;32m      4\u001b[0m \u001b[0mcompany_names\u001b[0m\u001b[1;33m[\u001b[0m\u001b[1;36m0\u001b[0m\u001b[1;33m:\u001b[0m\u001b[1;36m10\u001b[0m\u001b[1;33m]\u001b[0m\u001b[1;33m\u001b[0m\u001b[1;33m\u001b[0m\u001b[0m\n",
      "\u001b[1;31mAttributeError\u001b[0m: 'str' object has no attribute 'append'"
     ]
    }
   ],
   "source": [
    "for i in companies_tags:\n",
    "    company_names=i.text\n",
    "    company_names.append(company_name)\n",
    "company_names[0:10]"
   ]
  },
  {
   "cell_type": "code",
   "execution_count": 379,
   "id": "7504a7dd",
   "metadata": {},
   "outputs": [
    {
     "data": {
      "text/plain": [
       "[<selenium.webdriver.remote.webelement.WebElement (session=\"241897160d7f244bd5fe76630042d079\", element=\"d066e381-feb2-4a0b-a4ab-1c9085957deb\")>,\n",
       " <selenium.webdriver.remote.webelement.WebElement (session=\"241897160d7f244bd5fe76630042d079\", element=\"07affa0b-10f6-45bd-a8a7-1f2d9e514ccc\")>,\n",
       " <selenium.webdriver.remote.webelement.WebElement (session=\"241897160d7f244bd5fe76630042d079\", element=\"6b8bac4e-4ad4-4745-94fb-8541eee2eea0\")>,\n",
       " <selenium.webdriver.remote.webelement.WebElement (session=\"241897160d7f244bd5fe76630042d079\", element=\"b661bf6b-adb8-40e2-af13-a6dbe203810c\")>,\n",
       " <selenium.webdriver.remote.webelement.WebElement (session=\"241897160d7f244bd5fe76630042d079\", element=\"845b87dd-5302-43af-9fb3-2720375077a3\")>,\n",
       " <selenium.webdriver.remote.webelement.WebElement (session=\"241897160d7f244bd5fe76630042d079\", element=\"a487f1a1-52f9-4f27-861f-b8ef9b810de0\")>,\n",
       " <selenium.webdriver.remote.webelement.WebElement (session=\"241897160d7f244bd5fe76630042d079\", element=\"eb7abb25-fc14-4ed7-8e68-d3086a8ae116\")>,\n",
       " <selenium.webdriver.remote.webelement.WebElement (session=\"241897160d7f244bd5fe76630042d079\", element=\"954b2c97-8499-4891-b59d-924f7768b099\")>,\n",
       " <selenium.webdriver.remote.webelement.WebElement (session=\"241897160d7f244bd5fe76630042d079\", element=\"8671609e-0262-4b05-bc7c-4aa206b8aa4b\")>,\n",
       " <selenium.webdriver.remote.webelement.WebElement (session=\"241897160d7f244bd5fe76630042d079\", element=\"6a07d8b4-a3ec-46cf-a3b1-039fcda8cfeb\")>]"
      ]
     },
     "execution_count": 379,
     "metadata": {},
     "output_type": "execute_result"
    }
   ],
   "source": [
    "salary_tags=driver.find_elements_by_xpath(\"//p[@class='averageCtc']\")\n",
    "salary_tags[0:10]"
   ]
  },
  {
   "cell_type": "code",
   "execution_count": 380,
   "id": "ffdb324b",
   "metadata": {},
   "outputs": [
    {
     "data": {
      "text/plain": [
       "['₹ 33.1L',\n",
       " '₹ 24.7L',\n",
       " '₹ 23.7L',\n",
       " '₹ 22.7L',\n",
       " '₹ 21.0L',\n",
       " '₹ 20.6L',\n",
       " '₹ 20.4L',\n",
       " '₹ 20.2L',\n",
       " '₹ 20.2L',\n",
       " '₹ 19.8L']"
      ]
     },
     "execution_count": 380,
     "metadata": {},
     "output_type": "execute_result"
    }
   ],
   "source": [
    "for i in salary_tags :\n",
    "    salary=i.text\n",
    "    total_salary_record.append(salary)\n",
    "total_salary_record[0:10]"
   ]
  },
  {
   "cell_type": "code",
   "execution_count": 381,
   "id": "9d911bee",
   "metadata": {},
   "outputs": [
    {
     "data": {
      "text/plain": [
       "[<selenium.webdriver.remote.webelement.WebElement (session=\"241897160d7f244bd5fe76630042d079\", element=\"406e3a20-ab97-4604-ad33-2af3c6c61f4e\")>,\n",
       " <selenium.webdriver.remote.webelement.WebElement (session=\"241897160d7f244bd5fe76630042d079\", element=\"1b6e0de3-d78b-4b2b-9525-fb7338d79ebb\")>,\n",
       " <selenium.webdriver.remote.webelement.WebElement (session=\"241897160d7f244bd5fe76630042d079\", element=\"beff57b9-ed95-4d96-938d-cabf9cd292a2\")>,\n",
       " <selenium.webdriver.remote.webelement.WebElement (session=\"241897160d7f244bd5fe76630042d079\", element=\"161d234c-2c13-49ca-b5ee-2865e24e80de\")>,\n",
       " <selenium.webdriver.remote.webelement.WebElement (session=\"241897160d7f244bd5fe76630042d079\", element=\"5b8dc71f-0eb6-476d-86fe-dcadde4a542f\")>,\n",
       " <selenium.webdriver.remote.webelement.WebElement (session=\"241897160d7f244bd5fe76630042d079\", element=\"8f3f8693-353e-4323-9a76-1f860865b8f9\")>,\n",
       " <selenium.webdriver.remote.webelement.WebElement (session=\"241897160d7f244bd5fe76630042d079\", element=\"cc14b829-4969-49b5-8acd-093789421ad8\")>,\n",
       " <selenium.webdriver.remote.webelement.WebElement (session=\"241897160d7f244bd5fe76630042d079\", element=\"8c7a63e0-dc5e-4500-a03f-1c06114ddccc\")>,\n",
       " <selenium.webdriver.remote.webelement.WebElement (session=\"241897160d7f244bd5fe76630042d079\", element=\"64410e3c-6fc1-4b67-a218-91b9cffe9ba3\")>,\n",
       " <selenium.webdriver.remote.webelement.WebElement (session=\"241897160d7f244bd5fe76630042d079\", element=\"a00d0ca3-1ef5-46eb-a8c7-cd78427746cf\")>]"
      ]
     },
     "execution_count": 381,
     "metadata": {},
     "output_type": "execute_result"
    }
   ],
   "source": [
    "salary_tags=driver.find_elements_by_xpath(\"//div[@class='value body-medium']\")\n",
    "salary_tags[0:10]"
   ]
  },
  {
   "cell_type": "code",
   "execution_count": 382,
   "id": "8996fe24",
   "metadata": {},
   "outputs": [
    {
     "data": {
      "text/plain": [
       "['₹ 10.4L',\n",
       " '₹ 97.0L',\n",
       " '₹ 10.7L',\n",
       " '₹ 38.0L',\n",
       " '₹ 13.0L',\n",
       " '₹ 45.0L',\n",
       " '₹ 12.0L',\n",
       " '₹ 34.0L',\n",
       " '₹ 12.0L',\n",
       " '₹ 33.0L']"
      ]
     },
     "execution_count": 382,
     "metadata": {},
     "output_type": "execute_result"
    }
   ],
   "source": [
    "for i in salary_tags :\n",
    "    salary=i.text\n",
    "    minimum_salary.append(salary)\n",
    "minimum_salary[0:10]"
   ]
  },
  {
   "cell_type": "code",
   "execution_count": 383,
   "id": "50816971",
   "metadata": {},
   "outputs": [
    {
     "data": {
      "text/plain": [
       "[<selenium.webdriver.remote.webelement.WebElement (session=\"241897160d7f244bd5fe76630042d079\", element=\"406e3a20-ab97-4604-ad33-2af3c6c61f4e\")>,\n",
       " <selenium.webdriver.remote.webelement.WebElement (session=\"241897160d7f244bd5fe76630042d079\", element=\"1b6e0de3-d78b-4b2b-9525-fb7338d79ebb\")>,\n",
       " <selenium.webdriver.remote.webelement.WebElement (session=\"241897160d7f244bd5fe76630042d079\", element=\"beff57b9-ed95-4d96-938d-cabf9cd292a2\")>,\n",
       " <selenium.webdriver.remote.webelement.WebElement (session=\"241897160d7f244bd5fe76630042d079\", element=\"161d234c-2c13-49ca-b5ee-2865e24e80de\")>,\n",
       " <selenium.webdriver.remote.webelement.WebElement (session=\"241897160d7f244bd5fe76630042d079\", element=\"5b8dc71f-0eb6-476d-86fe-dcadde4a542f\")>,\n",
       " <selenium.webdriver.remote.webelement.WebElement (session=\"241897160d7f244bd5fe76630042d079\", element=\"8f3f8693-353e-4323-9a76-1f860865b8f9\")>,\n",
       " <selenium.webdriver.remote.webelement.WebElement (session=\"241897160d7f244bd5fe76630042d079\", element=\"cc14b829-4969-49b5-8acd-093789421ad8\")>,\n",
       " <selenium.webdriver.remote.webelement.WebElement (session=\"241897160d7f244bd5fe76630042d079\", element=\"8c7a63e0-dc5e-4500-a03f-1c06114ddccc\")>,\n",
       " <selenium.webdriver.remote.webelement.WebElement (session=\"241897160d7f244bd5fe76630042d079\", element=\"64410e3c-6fc1-4b67-a218-91b9cffe9ba3\")>,\n",
       " <selenium.webdriver.remote.webelement.WebElement (session=\"241897160d7f244bd5fe76630042d079\", element=\"a00d0ca3-1ef5-46eb-a8c7-cd78427746cf\")>]"
      ]
     },
     "execution_count": 383,
     "metadata": {},
     "output_type": "execute_result"
    }
   ],
   "source": [
    "salary_tags=driver.find_elements_by_xpath(\"//div[@class='value body-medium']\")\n",
    "salary_tags[0:10]"
   ]
  },
  {
   "cell_type": "code",
   "execution_count": 384,
   "id": "d376d069",
   "metadata": {},
   "outputs": [
    {
     "data": {
      "text/plain": [
       "['₹ 10.4L',\n",
       " '₹ 97.0L',\n",
       " '₹ 10.7L',\n",
       " '₹ 38.0L',\n",
       " '₹ 13.0L',\n",
       " '₹ 45.0L',\n",
       " '₹ 12.0L',\n",
       " '₹ 34.0L',\n",
       " '₹ 12.0L',\n",
       " '₹ 33.0L']"
      ]
     },
     "execution_count": 384,
     "metadata": {},
     "output_type": "execute_result"
    }
   ],
   "source": [
    "for i in salary_tags :\n",
    "    salary=i.text\n",
    "    maximum_salary.append(salary)\n",
    "maximum_salary[0:10]"
   ]
  },
  {
   "cell_type": "code",
   "execution_count": 385,
   "id": "e6cde441",
   "metadata": {},
   "outputs": [
    {
     "data": {
      "text/plain": [
       "[<selenium.webdriver.remote.webelement.WebElement (session=\"241897160d7f244bd5fe76630042d079\", element=\"e314b14d-33ca-4432-8fe4-9e215e732825\")>,\n",
       " <selenium.webdriver.remote.webelement.WebElement (session=\"241897160d7f244bd5fe76630042d079\", element=\"f5052e74-17f8-46ab-8098-42247b7672d5\")>,\n",
       " <selenium.webdriver.remote.webelement.WebElement (session=\"241897160d7f244bd5fe76630042d079\", element=\"075b3e6e-4825-445c-9776-85cbb1cd75ae\")>,\n",
       " <selenium.webdriver.remote.webelement.WebElement (session=\"241897160d7f244bd5fe76630042d079\", element=\"d854a72f-9405-4e56-a0d1-098e73606f6a\")>,\n",
       " <selenium.webdriver.remote.webelement.WebElement (session=\"241897160d7f244bd5fe76630042d079\", element=\"4a0d74bd-a960-499f-b629-00dc909b698c\")>,\n",
       " <selenium.webdriver.remote.webelement.WebElement (session=\"241897160d7f244bd5fe76630042d079\", element=\"bc5506a2-45ac-40f2-9a7a-db96925bfcf2\")>,\n",
       " <selenium.webdriver.remote.webelement.WebElement (session=\"241897160d7f244bd5fe76630042d079\", element=\"7ca5dcd3-135a-4524-b068-591e71ba2655\")>,\n",
       " <selenium.webdriver.remote.webelement.WebElement (session=\"241897160d7f244bd5fe76630042d079\", element=\"4e79faa9-3bc5-4bf5-94bc-88a496f787cc\")>,\n",
       " <selenium.webdriver.remote.webelement.WebElement (session=\"241897160d7f244bd5fe76630042d079\", element=\"ea3377ac-2437-4c73-b7f9-6144bf278525\")>,\n",
       " <selenium.webdriver.remote.webelement.WebElement (session=\"241897160d7f244bd5fe76630042d079\", element=\"3c6f167c-c5e8-4852-868d-f1216b5ced78\")>]"
      ]
     },
     "execution_count": 385,
     "metadata": {},
     "output_type": "execute_result"
    }
   ],
   "source": [
    "experience_tags=driver.find_elements_by_xpath(\"//div[@class='salaries sbold-list-header']\")\n",
    "experience_tags[0:10]"
   ]
  },
  {
   "cell_type": "code",
   "execution_count": 386,
   "id": "f8e407f2",
   "metadata": {},
   "outputs": [
    {
     "data": {
      "text/plain": [
       "['Software Engineer\\n . \\n1-4 yrs exp',\n",
       " 'Software Engineer\\n . \\n3 yrs exp',\n",
       " 'Software Engineer\\n . \\n1-4 yrs exp',\n",
       " 'Software Engineer\\n . \\n2 yrs exp',\n",
       " 'Software Engineer\\n . \\n2-4 yrs exp',\n",
       " 'Software Engineer\\n . \\n1-4 yrs exp',\n",
       " 'Software Engineer\\n . \\n1-4 yrs exp',\n",
       " 'Software Engineer\\n . \\n1-2 yrs exp',\n",
       " 'Software Engineer\\n . \\n2-4 yrs exp',\n",
       " 'Software Engineer\\n . \\n1-4 yrs exp']"
      ]
     },
     "execution_count": 386,
     "metadata": {},
     "output_type": "execute_result"
    }
   ],
   "source": [
    "for i in experience_tags:\n",
    "    experience=i.text\n",
    "    experience_required.append(experience)\n",
    "experience_required[0:10]"
   ]
  },
  {
   "cell_type": "code",
   "execution_count": 387,
   "id": "3770ffcb",
   "metadata": {},
   "outputs": [
    {
     "data": {
      "text/html": [
       "<div>\n",
       "<style scoped>\n",
       "    .dataframe tbody tr th:only-of-type {\n",
       "        vertical-align: middle;\n",
       "    }\n",
       "\n",
       "    .dataframe tbody tr th {\n",
       "        vertical-align: top;\n",
       "    }\n",
       "\n",
       "    .dataframe thead th {\n",
       "        text-align: right;\n",
       "    }\n",
       "</style>\n",
       "<table border=\"1\" class=\"dataframe\">\n",
       "  <thead>\n",
       "    <tr style=\"text-align: right;\">\n",
       "      <th></th>\n",
       "      <th>Total Salary Record</th>\n",
       "      <th>Minimum Salary</th>\n",
       "      <th>Maximum Salary</th>\n",
       "      <th>Experience</th>\n",
       "    </tr>\n",
       "  </thead>\n",
       "  <tbody>\n",
       "    <tr>\n",
       "      <th>0</th>\n",
       "      <td>₹ 33.1L</td>\n",
       "      <td>₹ 10.4L</td>\n",
       "      <td>₹ 10.4L</td>\n",
       "      <td>Software Engineer\\n . \\n1-4 yrs exp</td>\n",
       "    </tr>\n",
       "    <tr>\n",
       "      <th>1</th>\n",
       "      <td>₹ 24.7L</td>\n",
       "      <td>₹ 97.0L</td>\n",
       "      <td>₹ 97.0L</td>\n",
       "      <td>Software Engineer\\n . \\n3 yrs exp</td>\n",
       "    </tr>\n",
       "    <tr>\n",
       "      <th>2</th>\n",
       "      <td>₹ 23.7L</td>\n",
       "      <td>₹ 10.7L</td>\n",
       "      <td>₹ 10.7L</td>\n",
       "      <td>Software Engineer\\n . \\n1-4 yrs exp</td>\n",
       "    </tr>\n",
       "    <tr>\n",
       "      <th>3</th>\n",
       "      <td>₹ 22.7L</td>\n",
       "      <td>₹ 38.0L</td>\n",
       "      <td>₹ 38.0L</td>\n",
       "      <td>Software Engineer\\n . \\n2 yrs exp</td>\n",
       "    </tr>\n",
       "    <tr>\n",
       "      <th>4</th>\n",
       "      <td>₹ 21.0L</td>\n",
       "      <td>₹ 13.0L</td>\n",
       "      <td>₹ 13.0L</td>\n",
       "      <td>Software Engineer\\n . \\n2-4 yrs exp</td>\n",
       "    </tr>\n",
       "    <tr>\n",
       "      <th>5</th>\n",
       "      <td>₹ 20.6L</td>\n",
       "      <td>₹ 45.0L</td>\n",
       "      <td>₹ 45.0L</td>\n",
       "      <td>Software Engineer\\n . \\n1-4 yrs exp</td>\n",
       "    </tr>\n",
       "    <tr>\n",
       "      <th>6</th>\n",
       "      <td>₹ 20.4L</td>\n",
       "      <td>₹ 12.0L</td>\n",
       "      <td>₹ 12.0L</td>\n",
       "      <td>Software Engineer\\n . \\n1-4 yrs exp</td>\n",
       "    </tr>\n",
       "    <tr>\n",
       "      <th>7</th>\n",
       "      <td>₹ 20.2L</td>\n",
       "      <td>₹ 34.0L</td>\n",
       "      <td>₹ 34.0L</td>\n",
       "      <td>Software Engineer\\n . \\n1-2 yrs exp</td>\n",
       "    </tr>\n",
       "    <tr>\n",
       "      <th>8</th>\n",
       "      <td>₹ 20.2L</td>\n",
       "      <td>₹ 12.0L</td>\n",
       "      <td>₹ 12.0L</td>\n",
       "      <td>Software Engineer\\n . \\n2-4 yrs exp</td>\n",
       "    </tr>\n",
       "    <tr>\n",
       "      <th>9</th>\n",
       "      <td>₹ 19.8L</td>\n",
       "      <td>₹ 33.0L</td>\n",
       "      <td>₹ 33.0L</td>\n",
       "      <td>Software Engineer\\n . \\n1-4 yrs exp</td>\n",
       "    </tr>\n",
       "  </tbody>\n",
       "</table>\n",
       "</div>"
      ],
      "text/plain": [
       "  Total Salary Record Minimum Salary Maximum Salary  \\\n",
       "0             ₹ 33.1L        ₹ 10.4L        ₹ 10.4L   \n",
       "1             ₹ 24.7L        ₹ 97.0L        ₹ 97.0L   \n",
       "2             ₹ 23.7L        ₹ 10.7L        ₹ 10.7L   \n",
       "3             ₹ 22.7L        ₹ 38.0L        ₹ 38.0L   \n",
       "4             ₹ 21.0L        ₹ 13.0L        ₹ 13.0L   \n",
       "5             ₹ 20.6L        ₹ 45.0L        ₹ 45.0L   \n",
       "6             ₹ 20.4L        ₹ 12.0L        ₹ 12.0L   \n",
       "7             ₹ 20.2L        ₹ 34.0L        ₹ 34.0L   \n",
       "8             ₹ 20.2L        ₹ 12.0L        ₹ 12.0L   \n",
       "9             ₹ 19.8L        ₹ 33.0L        ₹ 33.0L   \n",
       "\n",
       "                            Experience  \n",
       "0  Software Engineer\\n . \\n1-4 yrs exp  \n",
       "1    Software Engineer\\n . \\n3 yrs exp  \n",
       "2  Software Engineer\\n . \\n1-4 yrs exp  \n",
       "3    Software Engineer\\n . \\n2 yrs exp  \n",
       "4  Software Engineer\\n . \\n2-4 yrs exp  \n",
       "5  Software Engineer\\n . \\n1-4 yrs exp  \n",
       "6  Software Engineer\\n . \\n1-4 yrs exp  \n",
       "7  Software Engineer\\n . \\n1-2 yrs exp  \n",
       "8  Software Engineer\\n . \\n2-4 yrs exp  \n",
       "9  Software Engineer\\n . \\n1-4 yrs exp  "
      ]
     },
     "execution_count": 387,
     "metadata": {},
     "output_type": "execute_result"
    }
   ],
   "source": [
    "jobs=pd.DataFrame({})\n",
    "jobs['Total Salary Record']=total_salary_record[:10]\n",
    "jobs['Minimum Salary']=minimum_salary[:10]\n",
    "jobs['Maximum Salary']=maximum_salary[:10]\n",
    "jobs['Experience']=experience_required[:10]\n",
    "jobs"
   ]
  },
  {
   "cell_type": "code",
   "execution_count": null,
   "id": "563be0f0",
   "metadata": {},
   "outputs": [],
   "source": []
  }
 ],
 "metadata": {
  "kernelspec": {
   "display_name": "Python 3 (ipykernel)",
   "language": "python",
   "name": "python3"
  },
  "language_info": {
   "codemirror_mode": {
    "name": "ipython",
    "version": 3
   },
   "file_extension": ".py",
   "mimetype": "text/x-python",
   "name": "python",
   "nbconvert_exporter": "python",
   "pygments_lexer": "ipython3",
   "version": "3.9.7"
  }
 },
 "nbformat": 4,
 "nbformat_minor": 5
}
